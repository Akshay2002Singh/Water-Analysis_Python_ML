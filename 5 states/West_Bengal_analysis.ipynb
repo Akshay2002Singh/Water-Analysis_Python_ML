{
 "cells": [
  {
   "cell_type": "markdown",
   "metadata": {},
   "source": [
    "# **ML on Andhra Pradesh Data**"
   ]
  },
  {
   "cell_type": "code",
   "execution_count": 1,
   "metadata": {},
   "outputs": [],
   "source": [
    "import pandas as pd\n",
    "import numpy as np"
   ]
  },
  {
   "cell_type": "code",
   "execution_count": 2,
   "metadata": {},
   "outputs": [],
   "source": [
    "# data = pd.read_excel(\"West_Bengal.xlsx\",sheet_name=\"Sheet1\")"
   ]
  },
  {
   "cell_type": "code",
   "execution_count": 3,
   "metadata": {},
   "outputs": [],
   "source": [
    "# data.head()"
   ]
  },
  {
   "cell_type": "code",
   "execution_count": 4,
   "metadata": {},
   "outputs": [],
   "source": [
    "# data = data.filter(['PH','EC','TOT_ALKALINITY','CA','MG','NA','BICARBONATE','FLUORIDE'], axis=1)"
   ]
  },
  {
   "cell_type": "code",
   "execution_count": 5,
   "metadata": {},
   "outputs": [],
   "source": [
    "# data.to_excel(\"West_Bengal_filter.xlsx\",sheet_name='Sheet1',index=False)"
   ]
  },
  {
   "cell_type": "code",
   "execution_count": 6,
   "metadata": {},
   "outputs": [],
   "source": [
    "data = pd.read_excel(\"West_Bengal_filter.xlsx\",sheet_name=\"Sheet1\")"
   ]
  },
  {
   "cell_type": "code",
   "execution_count": 7,
   "metadata": {},
   "outputs": [
    {
     "data": {
      "text/html": [
       "<div>\n",
       "<style scoped>\n",
       "    .dataframe tbody tr th:only-of-type {\n",
       "        vertical-align: middle;\n",
       "    }\n",
       "\n",
       "    .dataframe tbody tr th {\n",
       "        vertical-align: top;\n",
       "    }\n",
       "\n",
       "    .dataframe thead th {\n",
       "        text-align: right;\n",
       "    }\n",
       "</style>\n",
       "<table border=\"1\" class=\"dataframe\">\n",
       "  <thead>\n",
       "    <tr style=\"text-align: right;\">\n",
       "      <th></th>\n",
       "      <th>PH</th>\n",
       "      <th>EC</th>\n",
       "      <th>TOT_ALKALINITY</th>\n",
       "      <th>CA</th>\n",
       "      <th>MG</th>\n",
       "      <th>NA</th>\n",
       "      <th>BICARBONATE</th>\n",
       "      <th>FLUORIDE</th>\n",
       "    </tr>\n",
       "  </thead>\n",
       "  <tbody>\n",
       "    <tr>\n",
       "      <th>0</th>\n",
       "      <td>7.90</td>\n",
       "      <td>482.0</td>\n",
       "      <td>180.0</td>\n",
       "      <td>44.0</td>\n",
       "      <td>19.44</td>\n",
       "      <td>21.0</td>\n",
       "      <td>219.6</td>\n",
       "      <td>0.13</td>\n",
       "    </tr>\n",
       "    <tr>\n",
       "      <th>1</th>\n",
       "      <td>7.56</td>\n",
       "      <td>822.0</td>\n",
       "      <td>185.0</td>\n",
       "      <td>40.0</td>\n",
       "      <td>0.00</td>\n",
       "      <td>104.0</td>\n",
       "      <td>225.7</td>\n",
       "      <td>0.12</td>\n",
       "    </tr>\n",
       "    <tr>\n",
       "      <th>2</th>\n",
       "      <td>7.65</td>\n",
       "      <td>556.0</td>\n",
       "      <td>130.0</td>\n",
       "      <td>50.0</td>\n",
       "      <td>14.58</td>\n",
       "      <td>40.0</td>\n",
       "      <td>158.6</td>\n",
       "      <td>0.09</td>\n",
       "    </tr>\n",
       "    <tr>\n",
       "      <th>3</th>\n",
       "      <td>7.55</td>\n",
       "      <td>1675.0</td>\n",
       "      <td>430.0</td>\n",
       "      <td>146.0</td>\n",
       "      <td>29.16</td>\n",
       "      <td>165.0</td>\n",
       "      <td>524.6</td>\n",
       "      <td>0.18</td>\n",
       "    </tr>\n",
       "    <tr>\n",
       "      <th>4</th>\n",
       "      <td>7.93</td>\n",
       "      <td>1086.0</td>\n",
       "      <td>180.0</td>\n",
       "      <td>92.0</td>\n",
       "      <td>43.74</td>\n",
       "      <td>55.0</td>\n",
       "      <td>219.6</td>\n",
       "      <td>0.16</td>\n",
       "    </tr>\n",
       "  </tbody>\n",
       "</table>\n",
       "</div>"
      ],
      "text/plain": [
       "     PH      EC  TOT_ALKALINITY     CA     MG     NA  BICARBONATE  FLUORIDE\n",
       "0  7.90   482.0           180.0   44.0  19.44   21.0        219.6      0.13\n",
       "1  7.56   822.0           185.0   40.0   0.00  104.0        225.7      0.12\n",
       "2  7.65   556.0           130.0   50.0  14.58   40.0        158.6      0.09\n",
       "3  7.55  1675.0           430.0  146.0  29.16  165.0        524.6      0.18\n",
       "4  7.93  1086.0           180.0   92.0  43.74   55.0        219.6      0.16"
      ]
     },
     "execution_count": 7,
     "metadata": {},
     "output_type": "execute_result"
    }
   ],
   "source": [
    "data.head()"
   ]
  },
  {
   "cell_type": "code",
   "execution_count": 8,
   "metadata": {},
   "outputs": [
    {
     "data": {
      "text/plain": [
       "PH                1573\n",
       "EC                1573\n",
       "TOT_ALKALINITY    1573\n",
       "CA                1573\n",
       "MG                1573\n",
       "NA                1573\n",
       "BICARBONATE       1573\n",
       "FLUORIDE          1573\n",
       "dtype: int64"
      ]
     },
     "execution_count": 8,
     "metadata": {},
     "output_type": "execute_result"
    }
   ],
   "source": [
    "data = data.dropna(axis=0)\n",
    "data.count()"
   ]
  },
  {
   "cell_type": "code",
   "execution_count": 9,
   "metadata": {},
   "outputs": [],
   "source": [
    "data = data.astype(float)"
   ]
  },
  {
   "cell_type": "code",
   "execution_count": 10,
   "metadata": {},
   "outputs": [
    {
     "data": {
      "text/html": [
       "<div>\n",
       "<style scoped>\n",
       "    .dataframe tbody tr th:only-of-type {\n",
       "        vertical-align: middle;\n",
       "    }\n",
       "\n",
       "    .dataframe tbody tr th {\n",
       "        vertical-align: top;\n",
       "    }\n",
       "\n",
       "    .dataframe thead th {\n",
       "        text-align: right;\n",
       "    }\n",
       "</style>\n",
       "<table border=\"1\" class=\"dataframe\">\n",
       "  <thead>\n",
       "    <tr style=\"text-align: right;\">\n",
       "      <th></th>\n",
       "      <th>PH</th>\n",
       "      <th>EC</th>\n",
       "      <th>TOT_ALKALINITY</th>\n",
       "      <th>CA</th>\n",
       "      <th>MG</th>\n",
       "      <th>NA</th>\n",
       "      <th>BICARBONATE</th>\n",
       "      <th>FLUORIDE</th>\n",
       "    </tr>\n",
       "  </thead>\n",
       "  <tbody>\n",
       "    <tr>\n",
       "      <th>PH</th>\n",
       "      <td>1.000000</td>\n",
       "      <td>-0.118032</td>\n",
       "      <td>-0.027802</td>\n",
       "      <td>-0.224156</td>\n",
       "      <td>-0.006188</td>\n",
       "      <td>-0.030114</td>\n",
       "      <td>-0.117998</td>\n",
       "      <td>0.292218</td>\n",
       "    </tr>\n",
       "    <tr>\n",
       "      <th>EC</th>\n",
       "      <td>-0.118032</td>\n",
       "      <td>1.000000</td>\n",
       "      <td>0.541955</td>\n",
       "      <td>0.527971</td>\n",
       "      <td>0.610683</td>\n",
       "      <td>0.829640</td>\n",
       "      <td>0.565184</td>\n",
       "      <td>-0.002400</td>\n",
       "    </tr>\n",
       "    <tr>\n",
       "      <th>TOT_ALKALINITY</th>\n",
       "      <td>-0.027802</td>\n",
       "      <td>0.541955</td>\n",
       "      <td>1.000000</td>\n",
       "      <td>0.336251</td>\n",
       "      <td>0.439616</td>\n",
       "      <td>0.454791</td>\n",
       "      <td>0.975899</td>\n",
       "      <td>0.045109</td>\n",
       "    </tr>\n",
       "    <tr>\n",
       "      <th>CA</th>\n",
       "      <td>-0.224156</td>\n",
       "      <td>0.527971</td>\n",
       "      <td>0.336251</td>\n",
       "      <td>1.000000</td>\n",
       "      <td>0.187834</td>\n",
       "      <td>0.264014</td>\n",
       "      <td>0.373001</td>\n",
       "      <td>-0.090231</td>\n",
       "    </tr>\n",
       "    <tr>\n",
       "      <th>MG</th>\n",
       "      <td>-0.006188</td>\n",
       "      <td>0.610683</td>\n",
       "      <td>0.439616</td>\n",
       "      <td>0.187834</td>\n",
       "      <td>1.000000</td>\n",
       "      <td>0.346161</td>\n",
       "      <td>0.431149</td>\n",
       "      <td>0.198456</td>\n",
       "    </tr>\n",
       "    <tr>\n",
       "      <th>NA</th>\n",
       "      <td>-0.030114</td>\n",
       "      <td>0.829640</td>\n",
       "      <td>0.454791</td>\n",
       "      <td>0.264014</td>\n",
       "      <td>0.346161</td>\n",
       "      <td>1.000000</td>\n",
       "      <td>0.460967</td>\n",
       "      <td>-0.012755</td>\n",
       "    </tr>\n",
       "    <tr>\n",
       "      <th>BICARBONATE</th>\n",
       "      <td>-0.117998</td>\n",
       "      <td>0.565184</td>\n",
       "      <td>0.975899</td>\n",
       "      <td>0.373001</td>\n",
       "      <td>0.431149</td>\n",
       "      <td>0.460967</td>\n",
       "      <td>1.000000</td>\n",
       "      <td>-0.008643</td>\n",
       "    </tr>\n",
       "    <tr>\n",
       "      <th>FLUORIDE</th>\n",
       "      <td>0.292218</td>\n",
       "      <td>-0.002400</td>\n",
       "      <td>0.045109</td>\n",
       "      <td>-0.090231</td>\n",
       "      <td>0.198456</td>\n",
       "      <td>-0.012755</td>\n",
       "      <td>-0.008643</td>\n",
       "      <td>1.000000</td>\n",
       "    </tr>\n",
       "  </tbody>\n",
       "</table>\n",
       "</div>"
      ],
      "text/plain": [
       "                      PH        EC  TOT_ALKALINITY        CA        MG  \\\n",
       "PH              1.000000 -0.118032       -0.027802 -0.224156 -0.006188   \n",
       "EC             -0.118032  1.000000        0.541955  0.527971  0.610683   \n",
       "TOT_ALKALINITY -0.027802  0.541955        1.000000  0.336251  0.439616   \n",
       "CA             -0.224156  0.527971        0.336251  1.000000  0.187834   \n",
       "MG             -0.006188  0.610683        0.439616  0.187834  1.000000   \n",
       "NA             -0.030114  0.829640        0.454791  0.264014  0.346161   \n",
       "BICARBONATE    -0.117998  0.565184        0.975899  0.373001  0.431149   \n",
       "FLUORIDE        0.292218 -0.002400        0.045109 -0.090231  0.198456   \n",
       "\n",
       "                      NA  BICARBONATE  FLUORIDE  \n",
       "PH             -0.030114    -0.117998  0.292218  \n",
       "EC              0.829640     0.565184 -0.002400  \n",
       "TOT_ALKALINITY  0.454791     0.975899  0.045109  \n",
       "CA              0.264014     0.373001 -0.090231  \n",
       "MG              0.346161     0.431149  0.198456  \n",
       "NA              1.000000     0.460967 -0.012755  \n",
       "BICARBONATE     0.460967     1.000000 -0.008643  \n",
       "FLUORIDE       -0.012755    -0.008643  1.000000  "
      ]
     },
     "execution_count": 10,
     "metadata": {},
     "output_type": "execute_result"
    }
   ],
   "source": [
    "data.corr()"
   ]
  },
  {
   "cell_type": "code",
   "execution_count": 11,
   "metadata": {},
   "outputs": [
    {
     "data": {
      "text/plain": [
       "0    1393\n",
       "1     180\n",
       "Name: Bin_Fluoride, dtype: int64"
      ]
     },
     "execution_count": 11,
     "metadata": {},
     "output_type": "execute_result"
    }
   ],
   "source": [
    "data['Bin_Fluoride'] = np.where( data['FLUORIDE'] >= 1,1,0)\n",
    "data['Bin_Fluoride'].value_counts()"
   ]
  },
  {
   "cell_type": "code",
   "execution_count": 12,
   "metadata": {},
   "outputs": [
    {
     "data": {
      "text/html": [
       "<div>\n",
       "<style scoped>\n",
       "    .dataframe tbody tr th:only-of-type {\n",
       "        vertical-align: middle;\n",
       "    }\n",
       "\n",
       "    .dataframe tbody tr th {\n",
       "        vertical-align: top;\n",
       "    }\n",
       "\n",
       "    .dataframe thead th {\n",
       "        text-align: right;\n",
       "    }\n",
       "</style>\n",
       "<table border=\"1\" class=\"dataframe\">\n",
       "  <thead>\n",
       "    <tr style=\"text-align: right;\">\n",
       "      <th></th>\n",
       "      <th>PH</th>\n",
       "      <th>EC</th>\n",
       "      <th>TOT_ALKALINITY</th>\n",
       "      <th>CA</th>\n",
       "      <th>MG</th>\n",
       "      <th>NA</th>\n",
       "      <th>BICARBONATE</th>\n",
       "      <th>FLUORIDE</th>\n",
       "      <th>Bin_Fluoride</th>\n",
       "    </tr>\n",
       "  </thead>\n",
       "  <tbody>\n",
       "    <tr>\n",
       "      <th>0</th>\n",
       "      <td>7.90</td>\n",
       "      <td>482.0</td>\n",
       "      <td>180.0</td>\n",
       "      <td>44.0</td>\n",
       "      <td>19.44</td>\n",
       "      <td>21.0</td>\n",
       "      <td>219.6</td>\n",
       "      <td>0.13</td>\n",
       "      <td>0</td>\n",
       "    </tr>\n",
       "    <tr>\n",
       "      <th>1</th>\n",
       "      <td>7.56</td>\n",
       "      <td>822.0</td>\n",
       "      <td>185.0</td>\n",
       "      <td>40.0</td>\n",
       "      <td>0.00</td>\n",
       "      <td>104.0</td>\n",
       "      <td>225.7</td>\n",
       "      <td>0.12</td>\n",
       "      <td>0</td>\n",
       "    </tr>\n",
       "    <tr>\n",
       "      <th>2</th>\n",
       "      <td>7.65</td>\n",
       "      <td>556.0</td>\n",
       "      <td>130.0</td>\n",
       "      <td>50.0</td>\n",
       "      <td>14.58</td>\n",
       "      <td>40.0</td>\n",
       "      <td>158.6</td>\n",
       "      <td>0.09</td>\n",
       "      <td>0</td>\n",
       "    </tr>\n",
       "    <tr>\n",
       "      <th>3</th>\n",
       "      <td>7.55</td>\n",
       "      <td>1675.0</td>\n",
       "      <td>430.0</td>\n",
       "      <td>146.0</td>\n",
       "      <td>29.16</td>\n",
       "      <td>165.0</td>\n",
       "      <td>524.6</td>\n",
       "      <td>0.18</td>\n",
       "      <td>0</td>\n",
       "    </tr>\n",
       "    <tr>\n",
       "      <th>4</th>\n",
       "      <td>7.93</td>\n",
       "      <td>1086.0</td>\n",
       "      <td>180.0</td>\n",
       "      <td>92.0</td>\n",
       "      <td>43.74</td>\n",
       "      <td>55.0</td>\n",
       "      <td>219.6</td>\n",
       "      <td>0.16</td>\n",
       "      <td>0</td>\n",
       "    </tr>\n",
       "  </tbody>\n",
       "</table>\n",
       "</div>"
      ],
      "text/plain": [
       "     PH      EC  TOT_ALKALINITY     CA     MG     NA  BICARBONATE  FLUORIDE  \\\n",
       "0  7.90   482.0           180.0   44.0  19.44   21.0        219.6      0.13   \n",
       "1  7.56   822.0           185.0   40.0   0.00  104.0        225.7      0.12   \n",
       "2  7.65   556.0           130.0   50.0  14.58   40.0        158.6      0.09   \n",
       "3  7.55  1675.0           430.0  146.0  29.16  165.0        524.6      0.18   \n",
       "4  7.93  1086.0           180.0   92.0  43.74   55.0        219.6      0.16   \n",
       "\n",
       "   Bin_Fluoride  \n",
       "0             0  \n",
       "1             0  \n",
       "2             0  \n",
       "3             0  \n",
       "4             0  "
      ]
     },
     "execution_count": 12,
     "metadata": {},
     "output_type": "execute_result"
    }
   ],
   "source": [
    "data.head()"
   ]
  },
  {
   "cell_type": "code",
   "execution_count": 13,
   "metadata": {},
   "outputs": [],
   "source": [
    "data = data.drop(['FLUORIDE'],axis=1)"
   ]
  },
  {
   "cell_type": "code",
   "execution_count": 14,
   "metadata": {},
   "outputs": [
    {
     "data": {
      "text/html": [
       "<div>\n",
       "<style scoped>\n",
       "    .dataframe tbody tr th:only-of-type {\n",
       "        vertical-align: middle;\n",
       "    }\n",
       "\n",
       "    .dataframe tbody tr th {\n",
       "        vertical-align: top;\n",
       "    }\n",
       "\n",
       "    .dataframe thead th {\n",
       "        text-align: right;\n",
       "    }\n",
       "</style>\n",
       "<table border=\"1\" class=\"dataframe\">\n",
       "  <thead>\n",
       "    <tr style=\"text-align: right;\">\n",
       "      <th></th>\n",
       "      <th>PH</th>\n",
       "      <th>EC</th>\n",
       "      <th>TOT_ALKALINITY</th>\n",
       "      <th>CA</th>\n",
       "      <th>MG</th>\n",
       "      <th>NA</th>\n",
       "      <th>BICARBONATE</th>\n",
       "      <th>Bin_Fluoride</th>\n",
       "    </tr>\n",
       "  </thead>\n",
       "  <tbody>\n",
       "    <tr>\n",
       "      <th>0</th>\n",
       "      <td>7.90</td>\n",
       "      <td>482.0</td>\n",
       "      <td>180.0</td>\n",
       "      <td>44.0</td>\n",
       "      <td>19.44</td>\n",
       "      <td>21.0</td>\n",
       "      <td>219.6</td>\n",
       "      <td>0</td>\n",
       "    </tr>\n",
       "    <tr>\n",
       "      <th>1</th>\n",
       "      <td>7.56</td>\n",
       "      <td>822.0</td>\n",
       "      <td>185.0</td>\n",
       "      <td>40.0</td>\n",
       "      <td>0.00</td>\n",
       "      <td>104.0</td>\n",
       "      <td>225.7</td>\n",
       "      <td>0</td>\n",
       "    </tr>\n",
       "    <tr>\n",
       "      <th>2</th>\n",
       "      <td>7.65</td>\n",
       "      <td>556.0</td>\n",
       "      <td>130.0</td>\n",
       "      <td>50.0</td>\n",
       "      <td>14.58</td>\n",
       "      <td>40.0</td>\n",
       "      <td>158.6</td>\n",
       "      <td>0</td>\n",
       "    </tr>\n",
       "    <tr>\n",
       "      <th>3</th>\n",
       "      <td>7.55</td>\n",
       "      <td>1675.0</td>\n",
       "      <td>430.0</td>\n",
       "      <td>146.0</td>\n",
       "      <td>29.16</td>\n",
       "      <td>165.0</td>\n",
       "      <td>524.6</td>\n",
       "      <td>0</td>\n",
       "    </tr>\n",
       "    <tr>\n",
       "      <th>4</th>\n",
       "      <td>7.93</td>\n",
       "      <td>1086.0</td>\n",
       "      <td>180.0</td>\n",
       "      <td>92.0</td>\n",
       "      <td>43.74</td>\n",
       "      <td>55.0</td>\n",
       "      <td>219.6</td>\n",
       "      <td>0</td>\n",
       "    </tr>\n",
       "  </tbody>\n",
       "</table>\n",
       "</div>"
      ],
      "text/plain": [
       "     PH      EC  TOT_ALKALINITY     CA     MG     NA  BICARBONATE  \\\n",
       "0  7.90   482.0           180.0   44.0  19.44   21.0        219.6   \n",
       "1  7.56   822.0           185.0   40.0   0.00  104.0        225.7   \n",
       "2  7.65   556.0           130.0   50.0  14.58   40.0        158.6   \n",
       "3  7.55  1675.0           430.0  146.0  29.16  165.0        524.6   \n",
       "4  7.93  1086.0           180.0   92.0  43.74   55.0        219.6   \n",
       "\n",
       "   Bin_Fluoride  \n",
       "0             0  \n",
       "1             0  \n",
       "2             0  \n",
       "3             0  \n",
       "4             0  "
      ]
     },
     "execution_count": 14,
     "metadata": {},
     "output_type": "execute_result"
    }
   ],
   "source": [
    "data.head()"
   ]
  },
  {
   "cell_type": "code",
   "execution_count": 15,
   "metadata": {},
   "outputs": [
    {
     "data": {
      "text/html": [
       "<div>\n",
       "<style scoped>\n",
       "    .dataframe tbody tr th:only-of-type {\n",
       "        vertical-align: middle;\n",
       "    }\n",
       "\n",
       "    .dataframe tbody tr th {\n",
       "        vertical-align: top;\n",
       "    }\n",
       "\n",
       "    .dataframe thead th {\n",
       "        text-align: right;\n",
       "    }\n",
       "</style>\n",
       "<table border=\"1\" class=\"dataframe\">\n",
       "  <thead>\n",
       "    <tr style=\"text-align: right;\">\n",
       "      <th></th>\n",
       "      <th>PH</th>\n",
       "      <th>EC</th>\n",
       "      <th>TOT_ALKALINITY</th>\n",
       "      <th>CA</th>\n",
       "      <th>MG</th>\n",
       "      <th>NA</th>\n",
       "      <th>BICARBONATE</th>\n",
       "      <th>Bin_Fluoride</th>\n",
       "    </tr>\n",
       "  </thead>\n",
       "  <tbody>\n",
       "    <tr>\n",
       "      <th>1749</th>\n",
       "      <td>6.66</td>\n",
       "      <td>186.0</td>\n",
       "      <td>30.0</td>\n",
       "      <td>20.0</td>\n",
       "      <td>7.290000</td>\n",
       "      <td>11.77</td>\n",
       "      <td>36.6</td>\n",
       "      <td>0</td>\n",
       "    </tr>\n",
       "    <tr>\n",
       "      <th>1272</th>\n",
       "      <td>7.32</td>\n",
       "      <td>434.0</td>\n",
       "      <td>90.0</td>\n",
       "      <td>10.0</td>\n",
       "      <td>36.450000</td>\n",
       "      <td>11.00</td>\n",
       "      <td>109.8</td>\n",
       "      <td>0</td>\n",
       "    </tr>\n",
       "    <tr>\n",
       "      <th>3860</th>\n",
       "      <td>7.97</td>\n",
       "      <td>854.7</td>\n",
       "      <td>165.0</td>\n",
       "      <td>58.0</td>\n",
       "      <td>12.135922</td>\n",
       "      <td>60.50</td>\n",
       "      <td>235.9</td>\n",
       "      <td>0</td>\n",
       "    </tr>\n",
       "    <tr>\n",
       "      <th>3699</th>\n",
       "      <td>8.10</td>\n",
       "      <td>1089.0</td>\n",
       "      <td>370.0</td>\n",
       "      <td>30.0</td>\n",
       "      <td>32.000000</td>\n",
       "      <td>142.50</td>\n",
       "      <td>451.4</td>\n",
       "      <td>0</td>\n",
       "    </tr>\n",
       "    <tr>\n",
       "      <th>3526</th>\n",
       "      <td>8.24</td>\n",
       "      <td>1077.0</td>\n",
       "      <td>350.0</td>\n",
       "      <td>14.0</td>\n",
       "      <td>8.505000</td>\n",
       "      <td>175.00</td>\n",
       "      <td>427.0</td>\n",
       "      <td>0</td>\n",
       "    </tr>\n",
       "    <tr>\n",
       "      <th>...</th>\n",
       "      <td>...</td>\n",
       "      <td>...</td>\n",
       "      <td>...</td>\n",
       "      <td>...</td>\n",
       "      <td>...</td>\n",
       "      <td>...</td>\n",
       "      <td>...</td>\n",
       "      <td>...</td>\n",
       "    </tr>\n",
       "    <tr>\n",
       "      <th>3501</th>\n",
       "      <td>7.82</td>\n",
       "      <td>7095.0</td>\n",
       "      <td>745.0</td>\n",
       "      <td>78.0</td>\n",
       "      <td>27.945000</td>\n",
       "      <td>1469.00</td>\n",
       "      <td>908.9</td>\n",
       "      <td>0</td>\n",
       "    </tr>\n",
       "    <tr>\n",
       "      <th>3553</th>\n",
       "      <td>8.15</td>\n",
       "      <td>2200.0</td>\n",
       "      <td>280.0</td>\n",
       "      <td>50.0</td>\n",
       "      <td>12.150000</td>\n",
       "      <td>427.00</td>\n",
       "      <td>341.6</td>\n",
       "      <td>0</td>\n",
       "    </tr>\n",
       "    <tr>\n",
       "      <th>2160</th>\n",
       "      <td>7.61</td>\n",
       "      <td>1138.0</td>\n",
       "      <td>220.0</td>\n",
       "      <td>70.0</td>\n",
       "      <td>57.038835</td>\n",
       "      <td>54.80</td>\n",
       "      <td>268.4</td>\n",
       "      <td>1</td>\n",
       "    </tr>\n",
       "    <tr>\n",
       "      <th>6</th>\n",
       "      <td>8.20</td>\n",
       "      <td>2209.0</td>\n",
       "      <td>150.0</td>\n",
       "      <td>222.0</td>\n",
       "      <td>65.610000</td>\n",
       "      <td>125.00</td>\n",
       "      <td>183.0</td>\n",
       "      <td>0</td>\n",
       "    </tr>\n",
       "    <tr>\n",
       "      <th>669</th>\n",
       "      <td>7.88</td>\n",
       "      <td>548.0</td>\n",
       "      <td>200.0</td>\n",
       "      <td>32.0</td>\n",
       "      <td>42.525000</td>\n",
       "      <td>23.00</td>\n",
       "      <td>244.0</td>\n",
       "      <td>0</td>\n",
       "    </tr>\n",
       "  </tbody>\n",
       "</table>\n",
       "<p>1573 rows × 8 columns</p>\n",
       "</div>"
      ],
      "text/plain": [
       "        PH      EC  TOT_ALKALINITY     CA         MG       NA  BICARBONATE  \\\n",
       "1749  6.66   186.0            30.0   20.0   7.290000    11.77         36.6   \n",
       "1272  7.32   434.0            90.0   10.0  36.450000    11.00        109.8   \n",
       "3860  7.97   854.7           165.0   58.0  12.135922    60.50        235.9   \n",
       "3699  8.10  1089.0           370.0   30.0  32.000000   142.50        451.4   \n",
       "3526  8.24  1077.0           350.0   14.0   8.505000   175.00        427.0   \n",
       "...    ...     ...             ...    ...        ...      ...          ...   \n",
       "3501  7.82  7095.0           745.0   78.0  27.945000  1469.00        908.9   \n",
       "3553  8.15  2200.0           280.0   50.0  12.150000   427.00        341.6   \n",
       "2160  7.61  1138.0           220.0   70.0  57.038835    54.80        268.4   \n",
       "6     8.20  2209.0           150.0  222.0  65.610000   125.00        183.0   \n",
       "669   7.88   548.0           200.0   32.0  42.525000    23.00        244.0   \n",
       "\n",
       "      Bin_Fluoride  \n",
       "1749             0  \n",
       "1272             0  \n",
       "3860             0  \n",
       "3699             0  \n",
       "3526             0  \n",
       "...            ...  \n",
       "3501             0  \n",
       "3553             0  \n",
       "2160             1  \n",
       "6                0  \n",
       "669              0  \n",
       "\n",
       "[1573 rows x 8 columns]"
      ]
     },
     "execution_count": 15,
     "metadata": {},
     "output_type": "execute_result"
    }
   ],
   "source": [
    "data = data.sample(frac=1)\n",
    "data"
   ]
  },
  {
   "cell_type": "code",
   "execution_count": 16,
   "metadata": {},
   "outputs": [
    {
     "data": {
      "text/html": [
       "<div>\n",
       "<style scoped>\n",
       "    .dataframe tbody tr th:only-of-type {\n",
       "        vertical-align: middle;\n",
       "    }\n",
       "\n",
       "    .dataframe tbody tr th {\n",
       "        vertical-align: top;\n",
       "    }\n",
       "\n",
       "    .dataframe thead th {\n",
       "        text-align: right;\n",
       "    }\n",
       "</style>\n",
       "<table border=\"1\" class=\"dataframe\">\n",
       "  <thead>\n",
       "    <tr style=\"text-align: right;\">\n",
       "      <th></th>\n",
       "      <th>PH</th>\n",
       "      <th>EC</th>\n",
       "      <th>TOT_ALKALINITY</th>\n",
       "      <th>CA</th>\n",
       "      <th>MG</th>\n",
       "      <th>NA</th>\n",
       "      <th>BICARBONATE</th>\n",
       "    </tr>\n",
       "  </thead>\n",
       "  <tbody>\n",
       "    <tr>\n",
       "      <th>1749</th>\n",
       "      <td>6.66</td>\n",
       "      <td>186.0</td>\n",
       "      <td>30.0</td>\n",
       "      <td>20.0</td>\n",
       "      <td>7.290000</td>\n",
       "      <td>11.77</td>\n",
       "      <td>36.6</td>\n",
       "    </tr>\n",
       "    <tr>\n",
       "      <th>1272</th>\n",
       "      <td>7.32</td>\n",
       "      <td>434.0</td>\n",
       "      <td>90.0</td>\n",
       "      <td>10.0</td>\n",
       "      <td>36.450000</td>\n",
       "      <td>11.00</td>\n",
       "      <td>109.8</td>\n",
       "    </tr>\n",
       "    <tr>\n",
       "      <th>3860</th>\n",
       "      <td>7.97</td>\n",
       "      <td>854.7</td>\n",
       "      <td>165.0</td>\n",
       "      <td>58.0</td>\n",
       "      <td>12.135922</td>\n",
       "      <td>60.50</td>\n",
       "      <td>235.9</td>\n",
       "    </tr>\n",
       "    <tr>\n",
       "      <th>3699</th>\n",
       "      <td>8.10</td>\n",
       "      <td>1089.0</td>\n",
       "      <td>370.0</td>\n",
       "      <td>30.0</td>\n",
       "      <td>32.000000</td>\n",
       "      <td>142.50</td>\n",
       "      <td>451.4</td>\n",
       "    </tr>\n",
       "    <tr>\n",
       "      <th>3526</th>\n",
       "      <td>8.24</td>\n",
       "      <td>1077.0</td>\n",
       "      <td>350.0</td>\n",
       "      <td>14.0</td>\n",
       "      <td>8.505000</td>\n",
       "      <td>175.00</td>\n",
       "      <td>427.0</td>\n",
       "    </tr>\n",
       "    <tr>\n",
       "      <th>...</th>\n",
       "      <td>...</td>\n",
       "      <td>...</td>\n",
       "      <td>...</td>\n",
       "      <td>...</td>\n",
       "      <td>...</td>\n",
       "      <td>...</td>\n",
       "      <td>...</td>\n",
       "    </tr>\n",
       "    <tr>\n",
       "      <th>3501</th>\n",
       "      <td>7.82</td>\n",
       "      <td>7095.0</td>\n",
       "      <td>745.0</td>\n",
       "      <td>78.0</td>\n",
       "      <td>27.945000</td>\n",
       "      <td>1469.00</td>\n",
       "      <td>908.9</td>\n",
       "    </tr>\n",
       "    <tr>\n",
       "      <th>3553</th>\n",
       "      <td>8.15</td>\n",
       "      <td>2200.0</td>\n",
       "      <td>280.0</td>\n",
       "      <td>50.0</td>\n",
       "      <td>12.150000</td>\n",
       "      <td>427.00</td>\n",
       "      <td>341.6</td>\n",
       "    </tr>\n",
       "    <tr>\n",
       "      <th>2160</th>\n",
       "      <td>7.61</td>\n",
       "      <td>1138.0</td>\n",
       "      <td>220.0</td>\n",
       "      <td>70.0</td>\n",
       "      <td>57.038835</td>\n",
       "      <td>54.80</td>\n",
       "      <td>268.4</td>\n",
       "    </tr>\n",
       "    <tr>\n",
       "      <th>6</th>\n",
       "      <td>8.20</td>\n",
       "      <td>2209.0</td>\n",
       "      <td>150.0</td>\n",
       "      <td>222.0</td>\n",
       "      <td>65.610000</td>\n",
       "      <td>125.00</td>\n",
       "      <td>183.0</td>\n",
       "    </tr>\n",
       "    <tr>\n",
       "      <th>669</th>\n",
       "      <td>7.88</td>\n",
       "      <td>548.0</td>\n",
       "      <td>200.0</td>\n",
       "      <td>32.0</td>\n",
       "      <td>42.525000</td>\n",
       "      <td>23.00</td>\n",
       "      <td>244.0</td>\n",
       "    </tr>\n",
       "  </tbody>\n",
       "</table>\n",
       "<p>1573 rows × 7 columns</p>\n",
       "</div>"
      ],
      "text/plain": [
       "        PH      EC  TOT_ALKALINITY     CA         MG       NA  BICARBONATE\n",
       "1749  6.66   186.0            30.0   20.0   7.290000    11.77         36.6\n",
       "1272  7.32   434.0            90.0   10.0  36.450000    11.00        109.8\n",
       "3860  7.97   854.7           165.0   58.0  12.135922    60.50        235.9\n",
       "3699  8.10  1089.0           370.0   30.0  32.000000   142.50        451.4\n",
       "3526  8.24  1077.0           350.0   14.0   8.505000   175.00        427.0\n",
       "...    ...     ...             ...    ...        ...      ...          ...\n",
       "3501  7.82  7095.0           745.0   78.0  27.945000  1469.00        908.9\n",
       "3553  8.15  2200.0           280.0   50.0  12.150000   427.00        341.6\n",
       "2160  7.61  1138.0           220.0   70.0  57.038835    54.80        268.4\n",
       "6     8.20  2209.0           150.0  222.0  65.610000   125.00        183.0\n",
       "669   7.88   548.0           200.0   32.0  42.525000    23.00        244.0\n",
       "\n",
       "[1573 rows x 7 columns]"
      ]
     },
     "execution_count": 16,
     "metadata": {},
     "output_type": "execute_result"
    }
   ],
   "source": [
    "x = data.drop(['Bin_Fluoride'],axis=1)\n",
    "x"
   ]
  },
  {
   "cell_type": "code",
   "execution_count": 17,
   "metadata": {},
   "outputs": [
    {
     "data": {
      "text/plain": [
       "1749    0\n",
       "1272    0\n",
       "3860    0\n",
       "3699    0\n",
       "3526    0\n",
       "       ..\n",
       "3501    0\n",
       "3553    0\n",
       "2160    1\n",
       "6       0\n",
       "669     0\n",
       "Name: Bin_Fluoride, Length: 1573, dtype: int64"
      ]
     },
     "execution_count": 17,
     "metadata": {},
     "output_type": "execute_result"
    }
   ],
   "source": [
    "y = data[:]['Bin_Fluoride']\n",
    "y"
   ]
  },
  {
   "cell_type": "code",
   "execution_count": 18,
   "metadata": {},
   "outputs": [
    {
     "data": {
      "text/plain": [
       "(1100, 7)"
      ]
     },
     "execution_count": 18,
     "metadata": {},
     "output_type": "execute_result"
    }
   ],
   "source": [
    "x_train,x_test=x[:1100],x[1100:]\n",
    "x_train.shape"
   ]
  },
  {
   "cell_type": "code",
   "execution_count": 19,
   "metadata": {},
   "outputs": [
    {
     "data": {
      "text/plain": [
       "(473, 7)"
      ]
     },
     "execution_count": 19,
     "metadata": {},
     "output_type": "execute_result"
    }
   ],
   "source": [
    "x_test.shape"
   ]
  },
  {
   "cell_type": "code",
   "execution_count": 20,
   "metadata": {},
   "outputs": [
    {
     "data": {
      "text/plain": [
       "(1100,)"
      ]
     },
     "execution_count": 20,
     "metadata": {},
     "output_type": "execute_result"
    }
   ],
   "source": [
    "y_train,y_test=y[:1100],y[1100:]\n",
    "y_train.shape"
   ]
  },
  {
   "cell_type": "code",
   "execution_count": 21,
   "metadata": {},
   "outputs": [
    {
     "data": {
      "text/plain": [
       "(473,)"
      ]
     },
     "execution_count": 21,
     "metadata": {},
     "output_type": "execute_result"
    }
   ],
   "source": [
    "y_test.shape"
   ]
  },
  {
   "cell_type": "markdown",
   "metadata": {},
   "source": [
    "# ***Logistic Regression***"
   ]
  },
  {
   "cell_type": "code",
   "execution_count": 22,
   "metadata": {},
   "outputs": [
    {
     "name": "stderr",
     "output_type": "stream",
     "text": [
      "/home/elite/Documents/CODING/PYTHON/ML/water analysis/venv/lib/python3.9/site-packages/sklearn/linear_model/_logistic.py:814: ConvergenceWarning: lbfgs failed to converge (status=1):\n",
      "STOP: TOTAL NO. of ITERATIONS REACHED LIMIT.\n",
      "\n",
      "Increase the number of iterations (max_iter) or scale the data as shown in:\n",
      "    https://scikit-learn.org/stable/modules/preprocessing.html\n",
      "Please also refer to the documentation for alternative solver options:\n",
      "    https://scikit-learn.org/stable/modules/linear_model.html#logistic-regression\n",
      "  n_iter_i = _check_optimize_result(\n"
     ]
    },
    {
     "data": {
      "text/plain": [
       "LogisticRegression()"
      ]
     },
     "execution_count": 22,
     "metadata": {},
     "output_type": "execute_result"
    }
   ],
   "source": [
    "from sklearn.linear_model import LogisticRegression\n",
    "clf_lr = LogisticRegression()\n",
    "clf_lr.fit(x_train,y_train)"
   ]
  },
  {
   "cell_type": "code",
   "execution_count": 23,
   "metadata": {},
   "outputs": [
    {
     "name": "stderr",
     "output_type": "stream",
     "text": [
      "/home/elite/Documents/CODING/PYTHON/ML/water analysis/venv/lib/python3.9/site-packages/sklearn/linear_model/_logistic.py:814: ConvergenceWarning: lbfgs failed to converge (status=1):\n",
      "STOP: TOTAL NO. of ITERATIONS REACHED LIMIT.\n",
      "\n",
      "Increase the number of iterations (max_iter) or scale the data as shown in:\n",
      "    https://scikit-learn.org/stable/modules/preprocessing.html\n",
      "Please also refer to the documentation for alternative solver options:\n",
      "    https://scikit-learn.org/stable/modules/linear_model.html#logistic-regression\n",
      "  n_iter_i = _check_optimize_result(\n",
      "/home/elite/Documents/CODING/PYTHON/ML/water analysis/venv/lib/python3.9/site-packages/sklearn/linear_model/_logistic.py:814: ConvergenceWarning: lbfgs failed to converge (status=1):\n",
      "STOP: TOTAL NO. of ITERATIONS REACHED LIMIT.\n",
      "\n",
      "Increase the number of iterations (max_iter) or scale the data as shown in:\n",
      "    https://scikit-learn.org/stable/modules/preprocessing.html\n",
      "Please also refer to the documentation for alternative solver options:\n",
      "    https://scikit-learn.org/stable/modules/linear_model.html#logistic-regression\n",
      "  n_iter_i = _check_optimize_result(\n"
     ]
    }
   ],
   "source": [
    "from sklearn.model_selection import cross_val_score\n",
    "a = cross_val_score(clf_lr,x_train,y_train,cv=3,scoring=\"accuracy\")"
   ]
  },
  {
   "cell_type": "code",
   "execution_count": 24,
   "metadata": {},
   "outputs": [
    {
     "data": {
      "text/plain": [
       "0.8963783545013723"
      ]
     },
     "execution_count": 24,
     "metadata": {},
     "output_type": "execute_result"
    }
   ],
   "source": [
    "a.mean()"
   ]
  },
  {
   "cell_type": "code",
   "execution_count": 25,
   "metadata": {},
   "outputs": [
    {
     "name": "stderr",
     "output_type": "stream",
     "text": [
      "/home/elite/Documents/CODING/PYTHON/ML/water analysis/venv/lib/python3.9/site-packages/sklearn/linear_model/_logistic.py:814: ConvergenceWarning: lbfgs failed to converge (status=1):\n",
      "STOP: TOTAL NO. of ITERATIONS REACHED LIMIT.\n",
      "\n",
      "Increase the number of iterations (max_iter) or scale the data as shown in:\n",
      "    https://scikit-learn.org/stable/modules/preprocessing.html\n",
      "Please also refer to the documentation for alternative solver options:\n",
      "    https://scikit-learn.org/stable/modules/linear_model.html#logistic-regression\n",
      "  n_iter_i = _check_optimize_result(\n",
      "/home/elite/Documents/CODING/PYTHON/ML/water analysis/venv/lib/python3.9/site-packages/sklearn/linear_model/_logistic.py:814: ConvergenceWarning: lbfgs failed to converge (status=1):\n",
      "STOP: TOTAL NO. of ITERATIONS REACHED LIMIT.\n",
      "\n",
      "Increase the number of iterations (max_iter) or scale the data as shown in:\n",
      "    https://scikit-learn.org/stable/modules/preprocessing.html\n",
      "Please also refer to the documentation for alternative solver options:\n",
      "    https://scikit-learn.org/stable/modules/linear_model.html#logistic-regression\n",
      "  n_iter_i = _check_optimize_result(\n"
     ]
    }
   ],
   "source": [
    "from sklearn.model_selection import cross_val_predict\n",
    "y_train_predict = cross_val_predict(clf_lr,x_train,y_train,cv=3)"
   ]
  },
  {
   "cell_type": "code",
   "execution_count": 26,
   "metadata": {},
   "outputs": [
    {
     "data": {
      "text/plain": [
       "array([0, 0, 0, ..., 0, 1, 0])"
      ]
     },
     "execution_count": 26,
     "metadata": {},
     "output_type": "execute_result"
    }
   ],
   "source": [
    "y_train_predict"
   ]
  },
  {
   "cell_type": "code",
   "execution_count": 27,
   "metadata": {},
   "outputs": [
    {
     "data": {
      "text/plain": [
       "pandas.core.series.Series"
      ]
     },
     "execution_count": 27,
     "metadata": {},
     "output_type": "execute_result"
    }
   ],
   "source": [
    "type(y_test)"
   ]
  },
  {
   "cell_type": "markdown",
   "metadata": {},
   "source": [
    "## Confusion Matrix"
   ]
  },
  {
   "cell_type": "code",
   "execution_count": 28,
   "metadata": {},
   "outputs": [
    {
     "data": {
      "text/plain": [
       "array([[970,   9],\n",
       "       [105,  16]])"
      ]
     },
     "execution_count": 28,
     "metadata": {},
     "output_type": "execute_result"
    }
   ],
   "source": [
    "from sklearn.metrics import confusion_matrix\n",
    "confusion_matrix(y_train,y_train_predict)"
   ]
  },
  {
   "cell_type": "code",
   "execution_count": 29,
   "metadata": {},
   "outputs": [
    {
     "data": {
      "text/plain": [
       "0    979\n",
       "1    121\n",
       "Name: Bin_Fluoride, dtype: int64"
      ]
     },
     "execution_count": 29,
     "metadata": {},
     "output_type": "execute_result"
    }
   ],
   "source": [
    "y_train.value_counts()"
   ]
  },
  {
   "cell_type": "code",
   "execution_count": 30,
   "metadata": {},
   "outputs": [
    {
     "data": {
      "text/plain": [
       "0    414\n",
       "1     59\n",
       "Name: Bin_Fluoride, dtype: int64"
      ]
     },
     "execution_count": 30,
     "metadata": {},
     "output_type": "execute_result"
    }
   ],
   "source": [
    "y_test.value_counts()"
   ]
  },
  {
   "cell_type": "code",
   "execution_count": 31,
   "metadata": {},
   "outputs": [
    {
     "data": {
      "text/plain": [
       "0.64"
      ]
     },
     "execution_count": 31,
     "metadata": {},
     "output_type": "execute_result"
    }
   ],
   "source": [
    "from sklearn.metrics import precision_score,recall_score\n",
    "precision_score(y_train,y_train_predict)"
   ]
  },
  {
   "cell_type": "code",
   "execution_count": 32,
   "metadata": {},
   "outputs": [
    {
     "data": {
      "text/plain": [
       "0.1322314049586777"
      ]
     },
     "execution_count": 32,
     "metadata": {},
     "output_type": "execute_result"
    }
   ],
   "source": [
    "recall_score(y_train,y_train_predict)"
   ]
  },
  {
   "cell_type": "code",
   "execution_count": 33,
   "metadata": {},
   "outputs": [
    {
     "data": {
      "text/plain": [
       "0.21917808219178084"
      ]
     },
     "execution_count": 33,
     "metadata": {},
     "output_type": "execute_result"
    }
   ],
   "source": [
    "from sklearn.metrics import f1_score\n",
    "f1_score(y_train,y_train_predict)"
   ]
  },
  {
   "cell_type": "code",
   "execution_count": 34,
   "metadata": {},
   "outputs": [
    {
     "data": {
      "text/plain": [
       "array([0, 0, 0, 0, 0, 0, 0, 0, 0, 0, 0, 0, 0, 0, 0, 0, 0, 0, 1, 0, 0, 0,\n",
       "       1, 0, 0, 0, 0, 0, 0, 0, 0, 0, 0, 0, 0, 0, 0, 0, 0, 0, 0, 0, 0, 0,\n",
       "       0, 0, 0, 0, 1, 0, 0, 0, 0, 0, 0, 0, 0, 0, 0, 0, 0, 0, 0, 0, 0, 0,\n",
       "       0, 0, 0, 0, 0, 0, 0, 0, 0, 0, 0, 0, 1, 0, 0, 0, 0, 0, 0, 0, 0, 0,\n",
       "       0, 0, 0, 0, 0, 0, 0, 0, 0, 0, 0, 0, 0, 0, 0, 0, 0, 0, 0, 0, 0, 0,\n",
       "       0, 0, 0, 0, 0, 0, 0, 0, 0, 0, 0, 0, 0, 0, 0, 0, 0, 0, 0, 0, 0, 0,\n",
       "       0, 0, 0, 0, 0, 0, 0, 0, 0, 0, 0, 0, 0, 0, 0, 0, 0, 0, 0, 0, 0, 0,\n",
       "       0, 0, 0, 0, 0, 0, 0, 0, 0, 0, 0, 0, 0, 0, 0, 0, 0, 0, 0, 0, 1, 0,\n",
       "       0, 0, 0, 0, 0, 0, 0, 0, 0, 0, 0, 0, 0, 0, 0, 0, 0, 0, 0, 0, 0, 0,\n",
       "       0, 0, 0, 0, 0, 0, 0, 0, 0, 0, 0, 0, 0, 0, 0, 0, 0, 0, 1, 0, 0, 0,\n",
       "       0, 0, 0, 0, 0, 0, 0, 0, 0, 0, 0, 0, 0, 0, 0, 0, 0, 0, 0, 0, 0, 0,\n",
       "       0, 0, 0, 1, 0, 0, 0, 0, 0, 0, 0, 0, 0, 0, 0, 0, 0, 0, 0, 0, 0, 0,\n",
       "       0, 0, 0, 0, 0, 0, 0, 0, 0, 0, 0, 0, 0, 0, 0, 0, 0, 0, 0, 0, 0, 0,\n",
       "       0, 0, 0, 0, 0, 0, 0, 0, 0, 0, 0, 0, 0, 0, 0, 0, 0, 0, 0, 0, 0, 0,\n",
       "       0, 0, 0, 0, 0, 0, 0, 0, 0, 0, 0, 1, 0, 0, 0, 0, 0, 1, 0, 0, 0, 0,\n",
       "       0, 0, 0, 0, 0, 0, 0, 0, 0, 0, 0, 0, 0, 0, 0, 0, 0, 0, 0, 0, 0, 0,\n",
       "       0, 0, 0, 0, 0, 0, 0, 0, 0, 0, 0, 0, 0, 0, 0, 0, 0, 0, 0, 0, 0, 0,\n",
       "       0, 0, 0, 0, 0, 0, 0, 0, 0, 0, 0, 0, 0, 0, 0, 0, 0, 0, 0, 0, 0, 0,\n",
       "       0, 0, 0, 0, 0, 0, 0, 0, 0, 0, 0, 0, 0, 0, 0, 0, 0, 0, 0, 0, 0, 0,\n",
       "       0, 0, 0, 0, 0, 0, 0, 0, 0, 0, 0, 0, 0, 0, 0, 0, 0, 0, 0, 0, 0, 0,\n",
       "       0, 0, 0, 1, 0, 0, 0, 0, 0, 0, 0, 0, 0, 0, 0, 0, 0, 0, 0, 1, 0, 0,\n",
       "       0, 0, 0, 0, 0, 0, 0, 0, 0, 0, 0])"
      ]
     },
     "execution_count": 34,
     "metadata": {},
     "output_type": "execute_result"
    }
   ],
   "source": [
    "y_test_predicted = clf_lr.predict(x_test[:][:])\n",
    "y_test_predicted"
   ]
  },
  {
   "cell_type": "code",
   "execution_count": 36,
   "metadata": {},
   "outputs": [
    {
     "data": {
      "text/plain": [
       "(473,)"
      ]
     },
     "execution_count": 36,
     "metadata": {},
     "output_type": "execute_result"
    }
   ],
   "source": [
    "y_test.shape"
   ]
  },
  {
   "cell_type": "code",
   "execution_count": 37,
   "metadata": {},
   "outputs": [
    {
     "data": {
      "text/plain": [
       "(473,)"
      ]
     },
     "execution_count": 37,
     "metadata": {},
     "output_type": "execute_result"
    }
   ],
   "source": [
    "y_test_predicted.shape"
   ]
  },
  {
   "cell_type": "code",
   "execution_count": 38,
   "metadata": {},
   "outputs": [
    {
     "data": {
      "text/plain": [
       "array([[409,   5],\n",
       "       [ 53,   6]])"
      ]
     },
     "execution_count": 38,
     "metadata": {},
     "output_type": "execute_result"
    }
   ],
   "source": [
    "confusion_matrix(y_test,y_test_predicted)"
   ]
  },
  {
   "cell_type": "markdown",
   "metadata": {},
   "source": [
    "# ***Random Forest***"
   ]
  },
  {
   "cell_type": "code",
   "execution_count": null,
   "metadata": {},
   "outputs": [
    {
     "data": {
      "text/plain": [
       "RandomForestClassifier(max_depth=10, random_state=10)"
      ]
     },
     "execution_count": 82,
     "metadata": {},
     "output_type": "execute_result"
    }
   ],
   "source": [
    "from sklearn.ensemble import RandomForestClassifier\n",
    "clf_forest = RandomForestClassifier(max_depth=10, random_state=10)\n",
    "clf_forest.fit(x_train,y_train)"
   ]
  },
  {
   "cell_type": "code",
   "execution_count": null,
   "metadata": {},
   "outputs": [],
   "source": [
    "y_test_predict_forest = clf_forest.predict(x_test[:][:])\n",
    "# y_test_predict_forest"
   ]
  },
  {
   "cell_type": "code",
   "execution_count": null,
   "metadata": {},
   "outputs": [
    {
     "data": {
      "text/plain": [
       "array([[414,   8],\n",
       "       [ 38,  13]])"
      ]
     },
     "execution_count": 84,
     "metadata": {},
     "output_type": "execute_result"
    }
   ],
   "source": [
    "confusion_matrix(y_test,y_test_predict_forest)"
   ]
  },
  {
   "cell_type": "code",
   "execution_count": null,
   "metadata": {},
   "outputs": [],
   "source": []
  }
 ],
 "metadata": {
  "interpreter": {
   "hash": "511af204477f64cd3f86470125d8547560b6bd106e7b0ab2f429ad15e1c7f50a"
  },
  "kernelspec": {
   "display_name": "Python 3.9.2 ('venv': venv)",
   "language": "python",
   "name": "python3"
  },
  "language_info": {
   "codemirror_mode": {
    "name": "ipython",
    "version": 3
   },
   "file_extension": ".py",
   "mimetype": "text/x-python",
   "name": "python",
   "nbconvert_exporter": "python",
   "pygments_lexer": "ipython3",
   "version": "3.9.10"
  },
  "orig_nbformat": 4
 },
 "nbformat": 4,
 "nbformat_minor": 2
}
