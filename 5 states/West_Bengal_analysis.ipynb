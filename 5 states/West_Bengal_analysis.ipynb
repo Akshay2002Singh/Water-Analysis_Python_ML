{
 "cells": [
  {
   "cell_type": "markdown",
   "metadata": {},
   "source": [
    "# **ML on Andhra Pradesh Data**"
   ]
  },
  {
   "cell_type": "code",
   "execution_count": 1,
   "metadata": {},
   "outputs": [],
   "source": [
    "import pandas as pd\n",
    "import numpy as np"
   ]
  },
  {
   "cell_type": "code",
   "execution_count": 2,
   "metadata": {},
   "outputs": [],
   "source": [
    "# data = pd.read_excel(\"Andhra_Pradesh.xlsx\",sheet_name=\"Sheet1\")"
   ]
  },
  {
   "cell_type": "code",
   "execution_count": 3,
   "metadata": {},
   "outputs": [],
   "source": [
    "# data.head()"
   ]
  },
  {
   "cell_type": "code",
   "execution_count": 4,
   "metadata": {},
   "outputs": [],
   "source": [
    "# data = data.filter(['PH','EC','TOT_ALKALINITY','CA','MG','NA','BICARBONATE','FLUORIDE'], axis=1)"
   ]
  },
  {
   "cell_type": "code",
   "execution_count": 5,
   "metadata": {},
   "outputs": [],
   "source": [
    "# data.to_excel(\"Andhra_Pradesh_filter.xlsx\",sheet_name='Sheet1',index=False)"
   ]
  },
  {
   "cell_type": "code",
   "execution_count": 7,
   "metadata": {},
   "outputs": [],
   "source": [
    "data = pd.read_excel(\"Andhra_Pradesh_filter.xlsx\",sheet_name=\"Sheet1\")"
   ]
  },
  {
   "cell_type": "code",
   "execution_count": 8,
   "metadata": {},
   "outputs": [
    {
     "data": {
      "text/html": [
       "<div>\n",
       "<style scoped>\n",
       "    .dataframe tbody tr th:only-of-type {\n",
       "        vertical-align: middle;\n",
       "    }\n",
       "\n",
       "    .dataframe tbody tr th {\n",
       "        vertical-align: top;\n",
       "    }\n",
       "\n",
       "    .dataframe thead th {\n",
       "        text-align: right;\n",
       "    }\n",
       "</style>\n",
       "<table border=\"1\" class=\"dataframe\">\n",
       "  <thead>\n",
       "    <tr style=\"text-align: right;\">\n",
       "      <th></th>\n",
       "      <th>PH</th>\n",
       "      <th>EC</th>\n",
       "      <th>TOT_ALKALINITY</th>\n",
       "      <th>CA</th>\n",
       "      <th>MG</th>\n",
       "      <th>NA</th>\n",
       "      <th>BICARBONATE</th>\n",
       "      <th>FLUORIDE</th>\n",
       "    </tr>\n",
       "  </thead>\n",
       "  <tbody>\n",
       "    <tr>\n",
       "      <th>0</th>\n",
       "      <td>7.83</td>\n",
       "      <td>2000.0</td>\n",
       "      <td>314.75</td>\n",
       "      <td>66.0</td>\n",
       "      <td>70.59</td>\n",
       "      <td>250.0</td>\n",
       "      <td>384.0</td>\n",
       "      <td>2.20</td>\n",
       "    </tr>\n",
       "    <tr>\n",
       "      <th>1</th>\n",
       "      <td>7.61</td>\n",
       "      <td>674.0</td>\n",
       "      <td>NaN</td>\n",
       "      <td>NaN</td>\n",
       "      <td>NaN</td>\n",
       "      <td>NaN</td>\n",
       "      <td>NaN</td>\n",
       "      <td>1.20</td>\n",
       "    </tr>\n",
       "    <tr>\n",
       "      <th>2</th>\n",
       "      <td>8.17</td>\n",
       "      <td>786.0</td>\n",
       "      <td>240.16</td>\n",
       "      <td>24.0</td>\n",
       "      <td>24.34</td>\n",
       "      <td>106.0</td>\n",
       "      <td>293.0</td>\n",
       "      <td>3.83</td>\n",
       "    </tr>\n",
       "    <tr>\n",
       "      <th>3</th>\n",
       "      <td>7.6</td>\n",
       "      <td>990.0</td>\n",
       "      <td>440.16</td>\n",
       "      <td>24.0</td>\n",
       "      <td>25.56</td>\n",
       "      <td>180.0</td>\n",
       "      <td>537.0</td>\n",
       "      <td>3.80</td>\n",
       "    </tr>\n",
       "    <tr>\n",
       "      <th>4</th>\n",
       "      <td>7.64</td>\n",
       "      <td>862.0</td>\n",
       "      <td>235.25</td>\n",
       "      <td>62.0</td>\n",
       "      <td>20.74</td>\n",
       "      <td>81.0</td>\n",
       "      <td>287.0</td>\n",
       "      <td>2.10</td>\n",
       "    </tr>\n",
       "  </tbody>\n",
       "</table>\n",
       "</div>"
      ],
      "text/plain": [
       "     PH      EC  TOT_ALKALINITY    CA     MG     NA  BICARBONATE  FLUORIDE\n",
       "0  7.83  2000.0          314.75  66.0  70.59  250.0        384.0      2.20\n",
       "1  7.61   674.0             NaN   NaN    NaN    NaN          NaN      1.20\n",
       "2  8.17   786.0          240.16  24.0  24.34  106.0        293.0      3.83\n",
       "3   7.6   990.0          440.16  24.0  25.56  180.0        537.0      3.80\n",
       "4  7.64   862.0          235.25  62.0  20.74   81.0        287.0      2.10"
      ]
     },
     "execution_count": 8,
     "metadata": {},
     "output_type": "execute_result"
    }
   ],
   "source": [
    "data.head()"
   ]
  },
  {
   "cell_type": "code",
   "execution_count": 9,
   "metadata": {},
   "outputs": [
    {
     "data": {
      "text/plain": [
       "PH                3550\n",
       "EC                3550\n",
       "TOT_ALKALINITY    3550\n",
       "CA                3550\n",
       "MG                3550\n",
       "NA                3550\n",
       "BICARBONATE       3550\n",
       "FLUORIDE          3550\n",
       "dtype: int64"
      ]
     },
     "execution_count": 9,
     "metadata": {},
     "output_type": "execute_result"
    }
   ],
   "source": [
    "data = data.dropna(axis=0)\n",
    "data.count()"
   ]
  },
  {
   "cell_type": "code",
   "execution_count": 10,
   "metadata": {},
   "outputs": [],
   "source": [
    "data = data.astype(float)"
   ]
  },
  {
   "cell_type": "code",
   "execution_count": 11,
   "metadata": {},
   "outputs": [
    {
     "data": {
      "text/html": [
       "<div>\n",
       "<style scoped>\n",
       "    .dataframe tbody tr th:only-of-type {\n",
       "        vertical-align: middle;\n",
       "    }\n",
       "\n",
       "    .dataframe tbody tr th {\n",
       "        vertical-align: top;\n",
       "    }\n",
       "\n",
       "    .dataframe thead th {\n",
       "        text-align: right;\n",
       "    }\n",
       "</style>\n",
       "<table border=\"1\" class=\"dataframe\">\n",
       "  <thead>\n",
       "    <tr style=\"text-align: right;\">\n",
       "      <th></th>\n",
       "      <th>PH</th>\n",
       "      <th>EC</th>\n",
       "      <th>TOT_ALKALINITY</th>\n",
       "      <th>CA</th>\n",
       "      <th>MG</th>\n",
       "      <th>NA</th>\n",
       "      <th>BICARBONATE</th>\n",
       "      <th>FLUORIDE</th>\n",
       "    </tr>\n",
       "  </thead>\n",
       "  <tbody>\n",
       "    <tr>\n",
       "      <th>PH</th>\n",
       "      <td>1.000000</td>\n",
       "      <td>-0.123577</td>\n",
       "      <td>0.034902</td>\n",
       "      <td>-0.411845</td>\n",
       "      <td>-0.163775</td>\n",
       "      <td>0.000090</td>\n",
       "      <td>-0.023668</td>\n",
       "      <td>0.051751</td>\n",
       "    </tr>\n",
       "    <tr>\n",
       "      <th>EC</th>\n",
       "      <td>-0.123577</td>\n",
       "      <td>1.000000</td>\n",
       "      <td>0.530776</td>\n",
       "      <td>0.596970</td>\n",
       "      <td>0.786944</td>\n",
       "      <td>0.918060</td>\n",
       "      <td>0.527024</td>\n",
       "      <td>0.100960</td>\n",
       "    </tr>\n",
       "    <tr>\n",
       "      <th>TOT_ALKALINITY</th>\n",
       "      <td>0.034902</td>\n",
       "      <td>0.530776</td>\n",
       "      <td>1.000000</td>\n",
       "      <td>0.173734</td>\n",
       "      <td>0.349382</td>\n",
       "      <td>0.541995</td>\n",
       "      <td>0.990101</td>\n",
       "      <td>0.363856</td>\n",
       "    </tr>\n",
       "    <tr>\n",
       "      <th>CA</th>\n",
       "      <td>-0.411845</td>\n",
       "      <td>0.596970</td>\n",
       "      <td>0.173734</td>\n",
       "      <td>1.000000</td>\n",
       "      <td>0.521302</td>\n",
       "      <td>0.345219</td>\n",
       "      <td>0.193898</td>\n",
       "      <td>-0.099946</td>\n",
       "    </tr>\n",
       "    <tr>\n",
       "      <th>MG</th>\n",
       "      <td>-0.163775</td>\n",
       "      <td>0.786944</td>\n",
       "      <td>0.349382</td>\n",
       "      <td>0.521302</td>\n",
       "      <td>1.000000</td>\n",
       "      <td>0.594667</td>\n",
       "      <td>0.352958</td>\n",
       "      <td>0.051191</td>\n",
       "    </tr>\n",
       "    <tr>\n",
       "      <th>NA</th>\n",
       "      <td>0.000090</td>\n",
       "      <td>0.918060</td>\n",
       "      <td>0.541995</td>\n",
       "      <td>0.345219</td>\n",
       "      <td>0.594667</td>\n",
       "      <td>1.000000</td>\n",
       "      <td>0.529451</td>\n",
       "      <td>0.175119</td>\n",
       "    </tr>\n",
       "    <tr>\n",
       "      <th>BICARBONATE</th>\n",
       "      <td>-0.023668</td>\n",
       "      <td>0.527024</td>\n",
       "      <td>0.990101</td>\n",
       "      <td>0.193898</td>\n",
       "      <td>0.352958</td>\n",
       "      <td>0.529451</td>\n",
       "      <td>1.000000</td>\n",
       "      <td>0.354658</td>\n",
       "    </tr>\n",
       "    <tr>\n",
       "      <th>FLUORIDE</th>\n",
       "      <td>0.051751</td>\n",
       "      <td>0.100960</td>\n",
       "      <td>0.363856</td>\n",
       "      <td>-0.099946</td>\n",
       "      <td>0.051191</td>\n",
       "      <td>0.175119</td>\n",
       "      <td>0.354658</td>\n",
       "      <td>1.000000</td>\n",
       "    </tr>\n",
       "  </tbody>\n",
       "</table>\n",
       "</div>"
      ],
      "text/plain": [
       "                      PH        EC  TOT_ALKALINITY        CA        MG  \\\n",
       "PH              1.000000 -0.123577        0.034902 -0.411845 -0.163775   \n",
       "EC             -0.123577  1.000000        0.530776  0.596970  0.786944   \n",
       "TOT_ALKALINITY  0.034902  0.530776        1.000000  0.173734  0.349382   \n",
       "CA             -0.411845  0.596970        0.173734  1.000000  0.521302   \n",
       "MG             -0.163775  0.786944        0.349382  0.521302  1.000000   \n",
       "NA              0.000090  0.918060        0.541995  0.345219  0.594667   \n",
       "BICARBONATE    -0.023668  0.527024        0.990101  0.193898  0.352958   \n",
       "FLUORIDE        0.051751  0.100960        0.363856 -0.099946  0.051191   \n",
       "\n",
       "                      NA  BICARBONATE  FLUORIDE  \n",
       "PH              0.000090    -0.023668  0.051751  \n",
       "EC              0.918060     0.527024  0.100960  \n",
       "TOT_ALKALINITY  0.541995     0.990101  0.363856  \n",
       "CA              0.345219     0.193898 -0.099946  \n",
       "MG              0.594667     0.352958  0.051191  \n",
       "NA              1.000000     0.529451  0.175119  \n",
       "BICARBONATE     0.529451     1.000000  0.354658  \n",
       "FLUORIDE        0.175119     0.354658  1.000000  "
      ]
     },
     "execution_count": 11,
     "metadata": {},
     "output_type": "execute_result"
    }
   ],
   "source": [
    "data.corr()"
   ]
  },
  {
   "cell_type": "code",
   "execution_count": 15,
   "metadata": {},
   "outputs": [
    {
     "data": {
      "text/plain": [
       "0    2835\n",
       "1     715\n",
       "Name: Bin_Fluoride, dtype: int64"
      ]
     },
     "execution_count": 15,
     "metadata": {},
     "output_type": "execute_result"
    }
   ],
   "source": [
    "data['Bin_Fluoride'] = np.where( data['FLUORIDE'] >= 1,1,0)\n",
    "data['Bin_Fluoride'].value_counts()"
   ]
  },
  {
   "cell_type": "code",
   "execution_count": null,
   "metadata": {},
   "outputs": [],
   "source": []
  }
 ],
 "metadata": {
  "interpreter": {
   "hash": "511af204477f64cd3f86470125d8547560b6bd106e7b0ab2f429ad15e1c7f50a"
  },
  "kernelspec": {
   "display_name": "Python 3.9.2 ('venv': venv)",
   "language": "python",
   "name": "python3"
  },
  "language_info": {
   "codemirror_mode": {
    "name": "ipython",
    "version": 3
   },
   "file_extension": ".py",
   "mimetype": "text/x-python",
   "name": "python",
   "nbconvert_exporter": "python",
   "pygments_lexer": "ipython3",
   "version": "3.9.2"
  },
  "orig_nbformat": 4
 },
 "nbformat": 4,
 "nbformat_minor": 2
}
