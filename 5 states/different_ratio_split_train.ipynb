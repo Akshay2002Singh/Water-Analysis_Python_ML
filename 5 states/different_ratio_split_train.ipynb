{
 "cells": [
  {
   "cell_type": "code",
   "execution_count": 1,
   "metadata": {},
   "outputs": [],
   "source": [
    "import numpy as np\n",
    "import pandas as pd"
   ]
  },
  {
   "cell_type": "code",
   "execution_count": 2,
   "metadata": {},
   "outputs": [],
   "source": [
    "data_west = pd.read_excel(\"West_Bengal_filter.xlsx\",sheet_name=\"Sheet1\")\n",
    "data_telangana = pd.read_excel(\"Telangana_filter.xlsx\",sheet_name=\"Sheet1\")\n",
    "data_tamil = pd.read_excel(\"Tamil_Nadu_filter.xlsx\",sheet_name=\"Sheet1\")\n",
    "data_rajasthan = pd.read_excel(\"Rajasthan_filter.xlsx\",sheet_name=\"Sheet1\")\n",
    "data_andhra = pd.read_excel(\"Andhra_Pradesh_filter.xlsx\",sheet_name=\"Sheet1\")"
   ]
  },
  {
   "cell_type": "code",
   "execution_count": 3,
   "metadata": {},
   "outputs": [],
   "source": [
    "final_data = pd.concat([data_andhra,data_rajasthan,data_tamil,data_telangana,data_west], axis=0)"
   ]
  },
  {
   "cell_type": "code",
   "execution_count": 4,
   "metadata": {},
   "outputs": [
    {
     "data": {
      "text/html": [
       "<div>\n",
       "<style scoped>\n",
       "    .dataframe tbody tr th:only-of-type {\n",
       "        vertical-align: middle;\n",
       "    }\n",
       "\n",
       "    .dataframe tbody tr th {\n",
       "        vertical-align: top;\n",
       "    }\n",
       "\n",
       "    .dataframe thead th {\n",
       "        text-align: right;\n",
       "    }\n",
       "</style>\n",
       "<table border=\"1\" class=\"dataframe\">\n",
       "  <thead>\n",
       "    <tr style=\"text-align: right;\">\n",
       "      <th></th>\n",
       "      <th>PH</th>\n",
       "      <th>EC</th>\n",
       "      <th>TOT_ALKALINITY</th>\n",
       "      <th>CA</th>\n",
       "      <th>MG</th>\n",
       "      <th>NA</th>\n",
       "      <th>BICARBONATE</th>\n",
       "      <th>FLUORIDE</th>\n",
       "    </tr>\n",
       "  </thead>\n",
       "  <tbody>\n",
       "    <tr>\n",
       "      <th>0</th>\n",
       "      <td>7.83</td>\n",
       "      <td>2000.0</td>\n",
       "      <td>314.75</td>\n",
       "      <td>66.0</td>\n",
       "      <td>70.59</td>\n",
       "      <td>250.0</td>\n",
       "      <td>384.0</td>\n",
       "      <td>2.20</td>\n",
       "    </tr>\n",
       "    <tr>\n",
       "      <th>1</th>\n",
       "      <td>7.61</td>\n",
       "      <td>674.0</td>\n",
       "      <td>NaN</td>\n",
       "      <td>NaN</td>\n",
       "      <td>NaN</td>\n",
       "      <td>NaN</td>\n",
       "      <td>NaN</td>\n",
       "      <td>1.20</td>\n",
       "    </tr>\n",
       "    <tr>\n",
       "      <th>2</th>\n",
       "      <td>8.17</td>\n",
       "      <td>786.0</td>\n",
       "      <td>240.16</td>\n",
       "      <td>24.0</td>\n",
       "      <td>24.34</td>\n",
       "      <td>106.0</td>\n",
       "      <td>293.0</td>\n",
       "      <td>3.83</td>\n",
       "    </tr>\n",
       "    <tr>\n",
       "      <th>3</th>\n",
       "      <td>7.6</td>\n",
       "      <td>990.0</td>\n",
       "      <td>440.16</td>\n",
       "      <td>24.0</td>\n",
       "      <td>25.56</td>\n",
       "      <td>180.0</td>\n",
       "      <td>537.0</td>\n",
       "      <td>3.80</td>\n",
       "    </tr>\n",
       "    <tr>\n",
       "      <th>4</th>\n",
       "      <td>7.64</td>\n",
       "      <td>862.0</td>\n",
       "      <td>235.25</td>\n",
       "      <td>62.0</td>\n",
       "      <td>20.74</td>\n",
       "      <td>81.0</td>\n",
       "      <td>287.0</td>\n",
       "      <td>2.10</td>\n",
       "    </tr>\n",
       "  </tbody>\n",
       "</table>\n",
       "</div>"
      ],
      "text/plain": [
       "     PH      EC  TOT_ALKALINITY    CA     MG     NA  BICARBONATE  FLUORIDE\n",
       "0  7.83  2000.0          314.75  66.0  70.59  250.0        384.0      2.20\n",
       "1  7.61   674.0             NaN   NaN    NaN    NaN          NaN      1.20\n",
       "2  8.17   786.0          240.16  24.0  24.34  106.0        293.0      3.83\n",
       "3   7.6   990.0          440.16  24.0  25.56  180.0        537.0      3.80\n",
       "4  7.64   862.0          235.25  62.0  20.74   81.0        287.0      2.10"
      ]
     },
     "execution_count": 4,
     "metadata": {},
     "output_type": "execute_result"
    }
   ],
   "source": [
    "final_data.head()"
   ]
  },
  {
   "cell_type": "code",
   "execution_count": 5,
   "metadata": {},
   "outputs": [
    {
     "data": {
      "text/plain": [
       "PH                20977\n",
       "EC                21010\n",
       "TOT_ALKALINITY    14653\n",
       "CA                19681\n",
       "MG                19679\n",
       "NA                19575\n",
       "BICARBONATE       19840\n",
       "FLUORIDE          20391\n",
       "dtype: int64"
      ]
     },
     "execution_count": 5,
     "metadata": {},
     "output_type": "execute_result"
    }
   ],
   "source": [
    "final_data.count()"
   ]
  },
  {
   "cell_type": "code",
   "execution_count": 6,
   "metadata": {},
   "outputs": [
    {
     "data": {
      "text/plain": [
       "PH                14317\n",
       "EC                14317\n",
       "TOT_ALKALINITY    14317\n",
       "CA                14317\n",
       "MG                14317\n",
       "NA                14317\n",
       "BICARBONATE       14317\n",
       "FLUORIDE          14317\n",
       "dtype: int64"
      ]
     },
     "execution_count": 6,
     "metadata": {},
     "output_type": "execute_result"
    }
   ],
   "source": [
    "final_data = final_data.dropna(axis=0)\n",
    "final_data.count()"
   ]
  },
  {
   "cell_type": "code",
   "execution_count": 7,
   "metadata": {},
   "outputs": [
    {
     "name": "stdout",
     "output_type": "stream",
     "text": [
      "<class 'pandas.core.frame.DataFrame'>\n",
      "Int64Index: 14317 entries, 0 to 4031\n",
      "Data columns (total 8 columns):\n",
      " #   Column          Non-Null Count  Dtype  \n",
      "---  ------          --------------  -----  \n",
      " 0   PH              14317 non-null  float64\n",
      " 1   EC              14317 non-null  float64\n",
      " 2   TOT_ALKALINITY  14317 non-null  float64\n",
      " 3   CA              14317 non-null  float64\n",
      " 4   MG              14317 non-null  float64\n",
      " 5   NA              14317 non-null  float64\n",
      " 6   BICARBONATE     14317 non-null  float64\n",
      " 7   FLUORIDE        14317 non-null  float64\n",
      "dtypes: float64(8)\n",
      "memory usage: 1006.7 KB\n"
     ]
    }
   ],
   "source": [
    "final_data = final_data.astype(float)\n",
    "final_data.info()"
   ]
  },
  {
   "cell_type": "code",
   "execution_count": 8,
   "metadata": {},
   "outputs": [
    {
     "data": {
      "text/html": [
       "<div>\n",
       "<style scoped>\n",
       "    .dataframe tbody tr th:only-of-type {\n",
       "        vertical-align: middle;\n",
       "    }\n",
       "\n",
       "    .dataframe tbody tr th {\n",
       "        vertical-align: top;\n",
       "    }\n",
       "\n",
       "    .dataframe thead th {\n",
       "        text-align: right;\n",
       "    }\n",
       "</style>\n",
       "<table border=\"1\" class=\"dataframe\">\n",
       "  <thead>\n",
       "    <tr style=\"text-align: right;\">\n",
       "      <th></th>\n",
       "      <th>PH</th>\n",
       "      <th>EC</th>\n",
       "      <th>TOT_ALKALINITY</th>\n",
       "      <th>CA</th>\n",
       "      <th>MG</th>\n",
       "      <th>NA</th>\n",
       "      <th>BICARBONATE</th>\n",
       "      <th>FLUORIDE</th>\n",
       "    </tr>\n",
       "  </thead>\n",
       "  <tbody>\n",
       "    <tr>\n",
       "      <th>PH</th>\n",
       "      <td>1.000000</td>\n",
       "      <td>0.007638</td>\n",
       "      <td>0.159336</td>\n",
       "      <td>-0.258240</td>\n",
       "      <td>-0.072663</td>\n",
       "      <td>0.111236</td>\n",
       "      <td>0.004120</td>\n",
       "      <td>0.104397</td>\n",
       "    </tr>\n",
       "    <tr>\n",
       "      <th>EC</th>\n",
       "      <td>0.007638</td>\n",
       "      <td>1.000000</td>\n",
       "      <td>0.326843</td>\n",
       "      <td>0.588173</td>\n",
       "      <td>0.419715</td>\n",
       "      <td>0.893397</td>\n",
       "      <td>0.376564</td>\n",
       "      <td>0.144962</td>\n",
       "    </tr>\n",
       "    <tr>\n",
       "      <th>TOT_ALKALINITY</th>\n",
       "      <td>0.159336</td>\n",
       "      <td>0.326843</td>\n",
       "      <td>1.000000</td>\n",
       "      <td>0.066551</td>\n",
       "      <td>0.037629</td>\n",
       "      <td>0.365656</td>\n",
       "      <td>0.858184</td>\n",
       "      <td>0.207236</td>\n",
       "    </tr>\n",
       "    <tr>\n",
       "      <th>CA</th>\n",
       "      <td>-0.258240</td>\n",
       "      <td>0.588173</td>\n",
       "      <td>0.066551</td>\n",
       "      <td>1.000000</td>\n",
       "      <td>0.335212</td>\n",
       "      <td>0.431942</td>\n",
       "      <td>0.134535</td>\n",
       "      <td>-0.021407</td>\n",
       "    </tr>\n",
       "    <tr>\n",
       "      <th>MG</th>\n",
       "      <td>-0.072663</td>\n",
       "      <td>0.419715</td>\n",
       "      <td>0.037629</td>\n",
       "      <td>0.335212</td>\n",
       "      <td>1.000000</td>\n",
       "      <td>0.316331</td>\n",
       "      <td>0.158502</td>\n",
       "      <td>0.032624</td>\n",
       "    </tr>\n",
       "    <tr>\n",
       "      <th>NA</th>\n",
       "      <td>0.111236</td>\n",
       "      <td>0.893397</td>\n",
       "      <td>0.365656</td>\n",
       "      <td>0.431942</td>\n",
       "      <td>0.316331</td>\n",
       "      <td>1.000000</td>\n",
       "      <td>0.383354</td>\n",
       "      <td>0.205203</td>\n",
       "    </tr>\n",
       "    <tr>\n",
       "      <th>BICARBONATE</th>\n",
       "      <td>0.004120</td>\n",
       "      <td>0.376564</td>\n",
       "      <td>0.858184</td>\n",
       "      <td>0.134535</td>\n",
       "      <td>0.158502</td>\n",
       "      <td>0.383354</td>\n",
       "      <td>1.000000</td>\n",
       "      <td>0.219009</td>\n",
       "    </tr>\n",
       "    <tr>\n",
       "      <th>FLUORIDE</th>\n",
       "      <td>0.104397</td>\n",
       "      <td>0.144962</td>\n",
       "      <td>0.207236</td>\n",
       "      <td>-0.021407</td>\n",
       "      <td>0.032624</td>\n",
       "      <td>0.205203</td>\n",
       "      <td>0.219009</td>\n",
       "      <td>1.000000</td>\n",
       "    </tr>\n",
       "  </tbody>\n",
       "</table>\n",
       "</div>"
      ],
      "text/plain": [
       "                      PH        EC  TOT_ALKALINITY        CA        MG  \\\n",
       "PH              1.000000  0.007638        0.159336 -0.258240 -0.072663   \n",
       "EC              0.007638  1.000000        0.326843  0.588173  0.419715   \n",
       "TOT_ALKALINITY  0.159336  0.326843        1.000000  0.066551  0.037629   \n",
       "CA             -0.258240  0.588173        0.066551  1.000000  0.335212   \n",
       "MG             -0.072663  0.419715        0.037629  0.335212  1.000000   \n",
       "NA              0.111236  0.893397        0.365656  0.431942  0.316331   \n",
       "BICARBONATE     0.004120  0.376564        0.858184  0.134535  0.158502   \n",
       "FLUORIDE        0.104397  0.144962        0.207236 -0.021407  0.032624   \n",
       "\n",
       "                      NA  BICARBONATE  FLUORIDE  \n",
       "PH              0.111236     0.004120  0.104397  \n",
       "EC              0.893397     0.376564  0.144962  \n",
       "TOT_ALKALINITY  0.365656     0.858184  0.207236  \n",
       "CA              0.431942     0.134535 -0.021407  \n",
       "MG              0.316331     0.158502  0.032624  \n",
       "NA              1.000000     0.383354  0.205203  \n",
       "BICARBONATE     0.383354     1.000000  0.219009  \n",
       "FLUORIDE        0.205203     0.219009  1.000000  "
      ]
     },
     "execution_count": 8,
     "metadata": {},
     "output_type": "execute_result"
    }
   ],
   "source": [
    "final_data.corr()"
   ]
  },
  {
   "cell_type": "code",
   "execution_count": 9,
   "metadata": {},
   "outputs": [
    {
     "data": {
      "text/plain": [
       "0    9685\n",
       "1    4632\n",
       "Name: Bin_Fluoride, dtype: int64"
      ]
     },
     "execution_count": 9,
     "metadata": {},
     "output_type": "execute_result"
    }
   ],
   "source": [
    "final_data['Bin_Fluoride'] = np.where( final_data['FLUORIDE'] >= 1,1,0)\n",
    "final_data['Bin_Fluoride'].value_counts()"
   ]
  },
  {
   "cell_type": "code",
   "execution_count": 10,
   "metadata": {},
   "outputs": [
    {
     "data": {
      "text/html": [
       "<div>\n",
       "<style scoped>\n",
       "    .dataframe tbody tr th:only-of-type {\n",
       "        vertical-align: middle;\n",
       "    }\n",
       "\n",
       "    .dataframe tbody tr th {\n",
       "        vertical-align: top;\n",
       "    }\n",
       "\n",
       "    .dataframe thead th {\n",
       "        text-align: right;\n",
       "    }\n",
       "</style>\n",
       "<table border=\"1\" class=\"dataframe\">\n",
       "  <thead>\n",
       "    <tr style=\"text-align: right;\">\n",
       "      <th></th>\n",
       "      <th>PH</th>\n",
       "      <th>EC</th>\n",
       "      <th>TOT_ALKALINITY</th>\n",
       "      <th>CA</th>\n",
       "      <th>MG</th>\n",
       "      <th>NA</th>\n",
       "      <th>BICARBONATE</th>\n",
       "      <th>FLUORIDE</th>\n",
       "      <th>Bin_Fluoride</th>\n",
       "    </tr>\n",
       "  </thead>\n",
       "  <tbody>\n",
       "    <tr>\n",
       "      <th>0</th>\n",
       "      <td>7.83</td>\n",
       "      <td>2000.0</td>\n",
       "      <td>314.75</td>\n",
       "      <td>66.0</td>\n",
       "      <td>70.59</td>\n",
       "      <td>250.0</td>\n",
       "      <td>384.0</td>\n",
       "      <td>2.20</td>\n",
       "      <td>1</td>\n",
       "    </tr>\n",
       "    <tr>\n",
       "      <th>2</th>\n",
       "      <td>8.17</td>\n",
       "      <td>786.0</td>\n",
       "      <td>240.16</td>\n",
       "      <td>24.0</td>\n",
       "      <td>24.34</td>\n",
       "      <td>106.0</td>\n",
       "      <td>293.0</td>\n",
       "      <td>3.83</td>\n",
       "      <td>1</td>\n",
       "    </tr>\n",
       "    <tr>\n",
       "      <th>3</th>\n",
       "      <td>7.60</td>\n",
       "      <td>990.0</td>\n",
       "      <td>440.16</td>\n",
       "      <td>24.0</td>\n",
       "      <td>25.56</td>\n",
       "      <td>180.0</td>\n",
       "      <td>537.0</td>\n",
       "      <td>3.80</td>\n",
       "      <td>1</td>\n",
       "    </tr>\n",
       "    <tr>\n",
       "      <th>4</th>\n",
       "      <td>7.64</td>\n",
       "      <td>862.0</td>\n",
       "      <td>235.25</td>\n",
       "      <td>62.0</td>\n",
       "      <td>20.74</td>\n",
       "      <td>81.0</td>\n",
       "      <td>287.0</td>\n",
       "      <td>2.10</td>\n",
       "      <td>1</td>\n",
       "    </tr>\n",
       "    <tr>\n",
       "      <th>6</th>\n",
       "      <td>8.13</td>\n",
       "      <td>788.0</td>\n",
       "      <td>304.92</td>\n",
       "      <td>18.0</td>\n",
       "      <td>20.69</td>\n",
       "      <td>132.0</td>\n",
       "      <td>372.0</td>\n",
       "      <td>2.40</td>\n",
       "      <td>1</td>\n",
       "    </tr>\n",
       "  </tbody>\n",
       "</table>\n",
       "</div>"
      ],
      "text/plain": [
       "     PH      EC  TOT_ALKALINITY    CA     MG     NA  BICARBONATE  FLUORIDE  \\\n",
       "0  7.83  2000.0          314.75  66.0  70.59  250.0        384.0      2.20   \n",
       "2  8.17   786.0          240.16  24.0  24.34  106.0        293.0      3.83   \n",
       "3  7.60   990.0          440.16  24.0  25.56  180.0        537.0      3.80   \n",
       "4  7.64   862.0          235.25  62.0  20.74   81.0        287.0      2.10   \n",
       "6  8.13   788.0          304.92  18.0  20.69  132.0        372.0      2.40   \n",
       "\n",
       "   Bin_Fluoride  \n",
       "0             1  \n",
       "2             1  \n",
       "3             1  \n",
       "4             1  \n",
       "6             1  "
      ]
     },
     "execution_count": 10,
     "metadata": {},
     "output_type": "execute_result"
    }
   ],
   "source": [
    "final_data.head()"
   ]
  },
  {
   "cell_type": "code",
   "execution_count": 11,
   "metadata": {},
   "outputs": [],
   "source": [
    "final_data = final_data.drop(['FLUORIDE'],axis=1)"
   ]
  },
  {
   "cell_type": "code",
   "execution_count": 12,
   "metadata": {},
   "outputs": [
    {
     "data": {
      "text/plain": [
       "(14317, 8)"
      ]
     },
     "execution_count": 12,
     "metadata": {},
     "output_type": "execute_result"
    }
   ],
   "source": [
    "final_data.shape"
   ]
  },
  {
   "cell_type": "code",
   "execution_count": 13,
   "metadata": {},
   "outputs": [],
   "source": [
    "data = final_data"
   ]
  },
  {
   "cell_type": "code",
   "execution_count": 14,
   "metadata": {},
   "outputs": [
    {
     "data": {
      "text/html": [
       "<div>\n",
       "<style scoped>\n",
       "    .dataframe tbody tr th:only-of-type {\n",
       "        vertical-align: middle;\n",
       "    }\n",
       "\n",
       "    .dataframe tbody tr th {\n",
       "        vertical-align: top;\n",
       "    }\n",
       "\n",
       "    .dataframe thead th {\n",
       "        text-align: right;\n",
       "    }\n",
       "</style>\n",
       "<table border=\"1\" class=\"dataframe\">\n",
       "  <thead>\n",
       "    <tr style=\"text-align: right;\">\n",
       "      <th></th>\n",
       "      <th>PH</th>\n",
       "      <th>EC</th>\n",
       "      <th>TOT_ALKALINITY</th>\n",
       "      <th>CA</th>\n",
       "      <th>MG</th>\n",
       "      <th>NA</th>\n",
       "      <th>BICARBONATE</th>\n",
       "      <th>Bin_Fluoride</th>\n",
       "    </tr>\n",
       "  </thead>\n",
       "  <tbody>\n",
       "    <tr>\n",
       "      <th>2939</th>\n",
       "      <td>8.14</td>\n",
       "      <td>582.0</td>\n",
       "      <td>205.000000</td>\n",
       "      <td>28.0</td>\n",
       "      <td>37.6650</td>\n",
       "      <td>30.69</td>\n",
       "      <td>250.100</td>\n",
       "      <td>0</td>\n",
       "    </tr>\n",
       "    <tr>\n",
       "      <th>5031</th>\n",
       "      <td>7.90</td>\n",
       "      <td>1090.0</td>\n",
       "      <td>336.065574</td>\n",
       "      <td>70.0</td>\n",
       "      <td>35.3400</td>\n",
       "      <td>120.00</td>\n",
       "      <td>410.000</td>\n",
       "      <td>1</td>\n",
       "    </tr>\n",
       "    <tr>\n",
       "      <th>1637</th>\n",
       "      <td>7.72</td>\n",
       "      <td>1000.0</td>\n",
       "      <td>269.670000</td>\n",
       "      <td>72.0</td>\n",
       "      <td>36.5600</td>\n",
       "      <td>84.00</td>\n",
       "      <td>329.000</td>\n",
       "      <td>1</td>\n",
       "    </tr>\n",
       "    <tr>\n",
       "      <th>3853</th>\n",
       "      <td>7.20</td>\n",
       "      <td>998.0</td>\n",
       "      <td>0.000000</td>\n",
       "      <td>80.0</td>\n",
       "      <td>63.1904</td>\n",
       "      <td>41.17</td>\n",
       "      <td>408.834</td>\n",
       "      <td>0</td>\n",
       "    </tr>\n",
       "    <tr>\n",
       "      <th>1618</th>\n",
       "      <td>7.90</td>\n",
       "      <td>474.0</td>\n",
       "      <td>165.000000</td>\n",
       "      <td>22.0</td>\n",
       "      <td>27.9450</td>\n",
       "      <td>96.00</td>\n",
       "      <td>201.300</td>\n",
       "      <td>0</td>\n",
       "    </tr>\n",
       "    <tr>\n",
       "      <th>...</th>\n",
       "      <td>...</td>\n",
       "      <td>...</td>\n",
       "      <td>...</td>\n",
       "      <td>...</td>\n",
       "      <td>...</td>\n",
       "      <td>...</td>\n",
       "      <td>...</td>\n",
       "      <td>...</td>\n",
       "    </tr>\n",
       "    <tr>\n",
       "      <th>916</th>\n",
       "      <td>7.29</td>\n",
       "      <td>423.0</td>\n",
       "      <td>145.000000</td>\n",
       "      <td>26.0</td>\n",
       "      <td>24.3000</td>\n",
       "      <td>26.20</td>\n",
       "      <td>176.900</td>\n",
       "      <td>0</td>\n",
       "    </tr>\n",
       "    <tr>\n",
       "      <th>2509</th>\n",
       "      <td>8.42</td>\n",
       "      <td>2000.0</td>\n",
       "      <td>420.330000</td>\n",
       "      <td>60.0</td>\n",
       "      <td>55.9900</td>\n",
       "      <td>200.00</td>\n",
       "      <td>464.000</td>\n",
       "      <td>1</td>\n",
       "    </tr>\n",
       "    <tr>\n",
       "      <th>2782</th>\n",
       "      <td>7.36</td>\n",
       "      <td>2600.0</td>\n",
       "      <td>259.835390</td>\n",
       "      <td>124.0</td>\n",
       "      <td>113.2100</td>\n",
       "      <td>225.00</td>\n",
       "      <td>317.000</td>\n",
       "      <td>0</td>\n",
       "    </tr>\n",
       "    <tr>\n",
       "      <th>2435</th>\n",
       "      <td>8.04</td>\n",
       "      <td>760.0</td>\n",
       "      <td>164.750000</td>\n",
       "      <td>42.0</td>\n",
       "      <td>16.5800</td>\n",
       "      <td>93.00</td>\n",
       "      <td>201.000</td>\n",
       "      <td>0</td>\n",
       "    </tr>\n",
       "    <tr>\n",
       "      <th>3840</th>\n",
       "      <td>7.32</td>\n",
       "      <td>710.0</td>\n",
       "      <td>230.327869</td>\n",
       "      <td>48.0</td>\n",
       "      <td>46.2080</td>\n",
       "      <td>25.00</td>\n",
       "      <td>281.000</td>\n",
       "      <td>0</td>\n",
       "    </tr>\n",
       "  </tbody>\n",
       "</table>\n",
       "<p>14317 rows × 8 columns</p>\n",
       "</div>"
      ],
      "text/plain": [
       "        PH      EC  TOT_ALKALINITY     CA        MG      NA  BICARBONATE  \\\n",
       "2939  8.14   582.0      205.000000   28.0   37.6650   30.69      250.100   \n",
       "5031  7.90  1090.0      336.065574   70.0   35.3400  120.00      410.000   \n",
       "1637  7.72  1000.0      269.670000   72.0   36.5600   84.00      329.000   \n",
       "3853  7.20   998.0        0.000000   80.0   63.1904   41.17      408.834   \n",
       "1618  7.90   474.0      165.000000   22.0   27.9450   96.00      201.300   \n",
       "...    ...     ...             ...    ...       ...     ...          ...   \n",
       "916   7.29   423.0      145.000000   26.0   24.3000   26.20      176.900   \n",
       "2509  8.42  2000.0      420.330000   60.0   55.9900  200.00      464.000   \n",
       "2782  7.36  2600.0      259.835390  124.0  113.2100  225.00      317.000   \n",
       "2435  8.04   760.0      164.750000   42.0   16.5800   93.00      201.000   \n",
       "3840  7.32   710.0      230.327869   48.0   46.2080   25.00      281.000   \n",
       "\n",
       "      Bin_Fluoride  \n",
       "2939             0  \n",
       "5031             1  \n",
       "1637             1  \n",
       "3853             0  \n",
       "1618             0  \n",
       "...            ...  \n",
       "916              0  \n",
       "2509             1  \n",
       "2782             0  \n",
       "2435             0  \n",
       "3840             0  \n",
       "\n",
       "[14317 rows x 8 columns]"
      ]
     },
     "execution_count": 14,
     "metadata": {},
     "output_type": "execute_result"
    }
   ],
   "source": [
    "final_data = final_data.sample(frac=1)\n",
    "final_data"
   ]
  },
  {
   "cell_type": "code",
   "execution_count": 15,
   "metadata": {},
   "outputs": [
    {
     "data": {
      "text/html": [
       "<div>\n",
       "<style scoped>\n",
       "    .dataframe tbody tr th:only-of-type {\n",
       "        vertical-align: middle;\n",
       "    }\n",
       "\n",
       "    .dataframe tbody tr th {\n",
       "        vertical-align: top;\n",
       "    }\n",
       "\n",
       "    .dataframe thead th {\n",
       "        text-align: right;\n",
       "    }\n",
       "</style>\n",
       "<table border=\"1\" class=\"dataframe\">\n",
       "  <thead>\n",
       "    <tr style=\"text-align: right;\">\n",
       "      <th></th>\n",
       "      <th>PH</th>\n",
       "      <th>EC</th>\n",
       "      <th>TOT_ALKALINITY</th>\n",
       "      <th>CA</th>\n",
       "      <th>MG</th>\n",
       "      <th>NA</th>\n",
       "      <th>BICARBONATE</th>\n",
       "    </tr>\n",
       "  </thead>\n",
       "  <tbody>\n",
       "    <tr>\n",
       "      <th>2939</th>\n",
       "      <td>8.14</td>\n",
       "      <td>582.0</td>\n",
       "      <td>205.000000</td>\n",
       "      <td>28.0</td>\n",
       "      <td>37.6650</td>\n",
       "      <td>30.69</td>\n",
       "      <td>250.100</td>\n",
       "    </tr>\n",
       "    <tr>\n",
       "      <th>5031</th>\n",
       "      <td>7.90</td>\n",
       "      <td>1090.0</td>\n",
       "      <td>336.065574</td>\n",
       "      <td>70.0</td>\n",
       "      <td>35.3400</td>\n",
       "      <td>120.00</td>\n",
       "      <td>410.000</td>\n",
       "    </tr>\n",
       "    <tr>\n",
       "      <th>1637</th>\n",
       "      <td>7.72</td>\n",
       "      <td>1000.0</td>\n",
       "      <td>269.670000</td>\n",
       "      <td>72.0</td>\n",
       "      <td>36.5600</td>\n",
       "      <td>84.00</td>\n",
       "      <td>329.000</td>\n",
       "    </tr>\n",
       "    <tr>\n",
       "      <th>3853</th>\n",
       "      <td>7.20</td>\n",
       "      <td>998.0</td>\n",
       "      <td>0.000000</td>\n",
       "      <td>80.0</td>\n",
       "      <td>63.1904</td>\n",
       "      <td>41.17</td>\n",
       "      <td>408.834</td>\n",
       "    </tr>\n",
       "    <tr>\n",
       "      <th>1618</th>\n",
       "      <td>7.90</td>\n",
       "      <td>474.0</td>\n",
       "      <td>165.000000</td>\n",
       "      <td>22.0</td>\n",
       "      <td>27.9450</td>\n",
       "      <td>96.00</td>\n",
       "      <td>201.300</td>\n",
       "    </tr>\n",
       "    <tr>\n",
       "      <th>...</th>\n",
       "      <td>...</td>\n",
       "      <td>...</td>\n",
       "      <td>...</td>\n",
       "      <td>...</td>\n",
       "      <td>...</td>\n",
       "      <td>...</td>\n",
       "      <td>...</td>\n",
       "    </tr>\n",
       "    <tr>\n",
       "      <th>916</th>\n",
       "      <td>7.29</td>\n",
       "      <td>423.0</td>\n",
       "      <td>145.000000</td>\n",
       "      <td>26.0</td>\n",
       "      <td>24.3000</td>\n",
       "      <td>26.20</td>\n",
       "      <td>176.900</td>\n",
       "    </tr>\n",
       "    <tr>\n",
       "      <th>2509</th>\n",
       "      <td>8.42</td>\n",
       "      <td>2000.0</td>\n",
       "      <td>420.330000</td>\n",
       "      <td>60.0</td>\n",
       "      <td>55.9900</td>\n",
       "      <td>200.00</td>\n",
       "      <td>464.000</td>\n",
       "    </tr>\n",
       "    <tr>\n",
       "      <th>2782</th>\n",
       "      <td>7.36</td>\n",
       "      <td>2600.0</td>\n",
       "      <td>259.835390</td>\n",
       "      <td>124.0</td>\n",
       "      <td>113.2100</td>\n",
       "      <td>225.00</td>\n",
       "      <td>317.000</td>\n",
       "    </tr>\n",
       "    <tr>\n",
       "      <th>2435</th>\n",
       "      <td>8.04</td>\n",
       "      <td>760.0</td>\n",
       "      <td>164.750000</td>\n",
       "      <td>42.0</td>\n",
       "      <td>16.5800</td>\n",
       "      <td>93.00</td>\n",
       "      <td>201.000</td>\n",
       "    </tr>\n",
       "    <tr>\n",
       "      <th>3840</th>\n",
       "      <td>7.32</td>\n",
       "      <td>710.0</td>\n",
       "      <td>230.327869</td>\n",
       "      <td>48.0</td>\n",
       "      <td>46.2080</td>\n",
       "      <td>25.00</td>\n",
       "      <td>281.000</td>\n",
       "    </tr>\n",
       "  </tbody>\n",
       "</table>\n",
       "<p>14317 rows × 7 columns</p>\n",
       "</div>"
      ],
      "text/plain": [
       "        PH      EC  TOT_ALKALINITY     CA        MG      NA  BICARBONATE\n",
       "2939  8.14   582.0      205.000000   28.0   37.6650   30.69      250.100\n",
       "5031  7.90  1090.0      336.065574   70.0   35.3400  120.00      410.000\n",
       "1637  7.72  1000.0      269.670000   72.0   36.5600   84.00      329.000\n",
       "3853  7.20   998.0        0.000000   80.0   63.1904   41.17      408.834\n",
       "1618  7.90   474.0      165.000000   22.0   27.9450   96.00      201.300\n",
       "...    ...     ...             ...    ...       ...     ...          ...\n",
       "916   7.29   423.0      145.000000   26.0   24.3000   26.20      176.900\n",
       "2509  8.42  2000.0      420.330000   60.0   55.9900  200.00      464.000\n",
       "2782  7.36  2600.0      259.835390  124.0  113.2100  225.00      317.000\n",
       "2435  8.04   760.0      164.750000   42.0   16.5800   93.00      201.000\n",
       "3840  7.32   710.0      230.327869   48.0   46.2080   25.00      281.000\n",
       "\n",
       "[14317 rows x 7 columns]"
      ]
     },
     "execution_count": 15,
     "metadata": {},
     "output_type": "execute_result"
    }
   ],
   "source": [
    "x = final_data.drop(['Bin_Fluoride'],axis=1)\n",
    "x"
   ]
  },
  {
   "cell_type": "code",
   "execution_count": 16,
   "metadata": {},
   "outputs": [
    {
     "data": {
      "text/plain": [
       "2939    0\n",
       "5031    1\n",
       "1637    1\n",
       "3853    0\n",
       "1618    0\n",
       "       ..\n",
       "916     0\n",
       "2509    1\n",
       "2782    0\n",
       "2435    0\n",
       "3840    0\n",
       "Name: Bin_Fluoride, Length: 14317, dtype: int64"
      ]
     },
     "execution_count": 16,
     "metadata": {},
     "output_type": "execute_result"
    }
   ],
   "source": [
    "y = final_data[:]['Bin_Fluoride']\n",
    "y"
   ]
  },
  {
   "cell_type": "code",
   "execution_count": 17,
   "metadata": {},
   "outputs": [],
   "source": [
    "from sklearn.model_selection import train_test_split\n",
    "x_train, x_test, y_train, y_test = train_test_split(x, y, test_size=0.3, random_state=42)"
   ]
  },
  {
   "cell_type": "code",
   "execution_count": 18,
   "metadata": {},
   "outputs": [
    {
     "data": {
      "text/plain": [
       "(10021, 7)"
      ]
     },
     "execution_count": 18,
     "metadata": {},
     "output_type": "execute_result"
    }
   ],
   "source": [
    "# x_train,x_test=x[:10000],x[10000:]\n",
    "x_train.shape"
   ]
  },
  {
   "cell_type": "code",
   "execution_count": 19,
   "metadata": {},
   "outputs": [
    {
     "data": {
      "text/plain": [
       "(4296, 7)"
      ]
     },
     "execution_count": 19,
     "metadata": {},
     "output_type": "execute_result"
    }
   ],
   "source": [
    "x_test.shape"
   ]
  },
  {
   "cell_type": "code",
   "execution_count": 20,
   "metadata": {},
   "outputs": [
    {
     "data": {
      "text/plain": [
       "0    6784\n",
       "1    3237\n",
       "Name: Bin_Fluoride, dtype: int64"
      ]
     },
     "execution_count": 20,
     "metadata": {},
     "output_type": "execute_result"
    }
   ],
   "source": [
    "# y_train,y_test=y[:10000],y[10000:]\n",
    "y_train.value_counts()"
   ]
  },
  {
   "cell_type": "code",
   "execution_count": 21,
   "metadata": {},
   "outputs": [
    {
     "data": {
      "text/plain": [
       "0    2901\n",
       "1    1395\n",
       "Name: Bin_Fluoride, dtype: int64"
      ]
     },
     "execution_count": 21,
     "metadata": {},
     "output_type": "execute_result"
    }
   ],
   "source": [
    "y_test.value_counts()"
   ]
  },
  {
   "cell_type": "markdown",
   "metadata": {},
   "source": [
    "# ***Resample Test data***"
   ]
  },
  {
   "cell_type": "code",
   "execution_count": 22,
   "metadata": {},
   "outputs": [],
   "source": [
    "# from imblearn.over_sampling import SMOTE\n",
    "# sm = SMOTE(random_state=12)\n",
    "# x_train,y_train = sm.fit_resample(x_train,y_train)"
   ]
  },
  {
   "cell_type": "code",
   "execution_count": 23,
   "metadata": {},
   "outputs": [
    {
     "name": "stdout",
     "output_type": "stream",
     "text": [
      "<class 'pandas.core.frame.DataFrame'>\n",
      "Int64Index: 10021 entries, 1517 to 2436\n",
      "Data columns (total 7 columns):\n",
      " #   Column          Non-Null Count  Dtype  \n",
      "---  ------          --------------  -----  \n",
      " 0   PH              10021 non-null  float64\n",
      " 1   EC              10021 non-null  float64\n",
      " 2   TOT_ALKALINITY  10021 non-null  float64\n",
      " 3   CA              10021 non-null  float64\n",
      " 4   MG              10021 non-null  float64\n",
      " 5   NA              10021 non-null  float64\n",
      " 6   BICARBONATE     10021 non-null  float64\n",
      "dtypes: float64(7)\n",
      "memory usage: 626.3 KB\n"
     ]
    }
   ],
   "source": [
    "x_train.info()"
   ]
  },
  {
   "cell_type": "code",
   "execution_count": 24,
   "metadata": {},
   "outputs": [
    {
     "name": "stdout",
     "output_type": "stream",
     "text": [
      "<class 'pandas.core.series.Series'>\n",
      "Int64Index: 10021 entries, 1517 to 2436\n",
      "Series name: Bin_Fluoride\n",
      "Non-Null Count  Dtype\n",
      "--------------  -----\n",
      "10021 non-null  int64\n",
      "dtypes: int64(1)\n",
      "memory usage: 156.6 KB\n"
     ]
    }
   ],
   "source": [
    "y_train.info()"
   ]
  },
  {
   "cell_type": "code",
   "execution_count": 25,
   "metadata": {},
   "outputs": [
    {
     "data": {
      "text/plain": [
       "0    6784\n",
       "1    3237\n",
       "Name: Bin_Fluoride, dtype: int64"
      ]
     },
     "execution_count": 25,
     "metadata": {},
     "output_type": "execute_result"
    }
   ],
   "source": [
    "y_train.value_counts()"
   ]
  },
  {
   "cell_type": "markdown",
   "metadata": {},
   "source": [
    "# ***Random Forest***"
   ]
  },
  {
   "cell_type": "code",
   "execution_count": 26,
   "metadata": {},
   "outputs": [
    {
     "data": {
      "text/plain": [
       "RandomForestClassifier(max_depth=19, random_state=10)"
      ]
     },
     "execution_count": 26,
     "metadata": {},
     "output_type": "execute_result"
    }
   ],
   "source": [
    "from sklearn.ensemble import RandomForestClassifier\n",
    "clf_forest = RandomForestClassifier(max_depth=19, random_state=10)\n",
    "clf_forest.fit(x_train,y_train)"
   ]
  },
  {
   "cell_type": "code",
   "execution_count": 27,
   "metadata": {},
   "outputs": [
    {
     "data": {
      "text/plain": [
       "array([0, 0, 1, ..., 1, 0, 0])"
      ]
     },
     "execution_count": 27,
     "metadata": {},
     "output_type": "execute_result"
    }
   ],
   "source": [
    "y_test_predict_forest = clf_forest.predict(x_test[:][:])\n",
    "y_test_predict_forest"
   ]
  },
  {
   "cell_type": "code",
   "execution_count": 28,
   "metadata": {},
   "outputs": [],
   "source": [
    "from sklearn.metrics import confusion_matrix"
   ]
  },
  {
   "cell_type": "code",
   "execution_count": 29,
   "metadata": {},
   "outputs": [
    {
     "data": {
      "text/plain": [
       "array([[2610,  291],\n",
       "       [ 858,  537]])"
      ]
     },
     "execution_count": 29,
     "metadata": {},
     "output_type": "execute_result"
    }
   ],
   "source": [
    "confusion_matrix(y_test,y_test_predict_forest)"
   ]
  },
  {
   "cell_type": "code",
   "execution_count": 30,
   "metadata": {},
   "outputs": [],
   "source": [
    "# after resampling\n",
    "# [[2226,  665],\n",
    "# [ 603,  823]]       19,10\n"
   ]
  },
  {
   "cell_type": "code",
   "execution_count": 31,
   "metadata": {},
   "outputs": [],
   "source": [
    "# without resampling\n",
    "# [2629,  297], \n",
    "# [ 882,  509]]  10,10  \n",
    "#  \n",
    "# ([[2625,  301],\n",
    "# [ 863,  528]])   12,10\n",
    "\n",
    "# ([[2620,  306],\n",
    "# [ 837,  554]])   14,10"
   ]
  },
  {
   "cell_type": "markdown",
   "metadata": {},
   "source": [
    "# Modify data"
   ]
  },
  {
   "cell_type": "code",
   "execution_count": 32,
   "metadata": {},
   "outputs": [],
   "source": [
    "# data.head()"
   ]
  },
  {
   "cell_type": "code",
   "execution_count": 33,
   "metadata": {},
   "outputs": [],
   "source": [
    "# data['NA/CA'] = np.where(data['CA']!=0,data['NA']/data['CA'],0)\n",
    "# data.head()"
   ]
  },
  {
   "cell_type": "code",
   "execution_count": 34,
   "metadata": {},
   "outputs": [],
   "source": [
    "# data.count()"
   ]
  },
  {
   "cell_type": "code",
   "execution_count": 35,
   "metadata": {},
   "outputs": [],
   "source": [
    "# data = data.dropna(axis=0)"
   ]
  },
  {
   "cell_type": "code",
   "execution_count": 36,
   "metadata": {},
   "outputs": [],
   "source": [
    "# data.count()"
   ]
  },
  {
   "cell_type": "code",
   "execution_count": 37,
   "metadata": {},
   "outputs": [],
   "source": [
    "# data = data.astype(\"f\")\n",
    "# data.info()"
   ]
  },
  {
   "cell_type": "code",
   "execution_count": null,
   "metadata": {},
   "outputs": [],
   "source": []
  },
  {
   "cell_type": "code",
   "execution_count": 38,
   "metadata": {},
   "outputs": [],
   "source": [
    "# data = data.sample(frac=1)\n",
    "# data.head()"
   ]
  },
  {
   "cell_type": "code",
   "execution_count": 39,
   "metadata": {},
   "outputs": [],
   "source": [
    "# x = data.drop(['Bin_Fluoride','CA','NA'],axis=1)\n",
    "# x.head()"
   ]
  },
  {
   "cell_type": "code",
   "execution_count": 40,
   "metadata": {},
   "outputs": [],
   "source": [
    "# y = data['Bin_Fluoride']\n",
    "# y.head()"
   ]
  },
  {
   "cell_type": "code",
   "execution_count": 41,
   "metadata": {},
   "outputs": [],
   "source": [
    "# x.info()"
   ]
  },
  {
   "cell_type": "code",
   "execution_count": 42,
   "metadata": {},
   "outputs": [],
   "source": [
    "# x_train,x_test=x[:10000],x[10000:]\n",
    "# x_train.shape"
   ]
  },
  {
   "cell_type": "code",
   "execution_count": 43,
   "metadata": {},
   "outputs": [],
   "source": [
    "# x_test.shape"
   ]
  },
  {
   "cell_type": "code",
   "execution_count": 44,
   "metadata": {},
   "outputs": [],
   "source": [
    "# y_train,y_test=y[:10000],y[10000:]\n",
    "# y_train.shape"
   ]
  },
  {
   "cell_type": "code",
   "execution_count": 45,
   "metadata": {},
   "outputs": [],
   "source": [
    "# y_test.shape"
   ]
  },
  {
   "cell_type": "markdown",
   "metadata": {},
   "source": [
    "## Resample data"
   ]
  },
  {
   "cell_type": "code",
   "execution_count": 46,
   "metadata": {},
   "outputs": [],
   "source": [
    "# y_train.value_counts()"
   ]
  },
  {
   "cell_type": "code",
   "execution_count": 47,
   "metadata": {},
   "outputs": [],
   "source": [
    "# from imblearn.over_sampling import SMOTE\n",
    "# sm = SMOTE(random_state=12)\n",
    "# x_train,y_train = sm.fit_resample(x_train,y_train)"
   ]
  },
  {
   "cell_type": "code",
   "execution_count": 48,
   "metadata": {},
   "outputs": [],
   "source": [
    "# y_train.value_counts()"
   ]
  },
  {
   "cell_type": "markdown",
   "metadata": {},
   "source": [
    "## **Random forest**"
   ]
  },
  {
   "cell_type": "code",
   "execution_count": 49,
   "metadata": {},
   "outputs": [],
   "source": [
    "# x_train.head()"
   ]
  },
  {
   "cell_type": "code",
   "execution_count": 50,
   "metadata": {},
   "outputs": [],
   "source": [
    "# from sklearn.ensemble import RandomForestClassifier\n",
    "# new_forest = RandomForestClassifier(max_depth=19, random_state=10)\n",
    "# new_forest.fit(x_train,y_train)"
   ]
  },
  {
   "cell_type": "code",
   "execution_count": 51,
   "metadata": {},
   "outputs": [],
   "source": [
    "# y_test_predict_forest = new_forest.predict(x_test[:][:])\n",
    "# y_test_predict_forest"
   ]
  },
  {
   "cell_type": "code",
   "execution_count": 52,
   "metadata": {},
   "outputs": [],
   "source": [
    "# confusion_matrix(y_test,y_test_predict_forest)"
   ]
  },
  {
   "cell_type": "code",
   "execution_count": 53,
   "metadata": {},
   "outputs": [],
   "source": [
    "# array([[2110,  809],\n",
    "#        [ 526,  872]])   14,10\n",
    "\n",
    "# old\n",
    "# array([[2269,  644],\n",
    "    #    [ 604,  800]])"
   ]
  },
  {
   "cell_type": "code",
   "execution_count": 54,
   "metadata": {},
   "outputs": [],
   "source": [
    "# from sklearn.metrics import precision_score,recall_score\n",
    "# precision_score(y_test,y_test_predict_forest)"
   ]
  },
  {
   "cell_type": "code",
   "execution_count": 55,
   "metadata": {},
   "outputs": [],
   "source": [
    "# recall_score(y_test,y_test_predict_forest)"
   ]
  },
  {
   "cell_type": "code",
   "execution_count": 56,
   "metadata": {},
   "outputs": [],
   "source": [
    "# from sklearn.metrics import f1_score\n",
    "# f1_score(y_test,y_test_predict_forest)"
   ]
  },
  {
   "cell_type": "markdown",
   "metadata": {},
   "source": [
    "## Logistic Regression"
   ]
  },
  {
   "cell_type": "code",
   "execution_count": 57,
   "metadata": {},
   "outputs": [],
   "source": [
    "# from sklearn.linear_model import LogisticRegression\n",
    "# lgr = LogisticRegression(random_state = 10,solver = 'liblinear')\n",
    "# lgr.fit(x_train,y_train)"
   ]
  },
  {
   "cell_type": "code",
   "execution_count": 58,
   "metadata": {},
   "outputs": [],
   "source": [
    "# y_test_predict_logistic = lgr.predict(x_test[:][:])\n",
    "# y_test_predict_logistic"
   ]
  },
  {
   "cell_type": "code",
   "execution_count": 59,
   "metadata": {},
   "outputs": [],
   "source": [
    "# confusion_matrix(y_test,y_test_predict_logistic)"
   ]
  },
  {
   "cell_type": "code",
   "execution_count": 60,
   "metadata": {},
   "outputs": [],
   "source": [
    "# from sklearn.metrics import precision_score,recall_score\n",
    "# precision_score(y_test,y_test_predict_logistic)"
   ]
  },
  {
   "cell_type": "code",
   "execution_count": 61,
   "metadata": {},
   "outputs": [],
   "source": [
    "# recall_score(y_test,y_test_predict_logistic)"
   ]
  },
  {
   "cell_type": "code",
   "execution_count": 62,
   "metadata": {},
   "outputs": [],
   "source": [
    "# from sklearn.metrics import f1_score\n",
    "# f1_score(y_test,y_test_predict_logistic)"
   ]
  },
  {
   "cell_type": "markdown",
   "metadata": {},
   "source": [
    "## ***KNN***"
   ]
  },
  {
   "cell_type": "code",
   "execution_count": 63,
   "metadata": {},
   "outputs": [],
   "source": [
    "# from sklearn.neighbors import KNeighborsClassifier\n",
    "# neigh = KNeighborsClassifier(n_neighbors=9)\n",
    "# neigh.fit(x_train,y_train)"
   ]
  },
  {
   "cell_type": "code",
   "execution_count": 64,
   "metadata": {},
   "outputs": [],
   "source": [
    "# y_test_predict_knn = lgr.predict(x_test[:][:])\n",
    "# y_test_predict_knn"
   ]
  },
  {
   "cell_type": "code",
   "execution_count": 65,
   "metadata": {},
   "outputs": [],
   "source": [
    "# confusion_matrix(y_test,y_test_predict_knn)"
   ]
  },
  {
   "cell_type": "code",
   "execution_count": null,
   "metadata": {},
   "outputs": [],
   "source": []
  }
 ],
 "metadata": {
  "interpreter": {
   "hash": "06dbf6a33b598ff4076389319d3dfd2167df243e6a2b8d346f1c137d2797385a"
  },
  "kernelspec": {
   "display_name": "Python 3.9.10 ('venv': venv)",
   "language": "python",
   "name": "python3"
  },
  "language_info": {
   "codemirror_mode": {
    "name": "ipython",
    "version": 3
   },
   "file_extension": ".py",
   "mimetype": "text/x-python",
   "name": "python",
   "nbconvert_exporter": "python",
   "pygments_lexer": "ipython3",
   "version": "3.9.10"
  },
  "orig_nbformat": 4
 },
 "nbformat": 4,
 "nbformat_minor": 2
}
