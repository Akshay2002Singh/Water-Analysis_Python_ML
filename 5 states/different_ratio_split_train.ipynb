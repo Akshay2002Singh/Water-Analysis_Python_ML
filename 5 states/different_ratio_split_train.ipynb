{
 "cells": [
  {
   "cell_type": "code",
   "execution_count": 1,
   "metadata": {},
   "outputs": [],
   "source": [
    "import numpy as np\n",
    "import pandas as pd"
   ]
  },
  {
   "cell_type": "code",
   "execution_count": 2,
   "metadata": {},
   "outputs": [],
   "source": [
    "data_west = pd.read_excel(\"West_Bengal_filter.xlsx\",sheet_name=\"Sheet1\")\n",
    "data_telangana = pd.read_excel(\"Telangana_filter.xlsx\",sheet_name=\"Sheet1\")\n",
    "data_tamil = pd.read_excel(\"Tamil_Nadu_filter.xlsx\",sheet_name=\"Sheet1\")\n",
    "data_rajasthan = pd.read_excel(\"Rajasthan_filter.xlsx\",sheet_name=\"Sheet1\")\n",
    "data_andhra = pd.read_excel(\"Andhra_Pradesh_filter.xlsx\",sheet_name=\"Sheet1\")"
   ]
  },
  {
   "cell_type": "code",
   "execution_count": 3,
   "metadata": {},
   "outputs": [],
   "source": [
    "final_data = pd.concat([data_andhra,data_rajasthan,data_tamil,data_telangana,data_west], axis=0)"
   ]
  },
  {
   "cell_type": "code",
   "execution_count": 4,
   "metadata": {},
   "outputs": [],
   "source": [
    "# final_data.head()"
   ]
  },
  {
   "cell_type": "code",
   "execution_count": 5,
   "metadata": {},
   "outputs": [],
   "source": [
    "# final_data.count()"
   ]
  },
  {
   "cell_type": "code",
   "execution_count": 6,
   "metadata": {},
   "outputs": [
    {
     "data": {
      "text/plain": [
       "PH                14317\n",
       "EC                14317\n",
       "TOT_ALKALINITY    14317\n",
       "CA                14317\n",
       "MG                14317\n",
       "NA                14317\n",
       "BICARBONATE       14317\n",
       "FLUORIDE          14317\n",
       "dtype: int64"
      ]
     },
     "execution_count": 6,
     "metadata": {},
     "output_type": "execute_result"
    }
   ],
   "source": [
    "final_data = final_data.dropna(axis=0)\n",
    "final_data.count()"
   ]
  },
  {
   "cell_type": "code",
   "execution_count": 7,
   "metadata": {},
   "outputs": [],
   "source": [
    "final_data = final_data.astype(float)\n",
    "# final_data.info()"
   ]
  },
  {
   "cell_type": "code",
   "execution_count": 8,
   "metadata": {},
   "outputs": [
    {
     "data": {
      "text/html": [
       "<div>\n",
       "<style scoped>\n",
       "    .dataframe tbody tr th:only-of-type {\n",
       "        vertical-align: middle;\n",
       "    }\n",
       "\n",
       "    .dataframe tbody tr th {\n",
       "        vertical-align: top;\n",
       "    }\n",
       "\n",
       "    .dataframe thead th {\n",
       "        text-align: right;\n",
       "    }\n",
       "</style>\n",
       "<table border=\"1\" class=\"dataframe\">\n",
       "  <thead>\n",
       "    <tr style=\"text-align: right;\">\n",
       "      <th></th>\n",
       "      <th>PH</th>\n",
       "      <th>EC</th>\n",
       "      <th>TOT_ALKALINITY</th>\n",
       "      <th>CA</th>\n",
       "      <th>MG</th>\n",
       "      <th>NA</th>\n",
       "      <th>BICARBONATE</th>\n",
       "      <th>FLUORIDE</th>\n",
       "    </tr>\n",
       "  </thead>\n",
       "  <tbody>\n",
       "    <tr>\n",
       "      <th>PH</th>\n",
       "      <td>1.000000</td>\n",
       "      <td>0.007638</td>\n",
       "      <td>0.159336</td>\n",
       "      <td>-0.258240</td>\n",
       "      <td>-0.072663</td>\n",
       "      <td>0.111236</td>\n",
       "      <td>0.004120</td>\n",
       "      <td>0.104397</td>\n",
       "    </tr>\n",
       "    <tr>\n",
       "      <th>EC</th>\n",
       "      <td>0.007638</td>\n",
       "      <td>1.000000</td>\n",
       "      <td>0.326843</td>\n",
       "      <td>0.588173</td>\n",
       "      <td>0.419715</td>\n",
       "      <td>0.893397</td>\n",
       "      <td>0.376564</td>\n",
       "      <td>0.144962</td>\n",
       "    </tr>\n",
       "    <tr>\n",
       "      <th>TOT_ALKALINITY</th>\n",
       "      <td>0.159336</td>\n",
       "      <td>0.326843</td>\n",
       "      <td>1.000000</td>\n",
       "      <td>0.066551</td>\n",
       "      <td>0.037629</td>\n",
       "      <td>0.365656</td>\n",
       "      <td>0.858184</td>\n",
       "      <td>0.207236</td>\n",
       "    </tr>\n",
       "    <tr>\n",
       "      <th>CA</th>\n",
       "      <td>-0.258240</td>\n",
       "      <td>0.588173</td>\n",
       "      <td>0.066551</td>\n",
       "      <td>1.000000</td>\n",
       "      <td>0.335212</td>\n",
       "      <td>0.431942</td>\n",
       "      <td>0.134535</td>\n",
       "      <td>-0.021407</td>\n",
       "    </tr>\n",
       "    <tr>\n",
       "      <th>MG</th>\n",
       "      <td>-0.072663</td>\n",
       "      <td>0.419715</td>\n",
       "      <td>0.037629</td>\n",
       "      <td>0.335212</td>\n",
       "      <td>1.000000</td>\n",
       "      <td>0.316331</td>\n",
       "      <td>0.158502</td>\n",
       "      <td>0.032624</td>\n",
       "    </tr>\n",
       "    <tr>\n",
       "      <th>NA</th>\n",
       "      <td>0.111236</td>\n",
       "      <td>0.893397</td>\n",
       "      <td>0.365656</td>\n",
       "      <td>0.431942</td>\n",
       "      <td>0.316331</td>\n",
       "      <td>1.000000</td>\n",
       "      <td>0.383354</td>\n",
       "      <td>0.205203</td>\n",
       "    </tr>\n",
       "    <tr>\n",
       "      <th>BICARBONATE</th>\n",
       "      <td>0.004120</td>\n",
       "      <td>0.376564</td>\n",
       "      <td>0.858184</td>\n",
       "      <td>0.134535</td>\n",
       "      <td>0.158502</td>\n",
       "      <td>0.383354</td>\n",
       "      <td>1.000000</td>\n",
       "      <td>0.219009</td>\n",
       "    </tr>\n",
       "    <tr>\n",
       "      <th>FLUORIDE</th>\n",
       "      <td>0.104397</td>\n",
       "      <td>0.144962</td>\n",
       "      <td>0.207236</td>\n",
       "      <td>-0.021407</td>\n",
       "      <td>0.032624</td>\n",
       "      <td>0.205203</td>\n",
       "      <td>0.219009</td>\n",
       "      <td>1.000000</td>\n",
       "    </tr>\n",
       "  </tbody>\n",
       "</table>\n",
       "</div>"
      ],
      "text/plain": [
       "                      PH        EC  TOT_ALKALINITY        CA        MG  \\\n",
       "PH              1.000000  0.007638        0.159336 -0.258240 -0.072663   \n",
       "EC              0.007638  1.000000        0.326843  0.588173  0.419715   \n",
       "TOT_ALKALINITY  0.159336  0.326843        1.000000  0.066551  0.037629   \n",
       "CA             -0.258240  0.588173        0.066551  1.000000  0.335212   \n",
       "MG             -0.072663  0.419715        0.037629  0.335212  1.000000   \n",
       "NA              0.111236  0.893397        0.365656  0.431942  0.316331   \n",
       "BICARBONATE     0.004120  0.376564        0.858184  0.134535  0.158502   \n",
       "FLUORIDE        0.104397  0.144962        0.207236 -0.021407  0.032624   \n",
       "\n",
       "                      NA  BICARBONATE  FLUORIDE  \n",
       "PH              0.111236     0.004120  0.104397  \n",
       "EC              0.893397     0.376564  0.144962  \n",
       "TOT_ALKALINITY  0.365656     0.858184  0.207236  \n",
       "CA              0.431942     0.134535 -0.021407  \n",
       "MG              0.316331     0.158502  0.032624  \n",
       "NA              1.000000     0.383354  0.205203  \n",
       "BICARBONATE     0.383354     1.000000  0.219009  \n",
       "FLUORIDE        0.205203     0.219009  1.000000  "
      ]
     },
     "execution_count": 8,
     "metadata": {},
     "output_type": "execute_result"
    }
   ],
   "source": [
    "final_data.corr()"
   ]
  },
  {
   "cell_type": "code",
   "execution_count": 9,
   "metadata": {},
   "outputs": [
    {
     "data": {
      "text/plain": [
       "0    9685\n",
       "1    4632\n",
       "Name: Bin_Fluoride, dtype: int64"
      ]
     },
     "execution_count": 9,
     "metadata": {},
     "output_type": "execute_result"
    }
   ],
   "source": [
    "final_data['Bin_Fluoride'] = np.where( final_data['FLUORIDE'] >= 1,1,0)\n",
    "final_data['Bin_Fluoride'].value_counts()"
   ]
  },
  {
   "cell_type": "code",
   "execution_count": 10,
   "metadata": {},
   "outputs": [],
   "source": [
    "# final_data.head()"
   ]
  },
  {
   "cell_type": "code",
   "execution_count": 11,
   "metadata": {},
   "outputs": [],
   "source": [
    "final_data = final_data.drop(['FLUORIDE'],axis=1)"
   ]
  },
  {
   "cell_type": "code",
   "execution_count": 12,
   "metadata": {},
   "outputs": [
    {
     "data": {
      "text/plain": [
       "(14317, 8)"
      ]
     },
     "execution_count": 12,
     "metadata": {},
     "output_type": "execute_result"
    }
   ],
   "source": [
    "final_data.shape"
   ]
  },
  {
   "cell_type": "code",
   "execution_count": 13,
   "metadata": {},
   "outputs": [],
   "source": [
    "data = final_data"
   ]
  },
  {
   "cell_type": "code",
   "execution_count": 14,
   "metadata": {},
   "outputs": [
    {
     "data": {
      "text/html": [
       "<div>\n",
       "<style scoped>\n",
       "    .dataframe tbody tr th:only-of-type {\n",
       "        vertical-align: middle;\n",
       "    }\n",
       "\n",
       "    .dataframe tbody tr th {\n",
       "        vertical-align: top;\n",
       "    }\n",
       "\n",
       "    .dataframe thead th {\n",
       "        text-align: right;\n",
       "    }\n",
       "</style>\n",
       "<table border=\"1\" class=\"dataframe\">\n",
       "  <thead>\n",
       "    <tr style=\"text-align: right;\">\n",
       "      <th></th>\n",
       "      <th>PH</th>\n",
       "      <th>EC</th>\n",
       "      <th>TOT_ALKALINITY</th>\n",
       "      <th>CA</th>\n",
       "      <th>MG</th>\n",
       "      <th>NA</th>\n",
       "      <th>BICARBONATE</th>\n",
       "      <th>Bin_Fluoride</th>\n",
       "    </tr>\n",
       "  </thead>\n",
       "  <tbody>\n",
       "    <tr>\n",
       "      <th>323</th>\n",
       "      <td>7.17</td>\n",
       "      <td>895.0</td>\n",
       "      <td>335.245902</td>\n",
       "      <td>100.0</td>\n",
       "      <td>17.024000</td>\n",
       "      <td>75.00</td>\n",
       "      <td>409.000</td>\n",
       "      <td>1</td>\n",
       "    </tr>\n",
       "    <tr>\n",
       "      <th>4809</th>\n",
       "      <td>8.00</td>\n",
       "      <td>2760.0</td>\n",
       "      <td>850.000000</td>\n",
       "      <td>20.0</td>\n",
       "      <td>34.048000</td>\n",
       "      <td>616.00</td>\n",
       "      <td>1037.000</td>\n",
       "      <td>1</td>\n",
       "    </tr>\n",
       "    <tr>\n",
       "      <th>3146</th>\n",
       "      <td>7.92</td>\n",
       "      <td>2570.0</td>\n",
       "      <td>150.000000</td>\n",
       "      <td>200.0</td>\n",
       "      <td>72.900000</td>\n",
       "      <td>223.10</td>\n",
       "      <td>183.000</td>\n",
       "      <td>0</td>\n",
       "    </tr>\n",
       "    <tr>\n",
       "      <th>1496</th>\n",
       "      <td>8.06</td>\n",
       "      <td>983.0</td>\n",
       "      <td>250.000000</td>\n",
       "      <td>78.0</td>\n",
       "      <td>20.760000</td>\n",
       "      <td>84.00</td>\n",
       "      <td>305.000</td>\n",
       "      <td>0</td>\n",
       "    </tr>\n",
       "    <tr>\n",
       "      <th>810</th>\n",
       "      <td>8.06</td>\n",
       "      <td>877.0</td>\n",
       "      <td>354.801704</td>\n",
       "      <td>114.0</td>\n",
       "      <td>29.310000</td>\n",
       "      <td>37.00</td>\n",
       "      <td>433.000</td>\n",
       "      <td>0</td>\n",
       "    </tr>\n",
       "    <tr>\n",
       "      <th>...</th>\n",
       "      <td>...</td>\n",
       "      <td>...</td>\n",
       "      <td>...</td>\n",
       "      <td>...</td>\n",
       "      <td>...</td>\n",
       "      <td>...</td>\n",
       "      <td>...</td>\n",
       "      <td>...</td>\n",
       "    </tr>\n",
       "    <tr>\n",
       "      <th>4614</th>\n",
       "      <td>8.50</td>\n",
       "      <td>2440.0</td>\n",
       "      <td>580.160000</td>\n",
       "      <td>17.0</td>\n",
       "      <td>31.020000</td>\n",
       "      <td>483.00</td>\n",
       "      <td>537.000</td>\n",
       "      <td>1</td>\n",
       "    </tr>\n",
       "    <tr>\n",
       "      <th>2217</th>\n",
       "      <td>8.63</td>\n",
       "      <td>722.1</td>\n",
       "      <td>190.000000</td>\n",
       "      <td>10.0</td>\n",
       "      <td>87.378641</td>\n",
       "      <td>40.75</td>\n",
       "      <td>183.000</td>\n",
       "      <td>0</td>\n",
       "    </tr>\n",
       "    <tr>\n",
       "      <th>2429</th>\n",
       "      <td>7.80</td>\n",
       "      <td>4470.0</td>\n",
       "      <td>0.000000</td>\n",
       "      <td>172.0</td>\n",
       "      <td>121.520000</td>\n",
       "      <td>579.60</td>\n",
       "      <td>469.854</td>\n",
       "      <td>1</td>\n",
       "    </tr>\n",
       "    <tr>\n",
       "      <th>535</th>\n",
       "      <td>8.00</td>\n",
       "      <td>847.0</td>\n",
       "      <td>159.840000</td>\n",
       "      <td>56.0</td>\n",
       "      <td>38.970000</td>\n",
       "      <td>50.00</td>\n",
       "      <td>195.000</td>\n",
       "      <td>1</td>\n",
       "    </tr>\n",
       "    <tr>\n",
       "      <th>3933</th>\n",
       "      <td>7.85</td>\n",
       "      <td>1600.0</td>\n",
       "      <td>450.000000</td>\n",
       "      <td>40.0</td>\n",
       "      <td>65.690000</td>\n",
       "      <td>198.00</td>\n",
       "      <td>549.000</td>\n",
       "      <td>1</td>\n",
       "    </tr>\n",
       "  </tbody>\n",
       "</table>\n",
       "<p>14317 rows × 8 columns</p>\n",
       "</div>"
      ],
      "text/plain": [
       "        PH      EC  TOT_ALKALINITY     CA          MG      NA  BICARBONATE  \\\n",
       "323   7.17   895.0      335.245902  100.0   17.024000   75.00      409.000   \n",
       "4809  8.00  2760.0      850.000000   20.0   34.048000  616.00     1037.000   \n",
       "3146  7.92  2570.0      150.000000  200.0   72.900000  223.10      183.000   \n",
       "1496  8.06   983.0      250.000000   78.0   20.760000   84.00      305.000   \n",
       "810   8.06   877.0      354.801704  114.0   29.310000   37.00      433.000   \n",
       "...    ...     ...             ...    ...         ...     ...          ...   \n",
       "4614  8.50  2440.0      580.160000   17.0   31.020000  483.00      537.000   \n",
       "2217  8.63   722.1      190.000000   10.0   87.378641   40.75      183.000   \n",
       "2429  7.80  4470.0        0.000000  172.0  121.520000  579.60      469.854   \n",
       "535   8.00   847.0      159.840000   56.0   38.970000   50.00      195.000   \n",
       "3933  7.85  1600.0      450.000000   40.0   65.690000  198.00      549.000   \n",
       "\n",
       "      Bin_Fluoride  \n",
       "323              1  \n",
       "4809             1  \n",
       "3146             0  \n",
       "1496             0  \n",
       "810              0  \n",
       "...            ...  \n",
       "4614             1  \n",
       "2217             0  \n",
       "2429             1  \n",
       "535              1  \n",
       "3933             1  \n",
       "\n",
       "[14317 rows x 8 columns]"
      ]
     },
     "execution_count": 14,
     "metadata": {},
     "output_type": "execute_result"
    }
   ],
   "source": [
    "final_data = final_data.sample(frac=1)\n",
    "final_data"
   ]
  },
  {
   "cell_type": "code",
   "execution_count": 15,
   "metadata": {},
   "outputs": [
    {
     "data": {
      "text/html": [
       "<div>\n",
       "<style scoped>\n",
       "    .dataframe tbody tr th:only-of-type {\n",
       "        vertical-align: middle;\n",
       "    }\n",
       "\n",
       "    .dataframe tbody tr th {\n",
       "        vertical-align: top;\n",
       "    }\n",
       "\n",
       "    .dataframe thead th {\n",
       "        text-align: right;\n",
       "    }\n",
       "</style>\n",
       "<table border=\"1\" class=\"dataframe\">\n",
       "  <thead>\n",
       "    <tr style=\"text-align: right;\">\n",
       "      <th></th>\n",
       "      <th>PH</th>\n",
       "      <th>EC</th>\n",
       "      <th>TOT_ALKALINITY</th>\n",
       "      <th>CA</th>\n",
       "      <th>MG</th>\n",
       "      <th>NA</th>\n",
       "      <th>BICARBONATE</th>\n",
       "    </tr>\n",
       "  </thead>\n",
       "  <tbody>\n",
       "    <tr>\n",
       "      <th>323</th>\n",
       "      <td>7.17</td>\n",
       "      <td>895.0</td>\n",
       "      <td>335.245902</td>\n",
       "      <td>100.0</td>\n",
       "      <td>17.024000</td>\n",
       "      <td>75.00</td>\n",
       "      <td>409.000</td>\n",
       "    </tr>\n",
       "    <tr>\n",
       "      <th>4809</th>\n",
       "      <td>8.00</td>\n",
       "      <td>2760.0</td>\n",
       "      <td>850.000000</td>\n",
       "      <td>20.0</td>\n",
       "      <td>34.048000</td>\n",
       "      <td>616.00</td>\n",
       "      <td>1037.000</td>\n",
       "    </tr>\n",
       "    <tr>\n",
       "      <th>3146</th>\n",
       "      <td>7.92</td>\n",
       "      <td>2570.0</td>\n",
       "      <td>150.000000</td>\n",
       "      <td>200.0</td>\n",
       "      <td>72.900000</td>\n",
       "      <td>223.10</td>\n",
       "      <td>183.000</td>\n",
       "    </tr>\n",
       "    <tr>\n",
       "      <th>1496</th>\n",
       "      <td>8.06</td>\n",
       "      <td>983.0</td>\n",
       "      <td>250.000000</td>\n",
       "      <td>78.0</td>\n",
       "      <td>20.760000</td>\n",
       "      <td>84.00</td>\n",
       "      <td>305.000</td>\n",
       "    </tr>\n",
       "    <tr>\n",
       "      <th>810</th>\n",
       "      <td>8.06</td>\n",
       "      <td>877.0</td>\n",
       "      <td>354.801704</td>\n",
       "      <td>114.0</td>\n",
       "      <td>29.310000</td>\n",
       "      <td>37.00</td>\n",
       "      <td>433.000</td>\n",
       "    </tr>\n",
       "    <tr>\n",
       "      <th>...</th>\n",
       "      <td>...</td>\n",
       "      <td>...</td>\n",
       "      <td>...</td>\n",
       "      <td>...</td>\n",
       "      <td>...</td>\n",
       "      <td>...</td>\n",
       "      <td>...</td>\n",
       "    </tr>\n",
       "    <tr>\n",
       "      <th>4614</th>\n",
       "      <td>8.50</td>\n",
       "      <td>2440.0</td>\n",
       "      <td>580.160000</td>\n",
       "      <td>17.0</td>\n",
       "      <td>31.020000</td>\n",
       "      <td>483.00</td>\n",
       "      <td>537.000</td>\n",
       "    </tr>\n",
       "    <tr>\n",
       "      <th>2217</th>\n",
       "      <td>8.63</td>\n",
       "      <td>722.1</td>\n",
       "      <td>190.000000</td>\n",
       "      <td>10.0</td>\n",
       "      <td>87.378641</td>\n",
       "      <td>40.75</td>\n",
       "      <td>183.000</td>\n",
       "    </tr>\n",
       "    <tr>\n",
       "      <th>2429</th>\n",
       "      <td>7.80</td>\n",
       "      <td>4470.0</td>\n",
       "      <td>0.000000</td>\n",
       "      <td>172.0</td>\n",
       "      <td>121.520000</td>\n",
       "      <td>579.60</td>\n",
       "      <td>469.854</td>\n",
       "    </tr>\n",
       "    <tr>\n",
       "      <th>535</th>\n",
       "      <td>8.00</td>\n",
       "      <td>847.0</td>\n",
       "      <td>159.840000</td>\n",
       "      <td>56.0</td>\n",
       "      <td>38.970000</td>\n",
       "      <td>50.00</td>\n",
       "      <td>195.000</td>\n",
       "    </tr>\n",
       "    <tr>\n",
       "      <th>3933</th>\n",
       "      <td>7.85</td>\n",
       "      <td>1600.0</td>\n",
       "      <td>450.000000</td>\n",
       "      <td>40.0</td>\n",
       "      <td>65.690000</td>\n",
       "      <td>198.00</td>\n",
       "      <td>549.000</td>\n",
       "    </tr>\n",
       "  </tbody>\n",
       "</table>\n",
       "<p>14317 rows × 7 columns</p>\n",
       "</div>"
      ],
      "text/plain": [
       "        PH      EC  TOT_ALKALINITY     CA          MG      NA  BICARBONATE\n",
       "323   7.17   895.0      335.245902  100.0   17.024000   75.00      409.000\n",
       "4809  8.00  2760.0      850.000000   20.0   34.048000  616.00     1037.000\n",
       "3146  7.92  2570.0      150.000000  200.0   72.900000  223.10      183.000\n",
       "1496  8.06   983.0      250.000000   78.0   20.760000   84.00      305.000\n",
       "810   8.06   877.0      354.801704  114.0   29.310000   37.00      433.000\n",
       "...    ...     ...             ...    ...         ...     ...          ...\n",
       "4614  8.50  2440.0      580.160000   17.0   31.020000  483.00      537.000\n",
       "2217  8.63   722.1      190.000000   10.0   87.378641   40.75      183.000\n",
       "2429  7.80  4470.0        0.000000  172.0  121.520000  579.60      469.854\n",
       "535   8.00   847.0      159.840000   56.0   38.970000   50.00      195.000\n",
       "3933  7.85  1600.0      450.000000   40.0   65.690000  198.00      549.000\n",
       "\n",
       "[14317 rows x 7 columns]"
      ]
     },
     "execution_count": 15,
     "metadata": {},
     "output_type": "execute_result"
    }
   ],
   "source": [
    "x = final_data.drop(['Bin_Fluoride'],axis=1)\n",
    "x"
   ]
  },
  {
   "cell_type": "code",
   "execution_count": 16,
   "metadata": {},
   "outputs": [
    {
     "data": {
      "text/plain": [
       "323     1\n",
       "4809    1\n",
       "3146    0\n",
       "1496    0\n",
       "810     0\n",
       "       ..\n",
       "4614    1\n",
       "2217    0\n",
       "2429    1\n",
       "535     1\n",
       "3933    1\n",
       "Name: Bin_Fluoride, Length: 14317, dtype: int64"
      ]
     },
     "execution_count": 16,
     "metadata": {},
     "output_type": "execute_result"
    }
   ],
   "source": [
    "y = final_data[:]['Bin_Fluoride']\n",
    "y"
   ]
  },
  {
   "cell_type": "code",
   "execution_count": 17,
   "metadata": {},
   "outputs": [],
   "source": [
    "from sklearn.model_selection import train_test_split\n",
    "x_train, x_test, y_train, y_test = train_test_split(x, y, test_size=0.3, random_state=42)"
   ]
  },
  {
   "cell_type": "code",
   "execution_count": 18,
   "metadata": {},
   "outputs": [
    {
     "data": {
      "text/plain": [
       "(10021, 7)"
      ]
     },
     "execution_count": 18,
     "metadata": {},
     "output_type": "execute_result"
    }
   ],
   "source": [
    "# x_train,x_test=x[:10000],x[10000:]\n",
    "x_train.shape"
   ]
  },
  {
   "cell_type": "code",
   "execution_count": 19,
   "metadata": {},
   "outputs": [
    {
     "data": {
      "text/plain": [
       "(4296, 7)"
      ]
     },
     "execution_count": 19,
     "metadata": {},
     "output_type": "execute_result"
    }
   ],
   "source": [
    "x_test.shape"
   ]
  },
  {
   "cell_type": "code",
   "execution_count": 20,
   "metadata": {},
   "outputs": [
    {
     "data": {
      "text/plain": [
       "0    6761\n",
       "1    3260\n",
       "Name: Bin_Fluoride, dtype: int64"
      ]
     },
     "execution_count": 20,
     "metadata": {},
     "output_type": "execute_result"
    }
   ],
   "source": [
    "# y_train,y_test=y[:10000],y[10000:]\n",
    "y_train.value_counts()"
   ]
  },
  {
   "cell_type": "code",
   "execution_count": 21,
   "metadata": {},
   "outputs": [
    {
     "data": {
      "text/plain": [
       "0    2924\n",
       "1    1372\n",
       "Name: Bin_Fluoride, dtype: int64"
      ]
     },
     "execution_count": 21,
     "metadata": {},
     "output_type": "execute_result"
    }
   ],
   "source": [
    "y_test.value_counts()"
   ]
  },
  {
   "cell_type": "markdown",
   "metadata": {},
   "source": [
    "# ***Resample Test data***"
   ]
  },
  {
   "cell_type": "code",
   "execution_count": 22,
   "metadata": {},
   "outputs": [],
   "source": [
    "from imblearn.over_sampling import SMOTE\n",
    "sm = SMOTE(random_state=12)\n",
    "x_train,y_train = sm.fit_resample(x_train,y_train)"
   ]
  },
  {
   "cell_type": "code",
   "execution_count": 23,
   "metadata": {},
   "outputs": [
    {
     "name": "stdout",
     "output_type": "stream",
     "text": [
      "<class 'pandas.core.frame.DataFrame'>\n",
      "RangeIndex: 13522 entries, 0 to 13521\n",
      "Data columns (total 7 columns):\n",
      " #   Column          Non-Null Count  Dtype  \n",
      "---  ------          --------------  -----  \n",
      " 0   PH              13522 non-null  float64\n",
      " 1   EC              13522 non-null  float64\n",
      " 2   TOT_ALKALINITY  13522 non-null  float64\n",
      " 3   CA              13522 non-null  float64\n",
      " 4   MG              13522 non-null  float64\n",
      " 5   NA              13522 non-null  float64\n",
      " 6   BICARBONATE     13522 non-null  float64\n",
      "dtypes: float64(7)\n",
      "memory usage: 739.6 KB\n"
     ]
    }
   ],
   "source": [
    "x_train.info()"
   ]
  },
  {
   "cell_type": "code",
   "execution_count": 24,
   "metadata": {},
   "outputs": [
    {
     "name": "stdout",
     "output_type": "stream",
     "text": [
      "<class 'pandas.core.series.Series'>\n",
      "RangeIndex: 13522 entries, 0 to 13521\n",
      "Series name: Bin_Fluoride\n",
      "Non-Null Count  Dtype\n",
      "--------------  -----\n",
      "13522 non-null  int64\n",
      "dtypes: int64(1)\n",
      "memory usage: 105.8 KB\n"
     ]
    }
   ],
   "source": [
    "y_train.info()"
   ]
  },
  {
   "cell_type": "code",
   "execution_count": 25,
   "metadata": {},
   "outputs": [
    {
     "data": {
      "text/plain": [
       "0    6761\n",
       "1    6761\n",
       "Name: Bin_Fluoride, dtype: int64"
      ]
     },
     "execution_count": 25,
     "metadata": {},
     "output_type": "execute_result"
    }
   ],
   "source": [
    "y_train.value_counts()"
   ]
  },
  {
   "cell_type": "markdown",
   "metadata": {},
   "source": [
    "# ***Random Forest***"
   ]
  },
  {
   "cell_type": "code",
   "execution_count": 26,
   "metadata": {},
   "outputs": [
    {
     "data": {
      "text/plain": [
       "RandomForestClassifier(max_depth=19, random_state=10)"
      ]
     },
     "execution_count": 26,
     "metadata": {},
     "output_type": "execute_result"
    }
   ],
   "source": [
    "from sklearn.ensemble import RandomForestClassifier\n",
    "clf_forest = RandomForestClassifier(max_depth=19, random_state=10)\n",
    "clf_forest.fit(x_train,y_train)"
   ]
  },
  {
   "cell_type": "code",
   "execution_count": 27,
   "metadata": {},
   "outputs": [
    {
     "data": {
      "text/plain": [
       "array([1, 0, 0, ..., 0, 0, 0])"
      ]
     },
     "execution_count": 27,
     "metadata": {},
     "output_type": "execute_result"
    }
   ],
   "source": [
    "y_test_predict_forest = clf_forest.predict(x_test[:][:])\n",
    "y_test_predict_forest"
   ]
  },
  {
   "cell_type": "code",
   "execution_count": 28,
   "metadata": {},
   "outputs": [],
   "source": [
    "from sklearn.metrics import confusion_matrix"
   ]
  },
  {
   "cell_type": "code",
   "execution_count": 29,
   "metadata": {},
   "outputs": [
    {
     "data": {
      "text/plain": [
       "array([[2305,  619],\n",
       "       [ 609,  763]])"
      ]
     },
     "execution_count": 29,
     "metadata": {},
     "output_type": "execute_result"
    }
   ],
   "source": [
    "confusion_matrix(y_test,y_test_predict_forest)"
   ]
  },
  {
   "cell_type": "code",
   "execution_count": 30,
   "metadata": {},
   "outputs": [],
   "source": [
    "# after resampling\n",
    "# [[2226,  665],\n",
    "# [ 603,  823]]       19,10\n"
   ]
  },
  {
   "cell_type": "code",
   "execution_count": 31,
   "metadata": {},
   "outputs": [
    {
     "data": {
      "text/plain": [
       "0.5520984081041969"
      ]
     },
     "execution_count": 31,
     "metadata": {},
     "output_type": "execute_result"
    }
   ],
   "source": [
    "from sklearn.metrics import precision_score,recall_score\n",
    "precision_score(y_test,y_test_predict_forest)"
   ]
  },
  {
   "cell_type": "code",
   "execution_count": 32,
   "metadata": {},
   "outputs": [
    {
     "data": {
      "text/plain": [
       "0.5561224489795918"
      ]
     },
     "execution_count": 32,
     "metadata": {},
     "output_type": "execute_result"
    }
   ],
   "source": [
    "recall_score(y_test,y_test_predict_forest)"
   ]
  },
  {
   "cell_type": "code",
   "execution_count": 33,
   "metadata": {},
   "outputs": [
    {
     "data": {
      "text/plain": [
       "0.5541031227305738"
      ]
     },
     "execution_count": 33,
     "metadata": {},
     "output_type": "execute_result"
    }
   ],
   "source": [
    "from sklearn.metrics import f1_score\n",
    "f1_score(y_test,y_test_predict_forest)"
   ]
  },
  {
   "cell_type": "code",
   "execution_count": 34,
   "metadata": {},
   "outputs": [
    {
     "data": {
      "text/plain": [
       "0.7141527001862198"
      ]
     },
     "execution_count": 34,
     "metadata": {},
     "output_type": "execute_result"
    }
   ],
   "source": [
    "from sklearn.metrics import accuracy_score\n",
    "accuracy_score(y_test, y_test_predict_forest)"
   ]
  },
  {
   "cell_type": "code",
   "execution_count": 35,
   "metadata": {},
   "outputs": [],
   "source": [
    "# without resampling\n",
    "# [2629,  297], \n",
    "# [ 882,  509]]  10,10  \n",
    "#  \n",
    "# ([[2625,  301],\n",
    "# [ 863,  528]])   12,10\n",
    "\n",
    "# ([[2620,  306],\n",
    "# [ 837,  554]])   14,10"
   ]
  },
  {
   "cell_type": "markdown",
   "metadata": {},
   "source": [
    "# Modify data"
   ]
  },
  {
   "cell_type": "code",
   "execution_count": 36,
   "metadata": {},
   "outputs": [],
   "source": [
    "# data.head()"
   ]
  },
  {
   "cell_type": "code",
   "execution_count": 37,
   "metadata": {},
   "outputs": [],
   "source": [
    "# data['NA/CA'] = np.where(data['CA']!=0,data['NA']/data['CA'],0)\n",
    "# data.head()"
   ]
  },
  {
   "cell_type": "code",
   "execution_count": 38,
   "metadata": {},
   "outputs": [],
   "source": [
    "# data.count()"
   ]
  },
  {
   "cell_type": "code",
   "execution_count": 39,
   "metadata": {},
   "outputs": [],
   "source": [
    "# data = data.dropna(axis=0)"
   ]
  },
  {
   "cell_type": "code",
   "execution_count": 40,
   "metadata": {},
   "outputs": [],
   "source": [
    "# data.count()"
   ]
  },
  {
   "cell_type": "code",
   "execution_count": 41,
   "metadata": {},
   "outputs": [],
   "source": [
    "# data = data.astype(\"f\")\n",
    "# data.info()"
   ]
  },
  {
   "cell_type": "code",
   "execution_count": null,
   "metadata": {},
   "outputs": [],
   "source": []
  },
  {
   "cell_type": "code",
   "execution_count": 42,
   "metadata": {},
   "outputs": [],
   "source": [
    "# data = data.sample(frac=1)\n",
    "# data.head()"
   ]
  },
  {
   "cell_type": "code",
   "execution_count": 43,
   "metadata": {},
   "outputs": [],
   "source": [
    "# x = data.drop(['Bin_Fluoride','CA','NA'],axis=1)\n",
    "# x.head()"
   ]
  },
  {
   "cell_type": "code",
   "execution_count": 44,
   "metadata": {},
   "outputs": [],
   "source": [
    "# y = data['Bin_Fluoride']\n",
    "# y.head()"
   ]
  },
  {
   "cell_type": "code",
   "execution_count": 45,
   "metadata": {},
   "outputs": [],
   "source": [
    "# x.info()"
   ]
  },
  {
   "cell_type": "code",
   "execution_count": 46,
   "metadata": {},
   "outputs": [],
   "source": [
    "# x_train,x_test=x[:10000],x[10000:]\n",
    "# x_train.shape"
   ]
  },
  {
   "cell_type": "code",
   "execution_count": 47,
   "metadata": {},
   "outputs": [],
   "source": [
    "# x_test.shape"
   ]
  },
  {
   "cell_type": "code",
   "execution_count": 48,
   "metadata": {},
   "outputs": [],
   "source": [
    "# y_train,y_test=y[:10000],y[10000:]\n",
    "# y_train.shape"
   ]
  },
  {
   "cell_type": "code",
   "execution_count": 49,
   "metadata": {},
   "outputs": [],
   "source": [
    "# y_test.shape"
   ]
  },
  {
   "cell_type": "markdown",
   "metadata": {},
   "source": [
    "## Resample data"
   ]
  },
  {
   "cell_type": "code",
   "execution_count": 50,
   "metadata": {},
   "outputs": [],
   "source": [
    "# y_train.value_counts()"
   ]
  },
  {
   "cell_type": "code",
   "execution_count": 51,
   "metadata": {},
   "outputs": [],
   "source": [
    "# from imblearn.over_sampling import SMOTE\n",
    "# sm = SMOTE(random_state=12)\n",
    "# x_train,y_train = sm.fit_resample(x_train,y_train)"
   ]
  },
  {
   "cell_type": "code",
   "execution_count": 52,
   "metadata": {},
   "outputs": [],
   "source": [
    "# y_train.value_counts()"
   ]
  },
  {
   "cell_type": "markdown",
   "metadata": {},
   "source": [
    "## **Random forest**"
   ]
  },
  {
   "cell_type": "code",
   "execution_count": 53,
   "metadata": {},
   "outputs": [],
   "source": [
    "# x_train.head()"
   ]
  },
  {
   "cell_type": "code",
   "execution_count": 54,
   "metadata": {},
   "outputs": [],
   "source": [
    "# from sklearn.ensemble import RandomForestClassifier\n",
    "# new_forest = RandomForestClassifier(max_depth=19, random_state=10)\n",
    "# new_forest.fit(x_train,y_train)"
   ]
  },
  {
   "cell_type": "code",
   "execution_count": 55,
   "metadata": {},
   "outputs": [],
   "source": [
    "# y_test_predict_forest = new_forest.predict(x_test[:][:])\n",
    "# y_test_predict_forest"
   ]
  },
  {
   "cell_type": "code",
   "execution_count": 56,
   "metadata": {},
   "outputs": [],
   "source": [
    "# confusion_matrix(y_test,y_test_predict_forest)"
   ]
  },
  {
   "cell_type": "code",
   "execution_count": 57,
   "metadata": {},
   "outputs": [],
   "source": [
    "# array([[2110,  809],\n",
    "#        [ 526,  872]])   14,10\n",
    "\n",
    "# old\n",
    "# array([[2269,  644],\n",
    "    #    [ 604,  800]])"
   ]
  },
  {
   "cell_type": "code",
   "execution_count": 58,
   "metadata": {},
   "outputs": [],
   "source": [
    "# from sklearn.metrics import precision_score,recall_score\n",
    "# precision_score(y_test,y_test_predict_forest)"
   ]
  },
  {
   "cell_type": "code",
   "execution_count": 59,
   "metadata": {},
   "outputs": [],
   "source": [
    "# recall_score(y_test,y_test_predict_forest)"
   ]
  },
  {
   "cell_type": "code",
   "execution_count": 60,
   "metadata": {},
   "outputs": [],
   "source": [
    "# from sklearn.metrics import f1_score\n",
    "# f1_score(y_test,y_test_predict_forest)"
   ]
  },
  {
   "cell_type": "markdown",
   "metadata": {},
   "source": [
    "## Logistic Regression"
   ]
  },
  {
   "cell_type": "code",
   "execution_count": 61,
   "metadata": {},
   "outputs": [],
   "source": [
    "# from sklearn.linear_model import LogisticRegression\n",
    "# lgr = LogisticRegression(random_state = 10,solver = 'liblinear')\n",
    "# lgr.fit(x_train,y_train)"
   ]
  },
  {
   "cell_type": "code",
   "execution_count": 62,
   "metadata": {},
   "outputs": [],
   "source": [
    "# y_test_predict_logistic = lgr.predict(x_test[:][:])\n",
    "# y_test_predict_logistic"
   ]
  },
  {
   "cell_type": "code",
   "execution_count": 63,
   "metadata": {},
   "outputs": [],
   "source": [
    "# confusion_matrix(y_test,y_test_predict_logistic)"
   ]
  },
  {
   "cell_type": "code",
   "execution_count": 64,
   "metadata": {},
   "outputs": [],
   "source": [
    "# from sklearn.metrics import precision_score,recall_score\n",
    "# precision_score(y_test,y_test_predict_logistic)"
   ]
  },
  {
   "cell_type": "code",
   "execution_count": 65,
   "metadata": {},
   "outputs": [],
   "source": [
    "# recall_score(y_test,y_test_predict_logistic)"
   ]
  },
  {
   "cell_type": "code",
   "execution_count": 66,
   "metadata": {},
   "outputs": [],
   "source": [
    "# from sklearn.metrics import f1_score\n",
    "# f1_score(y_test,y_test_predict_logistic)"
   ]
  },
  {
   "cell_type": "markdown",
   "metadata": {},
   "source": [
    "## ***KNN***"
   ]
  },
  {
   "cell_type": "code",
   "execution_count": 67,
   "metadata": {},
   "outputs": [],
   "source": [
    "# from sklearn.neighbors import KNeighborsClassifier\n",
    "# neigh = KNeighborsClassifier(n_neighbors=9)\n",
    "# neigh.fit(x_train,y_train)"
   ]
  },
  {
   "cell_type": "code",
   "execution_count": 68,
   "metadata": {},
   "outputs": [],
   "source": [
    "# y_test_predict_knn = lgr.predict(x_test[:][:])\n",
    "# y_test_predict_knn"
   ]
  },
  {
   "cell_type": "code",
   "execution_count": 69,
   "metadata": {},
   "outputs": [],
   "source": [
    "# confusion_matrix(y_test,y_test_predict_knn)"
   ]
  },
  {
   "cell_type": "code",
   "execution_count": null,
   "metadata": {},
   "outputs": [],
   "source": []
  }
 ],
 "metadata": {
  "interpreter": {
   "hash": "06dbf6a33b598ff4076389319d3dfd2167df243e6a2b8d346f1c137d2797385a"
  },
  "kernelspec": {
   "display_name": "Python 3.9.10 ('venv': venv)",
   "language": "python",
   "name": "python3"
  },
  "language_info": {
   "codemirror_mode": {
    "name": "ipython",
    "version": 3
   },
   "file_extension": ".py",
   "mimetype": "text/x-python",
   "name": "python",
   "nbconvert_exporter": "python",
   "pygments_lexer": "ipython3",
   "version": "3.9.10"
  },
  "orig_nbformat": 4
 },
 "nbformat": 4,
 "nbformat_minor": 2
}
