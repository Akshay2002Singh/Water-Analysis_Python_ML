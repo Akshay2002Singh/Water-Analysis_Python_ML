{
 "cells": [
  {
   "cell_type": "code",
   "execution_count": 1,
   "metadata": {},
   "outputs": [],
   "source": [
    "import numpy as np\n",
    "import pandas as pd"
   ]
  },
  {
   "cell_type": "code",
   "execution_count": 2,
   "metadata": {},
   "outputs": [],
   "source": [
    "data_west = pd.read_excel(\"West_Bengal_filter.xlsx\",sheet_name=\"Sheet1\")\n",
    "data_telangana = pd.read_excel(\"Telangana_filter.xlsx\",sheet_name=\"Sheet1\")\n",
    "data_tamil = pd.read_excel(\"Tamil_Nadu_filter.xlsx\",sheet_name=\"Sheet1\")\n",
    "data_rajasthan = pd.read_excel(\"Rajasthan_filter.xlsx\",sheet_name=\"Sheet1\")\n",
    "data_andhra = pd.read_excel(\"Andhra_Pradesh_filter.xlsx\",sheet_name=\"Sheet1\")"
   ]
  },
  {
   "cell_type": "code",
   "execution_count": 3,
   "metadata": {},
   "outputs": [],
   "source": [
    "final_data = pd.concat([data_andhra,data_rajasthan,data_tamil,data_telangana,data_west], axis=0)"
   ]
  },
  {
   "cell_type": "code",
   "execution_count": 4,
   "metadata": {},
   "outputs": [
    {
     "data": {
      "text/html": [
       "<div>\n",
       "<style scoped>\n",
       "    .dataframe tbody tr th:only-of-type {\n",
       "        vertical-align: middle;\n",
       "    }\n",
       "\n",
       "    .dataframe tbody tr th {\n",
       "        vertical-align: top;\n",
       "    }\n",
       "\n",
       "    .dataframe thead th {\n",
       "        text-align: right;\n",
       "    }\n",
       "</style>\n",
       "<table border=\"1\" class=\"dataframe\">\n",
       "  <thead>\n",
       "    <tr style=\"text-align: right;\">\n",
       "      <th></th>\n",
       "      <th>PH</th>\n",
       "      <th>EC</th>\n",
       "      <th>TOT_ALKALINITY</th>\n",
       "      <th>CA</th>\n",
       "      <th>MG</th>\n",
       "      <th>NA</th>\n",
       "      <th>BICARBONATE</th>\n",
       "      <th>FLUORIDE</th>\n",
       "    </tr>\n",
       "  </thead>\n",
       "  <tbody>\n",
       "    <tr>\n",
       "      <th>0</th>\n",
       "      <td>7.83</td>\n",
       "      <td>2000.0</td>\n",
       "      <td>314.75</td>\n",
       "      <td>66.0</td>\n",
       "      <td>70.59</td>\n",
       "      <td>250.0</td>\n",
       "      <td>384.0</td>\n",
       "      <td>2.20</td>\n",
       "    </tr>\n",
       "    <tr>\n",
       "      <th>1</th>\n",
       "      <td>7.61</td>\n",
       "      <td>674.0</td>\n",
       "      <td>NaN</td>\n",
       "      <td>NaN</td>\n",
       "      <td>NaN</td>\n",
       "      <td>NaN</td>\n",
       "      <td>NaN</td>\n",
       "      <td>1.20</td>\n",
       "    </tr>\n",
       "    <tr>\n",
       "      <th>2</th>\n",
       "      <td>8.17</td>\n",
       "      <td>786.0</td>\n",
       "      <td>240.16</td>\n",
       "      <td>24.0</td>\n",
       "      <td>24.34</td>\n",
       "      <td>106.0</td>\n",
       "      <td>293.0</td>\n",
       "      <td>3.83</td>\n",
       "    </tr>\n",
       "    <tr>\n",
       "      <th>3</th>\n",
       "      <td>7.6</td>\n",
       "      <td>990.0</td>\n",
       "      <td>440.16</td>\n",
       "      <td>24.0</td>\n",
       "      <td>25.56</td>\n",
       "      <td>180.0</td>\n",
       "      <td>537.0</td>\n",
       "      <td>3.80</td>\n",
       "    </tr>\n",
       "    <tr>\n",
       "      <th>4</th>\n",
       "      <td>7.64</td>\n",
       "      <td>862.0</td>\n",
       "      <td>235.25</td>\n",
       "      <td>62.0</td>\n",
       "      <td>20.74</td>\n",
       "      <td>81.0</td>\n",
       "      <td>287.0</td>\n",
       "      <td>2.10</td>\n",
       "    </tr>\n",
       "  </tbody>\n",
       "</table>\n",
       "</div>"
      ],
      "text/plain": [
       "     PH      EC  TOT_ALKALINITY    CA     MG     NA  BICARBONATE  FLUORIDE\n",
       "0  7.83  2000.0          314.75  66.0  70.59  250.0        384.0      2.20\n",
       "1  7.61   674.0             NaN   NaN    NaN    NaN          NaN      1.20\n",
       "2  8.17   786.0          240.16  24.0  24.34  106.0        293.0      3.83\n",
       "3   7.6   990.0          440.16  24.0  25.56  180.0        537.0      3.80\n",
       "4  7.64   862.0          235.25  62.0  20.74   81.0        287.0      2.10"
      ]
     },
     "execution_count": 4,
     "metadata": {},
     "output_type": "execute_result"
    }
   ],
   "source": [
    "final_data.head()"
   ]
  },
  {
   "cell_type": "code",
   "execution_count": 5,
   "metadata": {},
   "outputs": [
    {
     "data": {
      "text/plain": [
       "PH                20977\n",
       "EC                21010\n",
       "TOT_ALKALINITY    14653\n",
       "CA                19681\n",
       "MG                19679\n",
       "NA                19575\n",
       "BICARBONATE       19840\n",
       "FLUORIDE          20391\n",
       "dtype: int64"
      ]
     },
     "execution_count": 5,
     "metadata": {},
     "output_type": "execute_result"
    }
   ],
   "source": [
    "final_data.count()"
   ]
  },
  {
   "cell_type": "code",
   "execution_count": 6,
   "metadata": {},
   "outputs": [
    {
     "data": {
      "text/plain": [
       "PH                14317\n",
       "EC                14317\n",
       "TOT_ALKALINITY    14317\n",
       "CA                14317\n",
       "MG                14317\n",
       "NA                14317\n",
       "BICARBONATE       14317\n",
       "FLUORIDE          14317\n",
       "dtype: int64"
      ]
     },
     "execution_count": 6,
     "metadata": {},
     "output_type": "execute_result"
    }
   ],
   "source": [
    "final_data = final_data.dropna(axis=0)\n",
    "final_data.count()"
   ]
  },
  {
   "cell_type": "code",
   "execution_count": 7,
   "metadata": {},
   "outputs": [
    {
     "name": "stdout",
     "output_type": "stream",
     "text": [
      "<class 'pandas.core.frame.DataFrame'>\n",
      "Int64Index: 14317 entries, 0 to 4031\n",
      "Data columns (total 8 columns):\n",
      " #   Column          Non-Null Count  Dtype  \n",
      "---  ------          --------------  -----  \n",
      " 0   PH              14317 non-null  float64\n",
      " 1   EC              14317 non-null  float64\n",
      " 2   TOT_ALKALINITY  14317 non-null  float64\n",
      " 3   CA              14317 non-null  float64\n",
      " 4   MG              14317 non-null  float64\n",
      " 5   NA              14317 non-null  float64\n",
      " 6   BICARBONATE     14317 non-null  float64\n",
      " 7   FLUORIDE        14317 non-null  float64\n",
      "dtypes: float64(8)\n",
      "memory usage: 1006.7 KB\n"
     ]
    }
   ],
   "source": [
    "final_data = final_data.astype(float)\n",
    "final_data.info()"
   ]
  },
  {
   "cell_type": "code",
   "execution_count": 8,
   "metadata": {},
   "outputs": [
    {
     "data": {
      "text/html": [
       "<div>\n",
       "<style scoped>\n",
       "    .dataframe tbody tr th:only-of-type {\n",
       "        vertical-align: middle;\n",
       "    }\n",
       "\n",
       "    .dataframe tbody tr th {\n",
       "        vertical-align: top;\n",
       "    }\n",
       "\n",
       "    .dataframe thead th {\n",
       "        text-align: right;\n",
       "    }\n",
       "</style>\n",
       "<table border=\"1\" class=\"dataframe\">\n",
       "  <thead>\n",
       "    <tr style=\"text-align: right;\">\n",
       "      <th></th>\n",
       "      <th>PH</th>\n",
       "      <th>EC</th>\n",
       "      <th>TOT_ALKALINITY</th>\n",
       "      <th>CA</th>\n",
       "      <th>MG</th>\n",
       "      <th>NA</th>\n",
       "      <th>BICARBONATE</th>\n",
       "      <th>FLUORIDE</th>\n",
       "    </tr>\n",
       "  </thead>\n",
       "  <tbody>\n",
       "    <tr>\n",
       "      <th>PH</th>\n",
       "      <td>1.000000</td>\n",
       "      <td>0.007638</td>\n",
       "      <td>0.159336</td>\n",
       "      <td>-0.258240</td>\n",
       "      <td>-0.072663</td>\n",
       "      <td>0.111236</td>\n",
       "      <td>0.004120</td>\n",
       "      <td>0.104397</td>\n",
       "    </tr>\n",
       "    <tr>\n",
       "      <th>EC</th>\n",
       "      <td>0.007638</td>\n",
       "      <td>1.000000</td>\n",
       "      <td>0.326843</td>\n",
       "      <td>0.588173</td>\n",
       "      <td>0.419715</td>\n",
       "      <td>0.893397</td>\n",
       "      <td>0.376564</td>\n",
       "      <td>0.144962</td>\n",
       "    </tr>\n",
       "    <tr>\n",
       "      <th>TOT_ALKALINITY</th>\n",
       "      <td>0.159336</td>\n",
       "      <td>0.326843</td>\n",
       "      <td>1.000000</td>\n",
       "      <td>0.066551</td>\n",
       "      <td>0.037629</td>\n",
       "      <td>0.365656</td>\n",
       "      <td>0.858184</td>\n",
       "      <td>0.207236</td>\n",
       "    </tr>\n",
       "    <tr>\n",
       "      <th>CA</th>\n",
       "      <td>-0.258240</td>\n",
       "      <td>0.588173</td>\n",
       "      <td>0.066551</td>\n",
       "      <td>1.000000</td>\n",
       "      <td>0.335212</td>\n",
       "      <td>0.431942</td>\n",
       "      <td>0.134535</td>\n",
       "      <td>-0.021407</td>\n",
       "    </tr>\n",
       "    <tr>\n",
       "      <th>MG</th>\n",
       "      <td>-0.072663</td>\n",
       "      <td>0.419715</td>\n",
       "      <td>0.037629</td>\n",
       "      <td>0.335212</td>\n",
       "      <td>1.000000</td>\n",
       "      <td>0.316331</td>\n",
       "      <td>0.158502</td>\n",
       "      <td>0.032624</td>\n",
       "    </tr>\n",
       "    <tr>\n",
       "      <th>NA</th>\n",
       "      <td>0.111236</td>\n",
       "      <td>0.893397</td>\n",
       "      <td>0.365656</td>\n",
       "      <td>0.431942</td>\n",
       "      <td>0.316331</td>\n",
       "      <td>1.000000</td>\n",
       "      <td>0.383354</td>\n",
       "      <td>0.205203</td>\n",
       "    </tr>\n",
       "    <tr>\n",
       "      <th>BICARBONATE</th>\n",
       "      <td>0.004120</td>\n",
       "      <td>0.376564</td>\n",
       "      <td>0.858184</td>\n",
       "      <td>0.134535</td>\n",
       "      <td>0.158502</td>\n",
       "      <td>0.383354</td>\n",
       "      <td>1.000000</td>\n",
       "      <td>0.219009</td>\n",
       "    </tr>\n",
       "    <tr>\n",
       "      <th>FLUORIDE</th>\n",
       "      <td>0.104397</td>\n",
       "      <td>0.144962</td>\n",
       "      <td>0.207236</td>\n",
       "      <td>-0.021407</td>\n",
       "      <td>0.032624</td>\n",
       "      <td>0.205203</td>\n",
       "      <td>0.219009</td>\n",
       "      <td>1.000000</td>\n",
       "    </tr>\n",
       "  </tbody>\n",
       "</table>\n",
       "</div>"
      ],
      "text/plain": [
       "                      PH        EC  TOT_ALKALINITY        CA        MG  \\\n",
       "PH              1.000000  0.007638        0.159336 -0.258240 -0.072663   \n",
       "EC              0.007638  1.000000        0.326843  0.588173  0.419715   \n",
       "TOT_ALKALINITY  0.159336  0.326843        1.000000  0.066551  0.037629   \n",
       "CA             -0.258240  0.588173        0.066551  1.000000  0.335212   \n",
       "MG             -0.072663  0.419715        0.037629  0.335212  1.000000   \n",
       "NA              0.111236  0.893397        0.365656  0.431942  0.316331   \n",
       "BICARBONATE     0.004120  0.376564        0.858184  0.134535  0.158502   \n",
       "FLUORIDE        0.104397  0.144962        0.207236 -0.021407  0.032624   \n",
       "\n",
       "                      NA  BICARBONATE  FLUORIDE  \n",
       "PH              0.111236     0.004120  0.104397  \n",
       "EC              0.893397     0.376564  0.144962  \n",
       "TOT_ALKALINITY  0.365656     0.858184  0.207236  \n",
       "CA              0.431942     0.134535 -0.021407  \n",
       "MG              0.316331     0.158502  0.032624  \n",
       "NA              1.000000     0.383354  0.205203  \n",
       "BICARBONATE     0.383354     1.000000  0.219009  \n",
       "FLUORIDE        0.205203     0.219009  1.000000  "
      ]
     },
     "execution_count": 8,
     "metadata": {},
     "output_type": "execute_result"
    }
   ],
   "source": [
    "final_data.corr()"
   ]
  },
  {
   "cell_type": "code",
   "execution_count": 9,
   "metadata": {},
   "outputs": [
    {
     "data": {
      "text/plain": [
       "0    9685\n",
       "1    4632\n",
       "Name: Bin_Fluoride, dtype: int64"
      ]
     },
     "execution_count": 9,
     "metadata": {},
     "output_type": "execute_result"
    }
   ],
   "source": [
    "final_data['Bin_Fluoride'] = np.where( final_data['FLUORIDE'] >= 1,1,0)\n",
    "final_data['Bin_Fluoride'].value_counts()"
   ]
  },
  {
   "cell_type": "code",
   "execution_count": 10,
   "metadata": {},
   "outputs": [
    {
     "data": {
      "text/html": [
       "<div>\n",
       "<style scoped>\n",
       "    .dataframe tbody tr th:only-of-type {\n",
       "        vertical-align: middle;\n",
       "    }\n",
       "\n",
       "    .dataframe tbody tr th {\n",
       "        vertical-align: top;\n",
       "    }\n",
       "\n",
       "    .dataframe thead th {\n",
       "        text-align: right;\n",
       "    }\n",
       "</style>\n",
       "<table border=\"1\" class=\"dataframe\">\n",
       "  <thead>\n",
       "    <tr style=\"text-align: right;\">\n",
       "      <th></th>\n",
       "      <th>PH</th>\n",
       "      <th>EC</th>\n",
       "      <th>TOT_ALKALINITY</th>\n",
       "      <th>CA</th>\n",
       "      <th>MG</th>\n",
       "      <th>NA</th>\n",
       "      <th>BICARBONATE</th>\n",
       "      <th>FLUORIDE</th>\n",
       "      <th>Bin_Fluoride</th>\n",
       "    </tr>\n",
       "  </thead>\n",
       "  <tbody>\n",
       "    <tr>\n",
       "      <th>0</th>\n",
       "      <td>7.83</td>\n",
       "      <td>2000.0</td>\n",
       "      <td>314.75</td>\n",
       "      <td>66.0</td>\n",
       "      <td>70.59</td>\n",
       "      <td>250.0</td>\n",
       "      <td>384.0</td>\n",
       "      <td>2.20</td>\n",
       "      <td>1</td>\n",
       "    </tr>\n",
       "    <tr>\n",
       "      <th>2</th>\n",
       "      <td>8.17</td>\n",
       "      <td>786.0</td>\n",
       "      <td>240.16</td>\n",
       "      <td>24.0</td>\n",
       "      <td>24.34</td>\n",
       "      <td>106.0</td>\n",
       "      <td>293.0</td>\n",
       "      <td>3.83</td>\n",
       "      <td>1</td>\n",
       "    </tr>\n",
       "    <tr>\n",
       "      <th>3</th>\n",
       "      <td>7.60</td>\n",
       "      <td>990.0</td>\n",
       "      <td>440.16</td>\n",
       "      <td>24.0</td>\n",
       "      <td>25.56</td>\n",
       "      <td>180.0</td>\n",
       "      <td>537.0</td>\n",
       "      <td>3.80</td>\n",
       "      <td>1</td>\n",
       "    </tr>\n",
       "    <tr>\n",
       "      <th>4</th>\n",
       "      <td>7.64</td>\n",
       "      <td>862.0</td>\n",
       "      <td>235.25</td>\n",
       "      <td>62.0</td>\n",
       "      <td>20.74</td>\n",
       "      <td>81.0</td>\n",
       "      <td>287.0</td>\n",
       "      <td>2.10</td>\n",
       "      <td>1</td>\n",
       "    </tr>\n",
       "    <tr>\n",
       "      <th>6</th>\n",
       "      <td>8.13</td>\n",
       "      <td>788.0</td>\n",
       "      <td>304.92</td>\n",
       "      <td>18.0</td>\n",
       "      <td>20.69</td>\n",
       "      <td>132.0</td>\n",
       "      <td>372.0</td>\n",
       "      <td>2.40</td>\n",
       "      <td>1</td>\n",
       "    </tr>\n",
       "  </tbody>\n",
       "</table>\n",
       "</div>"
      ],
      "text/plain": [
       "     PH      EC  TOT_ALKALINITY    CA     MG     NA  BICARBONATE  FLUORIDE  \\\n",
       "0  7.83  2000.0          314.75  66.0  70.59  250.0        384.0      2.20   \n",
       "2  8.17   786.0          240.16  24.0  24.34  106.0        293.0      3.83   \n",
       "3  7.60   990.0          440.16  24.0  25.56  180.0        537.0      3.80   \n",
       "4  7.64   862.0          235.25  62.0  20.74   81.0        287.0      2.10   \n",
       "6  8.13   788.0          304.92  18.0  20.69  132.0        372.0      2.40   \n",
       "\n",
       "   Bin_Fluoride  \n",
       "0             1  \n",
       "2             1  \n",
       "3             1  \n",
       "4             1  \n",
       "6             1  "
      ]
     },
     "execution_count": 10,
     "metadata": {},
     "output_type": "execute_result"
    }
   ],
   "source": [
    "final_data.head()"
   ]
  },
  {
   "cell_type": "code",
   "execution_count": 11,
   "metadata": {},
   "outputs": [],
   "source": [
    "final_data = final_data.drop(['FLUORIDE'],axis=1)"
   ]
  },
  {
   "cell_type": "code",
   "execution_count": 12,
   "metadata": {},
   "outputs": [
    {
     "data": {
      "text/plain": [
       "(14317, 8)"
      ]
     },
     "execution_count": 12,
     "metadata": {},
     "output_type": "execute_result"
    }
   ],
   "source": [
    "final_data.shape"
   ]
  },
  {
   "cell_type": "code",
   "execution_count": 13,
   "metadata": {},
   "outputs": [],
   "source": [
    "data = final_data"
   ]
  },
  {
   "cell_type": "code",
   "execution_count": 14,
   "metadata": {},
   "outputs": [
    {
     "data": {
      "text/html": [
       "<div>\n",
       "<style scoped>\n",
       "    .dataframe tbody tr th:only-of-type {\n",
       "        vertical-align: middle;\n",
       "    }\n",
       "\n",
       "    .dataframe tbody tr th {\n",
       "        vertical-align: top;\n",
       "    }\n",
       "\n",
       "    .dataframe thead th {\n",
       "        text-align: right;\n",
       "    }\n",
       "</style>\n",
       "<table border=\"1\" class=\"dataframe\">\n",
       "  <thead>\n",
       "    <tr style=\"text-align: right;\">\n",
       "      <th></th>\n",
       "      <th>PH</th>\n",
       "      <th>EC</th>\n",
       "      <th>TOT_ALKALINITY</th>\n",
       "      <th>CA</th>\n",
       "      <th>MG</th>\n",
       "      <th>NA</th>\n",
       "      <th>BICARBONATE</th>\n",
       "      <th>Bin_Fluoride</th>\n",
       "    </tr>\n",
       "  </thead>\n",
       "  <tbody>\n",
       "    <tr>\n",
       "      <th>3485</th>\n",
       "      <td>8.32</td>\n",
       "      <td>1756.0</td>\n",
       "      <td>419.670000</td>\n",
       "      <td>62.0</td>\n",
       "      <td>42.62</td>\n",
       "      <td>230.0</td>\n",
       "      <td>451.0</td>\n",
       "      <td>1</td>\n",
       "    </tr>\n",
       "    <tr>\n",
       "      <th>680</th>\n",
       "      <td>7.19</td>\n",
       "      <td>824.0</td>\n",
       "      <td>290.160000</td>\n",
       "      <td>64.0</td>\n",
       "      <td>38.98</td>\n",
       "      <td>20.0</td>\n",
       "      <td>354.0</td>\n",
       "      <td>0</td>\n",
       "    </tr>\n",
       "    <tr>\n",
       "      <th>5158</th>\n",
       "      <td>8.50</td>\n",
       "      <td>650.0</td>\n",
       "      <td>250.163934</td>\n",
       "      <td>24.0</td>\n",
       "      <td>32.00</td>\n",
       "      <td>126.0</td>\n",
       "      <td>232.0</td>\n",
       "      <td>1</td>\n",
       "    </tr>\n",
       "    <tr>\n",
       "      <th>1305</th>\n",
       "      <td>8.19</td>\n",
       "      <td>219.0</td>\n",
       "      <td>59.835910</td>\n",
       "      <td>28.0</td>\n",
       "      <td>8.54</td>\n",
       "      <td>13.0</td>\n",
       "      <td>73.0</td>\n",
       "      <td>0</td>\n",
       "    </tr>\n",
       "    <tr>\n",
       "      <th>2844</th>\n",
       "      <td>6.84</td>\n",
       "      <td>1469.0</td>\n",
       "      <td>269.670000</td>\n",
       "      <td>88.0</td>\n",
       "      <td>41.44</td>\n",
       "      <td>140.0</td>\n",
       "      <td>329.0</td>\n",
       "      <td>0</td>\n",
       "    </tr>\n",
       "    <tr>\n",
       "      <th>...</th>\n",
       "      <td>...</td>\n",
       "      <td>...</td>\n",
       "      <td>...</td>\n",
       "      <td>...</td>\n",
       "      <td>...</td>\n",
       "      <td>...</td>\n",
       "      <td>...</td>\n",
       "      <td>...</td>\n",
       "    </tr>\n",
       "    <tr>\n",
       "      <th>3536</th>\n",
       "      <td>7.60</td>\n",
       "      <td>1696.0</td>\n",
       "      <td>225.410000</td>\n",
       "      <td>60.0</td>\n",
       "      <td>32.90</td>\n",
       "      <td>206.0</td>\n",
       "      <td>275.0</td>\n",
       "      <td>0</td>\n",
       "    </tr>\n",
       "    <tr>\n",
       "      <th>374</th>\n",
       "      <td>8.03</td>\n",
       "      <td>1190.0</td>\n",
       "      <td>245.081330</td>\n",
       "      <td>80.0</td>\n",
       "      <td>7.39</td>\n",
       "      <td>161.0</td>\n",
       "      <td>299.0</td>\n",
       "      <td>1</td>\n",
       "    </tr>\n",
       "    <tr>\n",
       "      <th>2013</th>\n",
       "      <td>8.21</td>\n",
       "      <td>909.0</td>\n",
       "      <td>280.330000</td>\n",
       "      <td>48.0</td>\n",
       "      <td>23.16</td>\n",
       "      <td>115.0</td>\n",
       "      <td>342.0</td>\n",
       "      <td>0</td>\n",
       "    </tr>\n",
       "    <tr>\n",
       "      <th>2822</th>\n",
       "      <td>7.70</td>\n",
       "      <td>7015.0</td>\n",
       "      <td>409.840000</td>\n",
       "      <td>240.0</td>\n",
       "      <td>267.74</td>\n",
       "      <td>830.0</td>\n",
       "      <td>500.0</td>\n",
       "      <td>0</td>\n",
       "    </tr>\n",
       "    <tr>\n",
       "      <th>707</th>\n",
       "      <td>7.29</td>\n",
       "      <td>8500.0</td>\n",
       "      <td>300.000000</td>\n",
       "      <td>100.0</td>\n",
       "      <td>231.10</td>\n",
       "      <td>1410.0</td>\n",
       "      <td>366.0</td>\n",
       "      <td>0</td>\n",
       "    </tr>\n",
       "  </tbody>\n",
       "</table>\n",
       "<p>14317 rows × 8 columns</p>\n",
       "</div>"
      ],
      "text/plain": [
       "        PH      EC  TOT_ALKALINITY     CA      MG      NA  BICARBONATE  \\\n",
       "3485  8.32  1756.0      419.670000   62.0   42.62   230.0        451.0   \n",
       "680   7.19   824.0      290.160000   64.0   38.98    20.0        354.0   \n",
       "5158  8.50   650.0      250.163934   24.0   32.00   126.0        232.0   \n",
       "1305  8.19   219.0       59.835910   28.0    8.54    13.0         73.0   \n",
       "2844  6.84  1469.0      269.670000   88.0   41.44   140.0        329.0   \n",
       "...    ...     ...             ...    ...     ...     ...          ...   \n",
       "3536  7.60  1696.0      225.410000   60.0   32.90   206.0        275.0   \n",
       "374   8.03  1190.0      245.081330   80.0    7.39   161.0        299.0   \n",
       "2013  8.21   909.0      280.330000   48.0   23.16   115.0        342.0   \n",
       "2822  7.70  7015.0      409.840000  240.0  267.74   830.0        500.0   \n",
       "707   7.29  8500.0      300.000000  100.0  231.10  1410.0        366.0   \n",
       "\n",
       "      Bin_Fluoride  \n",
       "3485             1  \n",
       "680              0  \n",
       "5158             1  \n",
       "1305             0  \n",
       "2844             0  \n",
       "...            ...  \n",
       "3536             0  \n",
       "374              1  \n",
       "2013             0  \n",
       "2822             0  \n",
       "707              0  \n",
       "\n",
       "[14317 rows x 8 columns]"
      ]
     },
     "execution_count": 14,
     "metadata": {},
     "output_type": "execute_result"
    }
   ],
   "source": [
    "final_data = final_data.sample(frac=1)\n",
    "final_data"
   ]
  },
  {
   "cell_type": "code",
   "execution_count": 15,
   "metadata": {},
   "outputs": [
    {
     "data": {
      "text/html": [
       "<div>\n",
       "<style scoped>\n",
       "    .dataframe tbody tr th:only-of-type {\n",
       "        vertical-align: middle;\n",
       "    }\n",
       "\n",
       "    .dataframe tbody tr th {\n",
       "        vertical-align: top;\n",
       "    }\n",
       "\n",
       "    .dataframe thead th {\n",
       "        text-align: right;\n",
       "    }\n",
       "</style>\n",
       "<table border=\"1\" class=\"dataframe\">\n",
       "  <thead>\n",
       "    <tr style=\"text-align: right;\">\n",
       "      <th></th>\n",
       "      <th>PH</th>\n",
       "      <th>EC</th>\n",
       "      <th>TOT_ALKALINITY</th>\n",
       "      <th>CA</th>\n",
       "      <th>MG</th>\n",
       "      <th>NA</th>\n",
       "      <th>BICARBONATE</th>\n",
       "    </tr>\n",
       "  </thead>\n",
       "  <tbody>\n",
       "    <tr>\n",
       "      <th>3485</th>\n",
       "      <td>8.32</td>\n",
       "      <td>1756.0</td>\n",
       "      <td>419.670000</td>\n",
       "      <td>62.0</td>\n",
       "      <td>42.62</td>\n",
       "      <td>230.0</td>\n",
       "      <td>451.0</td>\n",
       "    </tr>\n",
       "    <tr>\n",
       "      <th>680</th>\n",
       "      <td>7.19</td>\n",
       "      <td>824.0</td>\n",
       "      <td>290.160000</td>\n",
       "      <td>64.0</td>\n",
       "      <td>38.98</td>\n",
       "      <td>20.0</td>\n",
       "      <td>354.0</td>\n",
       "    </tr>\n",
       "    <tr>\n",
       "      <th>5158</th>\n",
       "      <td>8.50</td>\n",
       "      <td>650.0</td>\n",
       "      <td>250.163934</td>\n",
       "      <td>24.0</td>\n",
       "      <td>32.00</td>\n",
       "      <td>126.0</td>\n",
       "      <td>232.0</td>\n",
       "    </tr>\n",
       "    <tr>\n",
       "      <th>1305</th>\n",
       "      <td>8.19</td>\n",
       "      <td>219.0</td>\n",
       "      <td>59.835910</td>\n",
       "      <td>28.0</td>\n",
       "      <td>8.54</td>\n",
       "      <td>13.0</td>\n",
       "      <td>73.0</td>\n",
       "    </tr>\n",
       "    <tr>\n",
       "      <th>2844</th>\n",
       "      <td>6.84</td>\n",
       "      <td>1469.0</td>\n",
       "      <td>269.670000</td>\n",
       "      <td>88.0</td>\n",
       "      <td>41.44</td>\n",
       "      <td>140.0</td>\n",
       "      <td>329.0</td>\n",
       "    </tr>\n",
       "    <tr>\n",
       "      <th>...</th>\n",
       "      <td>...</td>\n",
       "      <td>...</td>\n",
       "      <td>...</td>\n",
       "      <td>...</td>\n",
       "      <td>...</td>\n",
       "      <td>...</td>\n",
       "      <td>...</td>\n",
       "    </tr>\n",
       "    <tr>\n",
       "      <th>3536</th>\n",
       "      <td>7.60</td>\n",
       "      <td>1696.0</td>\n",
       "      <td>225.410000</td>\n",
       "      <td>60.0</td>\n",
       "      <td>32.90</td>\n",
       "      <td>206.0</td>\n",
       "      <td>275.0</td>\n",
       "    </tr>\n",
       "    <tr>\n",
       "      <th>374</th>\n",
       "      <td>8.03</td>\n",
       "      <td>1190.0</td>\n",
       "      <td>245.081330</td>\n",
       "      <td>80.0</td>\n",
       "      <td>7.39</td>\n",
       "      <td>161.0</td>\n",
       "      <td>299.0</td>\n",
       "    </tr>\n",
       "    <tr>\n",
       "      <th>2013</th>\n",
       "      <td>8.21</td>\n",
       "      <td>909.0</td>\n",
       "      <td>280.330000</td>\n",
       "      <td>48.0</td>\n",
       "      <td>23.16</td>\n",
       "      <td>115.0</td>\n",
       "      <td>342.0</td>\n",
       "    </tr>\n",
       "    <tr>\n",
       "      <th>2822</th>\n",
       "      <td>7.70</td>\n",
       "      <td>7015.0</td>\n",
       "      <td>409.840000</td>\n",
       "      <td>240.0</td>\n",
       "      <td>267.74</td>\n",
       "      <td>830.0</td>\n",
       "      <td>500.0</td>\n",
       "    </tr>\n",
       "    <tr>\n",
       "      <th>707</th>\n",
       "      <td>7.29</td>\n",
       "      <td>8500.0</td>\n",
       "      <td>300.000000</td>\n",
       "      <td>100.0</td>\n",
       "      <td>231.10</td>\n",
       "      <td>1410.0</td>\n",
       "      <td>366.0</td>\n",
       "    </tr>\n",
       "  </tbody>\n",
       "</table>\n",
       "<p>14317 rows × 7 columns</p>\n",
       "</div>"
      ],
      "text/plain": [
       "        PH      EC  TOT_ALKALINITY     CA      MG      NA  BICARBONATE\n",
       "3485  8.32  1756.0      419.670000   62.0   42.62   230.0        451.0\n",
       "680   7.19   824.0      290.160000   64.0   38.98    20.0        354.0\n",
       "5158  8.50   650.0      250.163934   24.0   32.00   126.0        232.0\n",
       "1305  8.19   219.0       59.835910   28.0    8.54    13.0         73.0\n",
       "2844  6.84  1469.0      269.670000   88.0   41.44   140.0        329.0\n",
       "...    ...     ...             ...    ...     ...     ...          ...\n",
       "3536  7.60  1696.0      225.410000   60.0   32.90   206.0        275.0\n",
       "374   8.03  1190.0      245.081330   80.0    7.39   161.0        299.0\n",
       "2013  8.21   909.0      280.330000   48.0   23.16   115.0        342.0\n",
       "2822  7.70  7015.0      409.840000  240.0  267.74   830.0        500.0\n",
       "707   7.29  8500.0      300.000000  100.0  231.10  1410.0        366.0\n",
       "\n",
       "[14317 rows x 7 columns]"
      ]
     },
     "execution_count": 15,
     "metadata": {},
     "output_type": "execute_result"
    }
   ],
   "source": [
    "x = final_data.drop(['Bin_Fluoride'],axis=1)\n",
    "x"
   ]
  },
  {
   "cell_type": "code",
   "execution_count": 16,
   "metadata": {},
   "outputs": [
    {
     "data": {
      "text/plain": [
       "3485    1\n",
       "680     0\n",
       "5158    1\n",
       "1305    0\n",
       "2844    0\n",
       "       ..\n",
       "3536    0\n",
       "374     1\n",
       "2013    0\n",
       "2822    0\n",
       "707     0\n",
       "Name: Bin_Fluoride, Length: 14317, dtype: int64"
      ]
     },
     "execution_count": 16,
     "metadata": {},
     "output_type": "execute_result"
    }
   ],
   "source": [
    "y = final_data[:]['Bin_Fluoride']\n",
    "y"
   ]
  },
  {
   "cell_type": "code",
   "execution_count": 17,
   "metadata": {},
   "outputs": [
    {
     "data": {
      "text/plain": [
       "(10000, 7)"
      ]
     },
     "execution_count": 17,
     "metadata": {},
     "output_type": "execute_result"
    }
   ],
   "source": [
    "x_train,x_test=x[:10000],x[10000:]\n",
    "x_train.shape"
   ]
  },
  {
   "cell_type": "code",
   "execution_count": 18,
   "metadata": {},
   "outputs": [
    {
     "data": {
      "text/plain": [
       "(4317, 7)"
      ]
     },
     "execution_count": 18,
     "metadata": {},
     "output_type": "execute_result"
    }
   ],
   "source": [
    "x_test.shape"
   ]
  },
  {
   "cell_type": "code",
   "execution_count": 19,
   "metadata": {},
   "outputs": [
    {
     "data": {
      "text/plain": [
       "0    6741\n",
       "1    3259\n",
       "Name: Bin_Fluoride, dtype: int64"
      ]
     },
     "execution_count": 19,
     "metadata": {},
     "output_type": "execute_result"
    }
   ],
   "source": [
    "y_train,y_test=y[:10000],y[10000:]\n",
    "y_train.value_counts()"
   ]
  },
  {
   "cell_type": "code",
   "execution_count": 20,
   "metadata": {},
   "outputs": [
    {
     "data": {
      "text/plain": [
       "0    2944\n",
       "1    1373\n",
       "Name: Bin_Fluoride, dtype: int64"
      ]
     },
     "execution_count": 20,
     "metadata": {},
     "output_type": "execute_result"
    }
   ],
   "source": [
    "y_test.value_counts()"
   ]
  },
  {
   "cell_type": "markdown",
   "metadata": {},
   "source": [
    "# ***Random Forest***"
   ]
  },
  {
   "cell_type": "code",
   "execution_count": 21,
   "metadata": {},
   "outputs": [
    {
     "data": {
      "text/plain": [
       "RandomForestClassifier(max_depth=19, random_state=10)"
      ]
     },
     "execution_count": 21,
     "metadata": {},
     "output_type": "execute_result"
    }
   ],
   "source": [
    "from sklearn.ensemble import RandomForestClassifier\n",
    "clf_forest = RandomForestClassifier(max_depth=19, random_state=10)\n",
    "clf_forest.fit(x_train,y_train)"
   ]
  },
  {
   "cell_type": "code",
   "execution_count": 22,
   "metadata": {},
   "outputs": [
    {
     "data": {
      "text/plain": [
       "array([0, 0, 0, ..., 0, 0, 0])"
      ]
     },
     "execution_count": 22,
     "metadata": {},
     "output_type": "execute_result"
    }
   ],
   "source": [
    "y_test_predict_forest = clf_forest.predict(x_test[:][:])\n",
    "y_test_predict_forest"
   ]
  },
  {
   "cell_type": "code",
   "execution_count": 23,
   "metadata": {},
   "outputs": [],
   "source": [
    "from sklearn.metrics import confusion_matrix"
   ]
  },
  {
   "cell_type": "code",
   "execution_count": 24,
   "metadata": {},
   "outputs": [
    {
     "data": {
      "text/plain": [
       "array([[2612,  332],\n",
       "       [ 800,  573]])"
      ]
     },
     "execution_count": 24,
     "metadata": {},
     "output_type": "execute_result"
    }
   ],
   "source": [
    "confusion_matrix(y_test,y_test_predict_forest)"
   ]
  },
  {
   "cell_type": "code",
   "execution_count": 25,
   "metadata": {},
   "outputs": [],
   "source": [
    "# [2629,  297], \n",
    "# [ 882,  509]]  10,10  \n",
    "#  \n",
    "# ([[2625,  301],\n",
    "# [ 863,  528]])   12,10\n",
    "\n",
    "# ([[2620,  306],\n",
    "# [ 837,  554]])   14,10"
   ]
  },
  {
   "cell_type": "code",
   "execution_count": 26,
   "metadata": {},
   "outputs": [],
   "source": [
    "# Modify data"
   ]
  },
  {
   "cell_type": "code",
   "execution_count": 27,
   "metadata": {},
   "outputs": [
    {
     "data": {
      "text/html": [
       "<div>\n",
       "<style scoped>\n",
       "    .dataframe tbody tr th:only-of-type {\n",
       "        vertical-align: middle;\n",
       "    }\n",
       "\n",
       "    .dataframe tbody tr th {\n",
       "        vertical-align: top;\n",
       "    }\n",
       "\n",
       "    .dataframe thead th {\n",
       "        text-align: right;\n",
       "    }\n",
       "</style>\n",
       "<table border=\"1\" class=\"dataframe\">\n",
       "  <thead>\n",
       "    <tr style=\"text-align: right;\">\n",
       "      <th></th>\n",
       "      <th>PH</th>\n",
       "      <th>EC</th>\n",
       "      <th>TOT_ALKALINITY</th>\n",
       "      <th>CA</th>\n",
       "      <th>MG</th>\n",
       "      <th>NA</th>\n",
       "      <th>BICARBONATE</th>\n",
       "      <th>Bin_Fluoride</th>\n",
       "    </tr>\n",
       "  </thead>\n",
       "  <tbody>\n",
       "    <tr>\n",
       "      <th>0</th>\n",
       "      <td>7.83</td>\n",
       "      <td>2000.0</td>\n",
       "      <td>314.75</td>\n",
       "      <td>66.0</td>\n",
       "      <td>70.59</td>\n",
       "      <td>250.0</td>\n",
       "      <td>384.0</td>\n",
       "      <td>1</td>\n",
       "    </tr>\n",
       "    <tr>\n",
       "      <th>2</th>\n",
       "      <td>8.17</td>\n",
       "      <td>786.0</td>\n",
       "      <td>240.16</td>\n",
       "      <td>24.0</td>\n",
       "      <td>24.34</td>\n",
       "      <td>106.0</td>\n",
       "      <td>293.0</td>\n",
       "      <td>1</td>\n",
       "    </tr>\n",
       "    <tr>\n",
       "      <th>3</th>\n",
       "      <td>7.60</td>\n",
       "      <td>990.0</td>\n",
       "      <td>440.16</td>\n",
       "      <td>24.0</td>\n",
       "      <td>25.56</td>\n",
       "      <td>180.0</td>\n",
       "      <td>537.0</td>\n",
       "      <td>1</td>\n",
       "    </tr>\n",
       "    <tr>\n",
       "      <th>4</th>\n",
       "      <td>7.64</td>\n",
       "      <td>862.0</td>\n",
       "      <td>235.25</td>\n",
       "      <td>62.0</td>\n",
       "      <td>20.74</td>\n",
       "      <td>81.0</td>\n",
       "      <td>287.0</td>\n",
       "      <td>1</td>\n",
       "    </tr>\n",
       "    <tr>\n",
       "      <th>6</th>\n",
       "      <td>8.13</td>\n",
       "      <td>788.0</td>\n",
       "      <td>304.92</td>\n",
       "      <td>18.0</td>\n",
       "      <td>20.69</td>\n",
       "      <td>132.0</td>\n",
       "      <td>372.0</td>\n",
       "      <td>1</td>\n",
       "    </tr>\n",
       "  </tbody>\n",
       "</table>\n",
       "</div>"
      ],
      "text/plain": [
       "     PH      EC  TOT_ALKALINITY    CA     MG     NA  BICARBONATE  Bin_Fluoride\n",
       "0  7.83  2000.0          314.75  66.0  70.59  250.0        384.0             1\n",
       "2  8.17   786.0          240.16  24.0  24.34  106.0        293.0             1\n",
       "3  7.60   990.0          440.16  24.0  25.56  180.0        537.0             1\n",
       "4  7.64   862.0          235.25  62.0  20.74   81.0        287.0             1\n",
       "6  8.13   788.0          304.92  18.0  20.69  132.0        372.0             1"
      ]
     },
     "execution_count": 27,
     "metadata": {},
     "output_type": "execute_result"
    }
   ],
   "source": [
    "data.head()"
   ]
  },
  {
   "cell_type": "code",
   "execution_count": 28,
   "metadata": {},
   "outputs": [
    {
     "data": {
      "text/html": [
       "<div>\n",
       "<style scoped>\n",
       "    .dataframe tbody tr th:only-of-type {\n",
       "        vertical-align: middle;\n",
       "    }\n",
       "\n",
       "    .dataframe tbody tr th {\n",
       "        vertical-align: top;\n",
       "    }\n",
       "\n",
       "    .dataframe thead th {\n",
       "        text-align: right;\n",
       "    }\n",
       "</style>\n",
       "<table border=\"1\" class=\"dataframe\">\n",
       "  <thead>\n",
       "    <tr style=\"text-align: right;\">\n",
       "      <th></th>\n",
       "      <th>PH</th>\n",
       "      <th>EC</th>\n",
       "      <th>TOT_ALKALINITY</th>\n",
       "      <th>CA</th>\n",
       "      <th>MG</th>\n",
       "      <th>NA</th>\n",
       "      <th>BICARBONATE</th>\n",
       "      <th>Bin_Fluoride</th>\n",
       "      <th>NA/CA</th>\n",
       "    </tr>\n",
       "  </thead>\n",
       "  <tbody>\n",
       "    <tr>\n",
       "      <th>0</th>\n",
       "      <td>7.83</td>\n",
       "      <td>2000.0</td>\n",
       "      <td>314.75</td>\n",
       "      <td>66.0</td>\n",
       "      <td>70.59</td>\n",
       "      <td>250.0</td>\n",
       "      <td>384.0</td>\n",
       "      <td>1</td>\n",
       "      <td>3.787879</td>\n",
       "    </tr>\n",
       "    <tr>\n",
       "      <th>2</th>\n",
       "      <td>8.17</td>\n",
       "      <td>786.0</td>\n",
       "      <td>240.16</td>\n",
       "      <td>24.0</td>\n",
       "      <td>24.34</td>\n",
       "      <td>106.0</td>\n",
       "      <td>293.0</td>\n",
       "      <td>1</td>\n",
       "      <td>4.416667</td>\n",
       "    </tr>\n",
       "    <tr>\n",
       "      <th>3</th>\n",
       "      <td>7.60</td>\n",
       "      <td>990.0</td>\n",
       "      <td>440.16</td>\n",
       "      <td>24.0</td>\n",
       "      <td>25.56</td>\n",
       "      <td>180.0</td>\n",
       "      <td>537.0</td>\n",
       "      <td>1</td>\n",
       "      <td>7.500000</td>\n",
       "    </tr>\n",
       "    <tr>\n",
       "      <th>4</th>\n",
       "      <td>7.64</td>\n",
       "      <td>862.0</td>\n",
       "      <td>235.25</td>\n",
       "      <td>62.0</td>\n",
       "      <td>20.74</td>\n",
       "      <td>81.0</td>\n",
       "      <td>287.0</td>\n",
       "      <td>1</td>\n",
       "      <td>1.306452</td>\n",
       "    </tr>\n",
       "    <tr>\n",
       "      <th>6</th>\n",
       "      <td>8.13</td>\n",
       "      <td>788.0</td>\n",
       "      <td>304.92</td>\n",
       "      <td>18.0</td>\n",
       "      <td>20.69</td>\n",
       "      <td>132.0</td>\n",
       "      <td>372.0</td>\n",
       "      <td>1</td>\n",
       "      <td>7.333333</td>\n",
       "    </tr>\n",
       "  </tbody>\n",
       "</table>\n",
       "</div>"
      ],
      "text/plain": [
       "     PH      EC  TOT_ALKALINITY    CA     MG     NA  BICARBONATE  \\\n",
       "0  7.83  2000.0          314.75  66.0  70.59  250.0        384.0   \n",
       "2  8.17   786.0          240.16  24.0  24.34  106.0        293.0   \n",
       "3  7.60   990.0          440.16  24.0  25.56  180.0        537.0   \n",
       "4  7.64   862.0          235.25  62.0  20.74   81.0        287.0   \n",
       "6  8.13   788.0          304.92  18.0  20.69  132.0        372.0   \n",
       "\n",
       "   Bin_Fluoride     NA/CA  \n",
       "0             1  3.787879  \n",
       "2             1  4.416667  \n",
       "3             1  7.500000  \n",
       "4             1  1.306452  \n",
       "6             1  7.333333  "
      ]
     },
     "execution_count": 28,
     "metadata": {},
     "output_type": "execute_result"
    }
   ],
   "source": [
    "data['NA/CA'] = np.where(data['CA']!=0,data['NA']/data['CA'],0)\n",
    "data.head()"
   ]
  },
  {
   "cell_type": "code",
   "execution_count": 29,
   "metadata": {},
   "outputs": [
    {
     "data": {
      "text/plain": [
       "PH                14317\n",
       "EC                14317\n",
       "TOT_ALKALINITY    14317\n",
       "CA                14317\n",
       "MG                14317\n",
       "NA                14317\n",
       "BICARBONATE       14317\n",
       "Bin_Fluoride      14317\n",
       "NA/CA             14317\n",
       "dtype: int64"
      ]
     },
     "execution_count": 29,
     "metadata": {},
     "output_type": "execute_result"
    }
   ],
   "source": [
    "data.count()"
   ]
  },
  {
   "cell_type": "code",
   "execution_count": 30,
   "metadata": {},
   "outputs": [],
   "source": [
    "data = data.dropna(axis=0)"
   ]
  },
  {
   "cell_type": "code",
   "execution_count": 31,
   "metadata": {},
   "outputs": [
    {
     "data": {
      "text/plain": [
       "PH                14317\n",
       "EC                14317\n",
       "TOT_ALKALINITY    14317\n",
       "CA                14317\n",
       "MG                14317\n",
       "NA                14317\n",
       "BICARBONATE       14317\n",
       "Bin_Fluoride      14317\n",
       "NA/CA             14317\n",
       "dtype: int64"
      ]
     },
     "execution_count": 31,
     "metadata": {},
     "output_type": "execute_result"
    }
   ],
   "source": [
    "data.count()"
   ]
  },
  {
   "cell_type": "code",
   "execution_count": 32,
   "metadata": {},
   "outputs": [
    {
     "name": "stdout",
     "output_type": "stream",
     "text": [
      "<class 'pandas.core.frame.DataFrame'>\n",
      "Int64Index: 14317 entries, 0 to 4031\n",
      "Data columns (total 9 columns):\n",
      " #   Column          Non-Null Count  Dtype  \n",
      "---  ------          --------------  -----  \n",
      " 0   PH              14317 non-null  float32\n",
      " 1   EC              14317 non-null  float32\n",
      " 2   TOT_ALKALINITY  14317 non-null  float32\n",
      " 3   CA              14317 non-null  float32\n",
      " 4   MG              14317 non-null  float32\n",
      " 5   NA              14317 non-null  float32\n",
      " 6   BICARBONATE     14317 non-null  float32\n",
      " 7   Bin_Fluoride    14317 non-null  float32\n",
      " 8   NA/CA           14317 non-null  float32\n",
      "dtypes: float32(9)\n",
      "memory usage: 615.2 KB\n"
     ]
    }
   ],
   "source": [
    "data = data.astype(\"f\")\n",
    "data.info()"
   ]
  },
  {
   "cell_type": "code",
   "execution_count": null,
   "metadata": {},
   "outputs": [],
   "source": []
  },
  {
   "cell_type": "code",
   "execution_count": 33,
   "metadata": {},
   "outputs": [
    {
     "data": {
      "text/html": [
       "<div>\n",
       "<style scoped>\n",
       "    .dataframe tbody tr th:only-of-type {\n",
       "        vertical-align: middle;\n",
       "    }\n",
       "\n",
       "    .dataframe tbody tr th {\n",
       "        vertical-align: top;\n",
       "    }\n",
       "\n",
       "    .dataframe thead th {\n",
       "        text-align: right;\n",
       "    }\n",
       "</style>\n",
       "<table border=\"1\" class=\"dataframe\">\n",
       "  <thead>\n",
       "    <tr style=\"text-align: right;\">\n",
       "      <th></th>\n",
       "      <th>PH</th>\n",
       "      <th>EC</th>\n",
       "      <th>TOT_ALKALINITY</th>\n",
       "      <th>CA</th>\n",
       "      <th>MG</th>\n",
       "      <th>NA</th>\n",
       "      <th>BICARBONATE</th>\n",
       "      <th>Bin_Fluoride</th>\n",
       "      <th>NA/CA</th>\n",
       "    </tr>\n",
       "  </thead>\n",
       "  <tbody>\n",
       "    <tr>\n",
       "      <th>650</th>\n",
       "      <td>7.62</td>\n",
       "      <td>1825.0</td>\n",
       "      <td>569.669983</td>\n",
       "      <td>64.0</td>\n",
       "      <td>102.190002</td>\n",
       "      <td>173.000000</td>\n",
       "      <td>695.000000</td>\n",
       "      <td>0.0</td>\n",
       "      <td>2.703125</td>\n",
       "    </tr>\n",
       "    <tr>\n",
       "      <th>1869</th>\n",
       "      <td>8.26</td>\n",
       "      <td>590.0</td>\n",
       "      <td>280.329987</td>\n",
       "      <td>20.0</td>\n",
       "      <td>24.340000</td>\n",
       "      <td>104.000000</td>\n",
       "      <td>342.000000</td>\n",
       "      <td>1.0</td>\n",
       "      <td>5.200000</td>\n",
       "    </tr>\n",
       "    <tr>\n",
       "      <th>2178</th>\n",
       "      <td>7.63</td>\n",
       "      <td>1383.0</td>\n",
       "      <td>430.329987</td>\n",
       "      <td>64.0</td>\n",
       "      <td>32.900002</td>\n",
       "      <td>154.000000</td>\n",
       "      <td>525.000000</td>\n",
       "      <td>0.0</td>\n",
       "      <td>2.406250</td>\n",
       "    </tr>\n",
       "    <tr>\n",
       "      <th>3831</th>\n",
       "      <td>6.90</td>\n",
       "      <td>1368.0</td>\n",
       "      <td>0.000000</td>\n",
       "      <td>84.0</td>\n",
       "      <td>58.329601</td>\n",
       "      <td>97.059998</td>\n",
       "      <td>286.794006</td>\n",
       "      <td>0.0</td>\n",
       "      <td>1.155476</td>\n",
       "    </tr>\n",
       "    <tr>\n",
       "      <th>1627</th>\n",
       "      <td>7.30</td>\n",
       "      <td>1562.0</td>\n",
       "      <td>0.000000</td>\n",
       "      <td>112.0</td>\n",
       "      <td>80.203201</td>\n",
       "      <td>73.599998</td>\n",
       "      <td>317.303986</td>\n",
       "      <td>1.0</td>\n",
       "      <td>0.657143</td>\n",
       "    </tr>\n",
       "  </tbody>\n",
       "</table>\n",
       "</div>"
      ],
      "text/plain": [
       "        PH      EC  TOT_ALKALINITY     CA          MG          NA  \\\n",
       "650   7.62  1825.0      569.669983   64.0  102.190002  173.000000   \n",
       "1869  8.26   590.0      280.329987   20.0   24.340000  104.000000   \n",
       "2178  7.63  1383.0      430.329987   64.0   32.900002  154.000000   \n",
       "3831  6.90  1368.0        0.000000   84.0   58.329601   97.059998   \n",
       "1627  7.30  1562.0        0.000000  112.0   80.203201   73.599998   \n",
       "\n",
       "      BICARBONATE  Bin_Fluoride     NA/CA  \n",
       "650    695.000000           0.0  2.703125  \n",
       "1869   342.000000           1.0  5.200000  \n",
       "2178   525.000000           0.0  2.406250  \n",
       "3831   286.794006           0.0  1.155476  \n",
       "1627   317.303986           1.0  0.657143  "
      ]
     },
     "execution_count": 33,
     "metadata": {},
     "output_type": "execute_result"
    }
   ],
   "source": [
    "data = data.sample(frac=1)\n",
    "data.head()"
   ]
  },
  {
   "cell_type": "code",
   "execution_count": 34,
   "metadata": {},
   "outputs": [
    {
     "data": {
      "text/html": [
       "<div>\n",
       "<style scoped>\n",
       "    .dataframe tbody tr th:only-of-type {\n",
       "        vertical-align: middle;\n",
       "    }\n",
       "\n",
       "    .dataframe tbody tr th {\n",
       "        vertical-align: top;\n",
       "    }\n",
       "\n",
       "    .dataframe thead th {\n",
       "        text-align: right;\n",
       "    }\n",
       "</style>\n",
       "<table border=\"1\" class=\"dataframe\">\n",
       "  <thead>\n",
       "    <tr style=\"text-align: right;\">\n",
       "      <th></th>\n",
       "      <th>PH</th>\n",
       "      <th>EC</th>\n",
       "      <th>TOT_ALKALINITY</th>\n",
       "      <th>MG</th>\n",
       "      <th>BICARBONATE</th>\n",
       "      <th>NA/CA</th>\n",
       "    </tr>\n",
       "  </thead>\n",
       "  <tbody>\n",
       "    <tr>\n",
       "      <th>650</th>\n",
       "      <td>7.62</td>\n",
       "      <td>1825.0</td>\n",
       "      <td>569.669983</td>\n",
       "      <td>102.190002</td>\n",
       "      <td>695.000000</td>\n",
       "      <td>2.703125</td>\n",
       "    </tr>\n",
       "    <tr>\n",
       "      <th>1869</th>\n",
       "      <td>8.26</td>\n",
       "      <td>590.0</td>\n",
       "      <td>280.329987</td>\n",
       "      <td>24.340000</td>\n",
       "      <td>342.000000</td>\n",
       "      <td>5.200000</td>\n",
       "    </tr>\n",
       "    <tr>\n",
       "      <th>2178</th>\n",
       "      <td>7.63</td>\n",
       "      <td>1383.0</td>\n",
       "      <td>430.329987</td>\n",
       "      <td>32.900002</td>\n",
       "      <td>525.000000</td>\n",
       "      <td>2.406250</td>\n",
       "    </tr>\n",
       "    <tr>\n",
       "      <th>3831</th>\n",
       "      <td>6.90</td>\n",
       "      <td>1368.0</td>\n",
       "      <td>0.000000</td>\n",
       "      <td>58.329601</td>\n",
       "      <td>286.794006</td>\n",
       "      <td>1.155476</td>\n",
       "    </tr>\n",
       "    <tr>\n",
       "      <th>1627</th>\n",
       "      <td>7.30</td>\n",
       "      <td>1562.0</td>\n",
       "      <td>0.000000</td>\n",
       "      <td>80.203201</td>\n",
       "      <td>317.303986</td>\n",
       "      <td>0.657143</td>\n",
       "    </tr>\n",
       "  </tbody>\n",
       "</table>\n",
       "</div>"
      ],
      "text/plain": [
       "        PH      EC  TOT_ALKALINITY          MG  BICARBONATE     NA/CA\n",
       "650   7.62  1825.0      569.669983  102.190002   695.000000  2.703125\n",
       "1869  8.26   590.0      280.329987   24.340000   342.000000  5.200000\n",
       "2178  7.63  1383.0      430.329987   32.900002   525.000000  2.406250\n",
       "3831  6.90  1368.0        0.000000   58.329601   286.794006  1.155476\n",
       "1627  7.30  1562.0        0.000000   80.203201   317.303986  0.657143"
      ]
     },
     "execution_count": 34,
     "metadata": {},
     "output_type": "execute_result"
    }
   ],
   "source": [
    "x = data.drop(['Bin_Fluoride','CA','NA'],axis=1)\n",
    "x.head()"
   ]
  },
  {
   "cell_type": "code",
   "execution_count": 35,
   "metadata": {},
   "outputs": [
    {
     "data": {
      "text/plain": [
       "650     0.0\n",
       "1869    1.0\n",
       "2178    0.0\n",
       "3831    0.0\n",
       "1627    1.0\n",
       "Name: Bin_Fluoride, dtype: float32"
      ]
     },
     "execution_count": 35,
     "metadata": {},
     "output_type": "execute_result"
    }
   ],
   "source": [
    "y = data['Bin_Fluoride']\n",
    "y.head()"
   ]
  },
  {
   "cell_type": "code",
   "execution_count": 36,
   "metadata": {},
   "outputs": [
    {
     "name": "stdout",
     "output_type": "stream",
     "text": [
      "<class 'pandas.core.frame.DataFrame'>\n",
      "Int64Index: 14317 entries, 650 to 898\n",
      "Data columns (total 6 columns):\n",
      " #   Column          Non-Null Count  Dtype  \n",
      "---  ------          --------------  -----  \n",
      " 0   PH              14317 non-null  float32\n",
      " 1   EC              14317 non-null  float32\n",
      " 2   TOT_ALKALINITY  14317 non-null  float32\n",
      " 3   MG              14317 non-null  float32\n",
      " 4   BICARBONATE     14317 non-null  float32\n",
      " 5   NA/CA           14317 non-null  float32\n",
      "dtypes: float32(6)\n",
      "memory usage: 447.4 KB\n"
     ]
    }
   ],
   "source": [
    "x.info()"
   ]
  },
  {
   "cell_type": "code",
   "execution_count": 37,
   "metadata": {},
   "outputs": [
    {
     "data": {
      "text/plain": [
       "(10000, 6)"
      ]
     },
     "execution_count": 37,
     "metadata": {},
     "output_type": "execute_result"
    }
   ],
   "source": [
    "x_train,x_test=x[:10000],x[10000:]\n",
    "x_train.shape"
   ]
  },
  {
   "cell_type": "code",
   "execution_count": 38,
   "metadata": {},
   "outputs": [
    {
     "data": {
      "text/plain": [
       "(4317, 6)"
      ]
     },
     "execution_count": 38,
     "metadata": {},
     "output_type": "execute_result"
    }
   ],
   "source": [
    "x_test.shape"
   ]
  },
  {
   "cell_type": "code",
   "execution_count": 40,
   "metadata": {},
   "outputs": [
    {
     "data": {
      "text/plain": [
       "(10000,)"
      ]
     },
     "execution_count": 40,
     "metadata": {},
     "output_type": "execute_result"
    }
   ],
   "source": [
    "y_train,y_test=y[:10000],y[10000:]\n",
    "y_train.shape"
   ]
  },
  {
   "cell_type": "code",
   "execution_count": 44,
   "metadata": {},
   "outputs": [
    {
     "data": {
      "text/plain": [
       "(4317,)"
      ]
     },
     "execution_count": 44,
     "metadata": {},
     "output_type": "execute_result"
    }
   ],
   "source": [
    "y_test.shape"
   ]
  },
  {
   "cell_type": "markdown",
   "metadata": {},
   "source": [
    "## **Random forest**"
   ]
  },
  {
   "cell_type": "code",
   "execution_count": 41,
   "metadata": {},
   "outputs": [
    {
     "data": {
      "text/html": [
       "<div>\n",
       "<style scoped>\n",
       "    .dataframe tbody tr th:only-of-type {\n",
       "        vertical-align: middle;\n",
       "    }\n",
       "\n",
       "    .dataframe tbody tr th {\n",
       "        vertical-align: top;\n",
       "    }\n",
       "\n",
       "    .dataframe thead th {\n",
       "        text-align: right;\n",
       "    }\n",
       "</style>\n",
       "<table border=\"1\" class=\"dataframe\">\n",
       "  <thead>\n",
       "    <tr style=\"text-align: right;\">\n",
       "      <th></th>\n",
       "      <th>PH</th>\n",
       "      <th>EC</th>\n",
       "      <th>TOT_ALKALINITY</th>\n",
       "      <th>MG</th>\n",
       "      <th>BICARBONATE</th>\n",
       "      <th>NA/CA</th>\n",
       "    </tr>\n",
       "  </thead>\n",
       "  <tbody>\n",
       "    <tr>\n",
       "      <th>650</th>\n",
       "      <td>7.62</td>\n",
       "      <td>1825.0</td>\n",
       "      <td>569.669983</td>\n",
       "      <td>102.190002</td>\n",
       "      <td>695.000000</td>\n",
       "      <td>2.703125</td>\n",
       "    </tr>\n",
       "    <tr>\n",
       "      <th>1869</th>\n",
       "      <td>8.26</td>\n",
       "      <td>590.0</td>\n",
       "      <td>280.329987</td>\n",
       "      <td>24.340000</td>\n",
       "      <td>342.000000</td>\n",
       "      <td>5.200000</td>\n",
       "    </tr>\n",
       "    <tr>\n",
       "      <th>2178</th>\n",
       "      <td>7.63</td>\n",
       "      <td>1383.0</td>\n",
       "      <td>430.329987</td>\n",
       "      <td>32.900002</td>\n",
       "      <td>525.000000</td>\n",
       "      <td>2.406250</td>\n",
       "    </tr>\n",
       "    <tr>\n",
       "      <th>3831</th>\n",
       "      <td>6.90</td>\n",
       "      <td>1368.0</td>\n",
       "      <td>0.000000</td>\n",
       "      <td>58.329601</td>\n",
       "      <td>286.794006</td>\n",
       "      <td>1.155476</td>\n",
       "    </tr>\n",
       "    <tr>\n",
       "      <th>1627</th>\n",
       "      <td>7.30</td>\n",
       "      <td>1562.0</td>\n",
       "      <td>0.000000</td>\n",
       "      <td>80.203201</td>\n",
       "      <td>317.303986</td>\n",
       "      <td>0.657143</td>\n",
       "    </tr>\n",
       "  </tbody>\n",
       "</table>\n",
       "</div>"
      ],
      "text/plain": [
       "        PH      EC  TOT_ALKALINITY          MG  BICARBONATE     NA/CA\n",
       "650   7.62  1825.0      569.669983  102.190002   695.000000  2.703125\n",
       "1869  8.26   590.0      280.329987   24.340000   342.000000  5.200000\n",
       "2178  7.63  1383.0      430.329987   32.900002   525.000000  2.406250\n",
       "3831  6.90  1368.0        0.000000   58.329601   286.794006  1.155476\n",
       "1627  7.30  1562.0        0.000000   80.203201   317.303986  0.657143"
      ]
     },
     "execution_count": 41,
     "metadata": {},
     "output_type": "execute_result"
    }
   ],
   "source": [
    "x_train.head()"
   ]
  },
  {
   "cell_type": "code",
   "execution_count": 51,
   "metadata": {},
   "outputs": [
    {
     "data": {
      "text/plain": [
       "RandomForestClassifier(max_depth=14, random_state=10)"
      ]
     },
     "execution_count": 51,
     "metadata": {},
     "output_type": "execute_result"
    }
   ],
   "source": [
    "# from sklearn.ensemble import RandomForestClassifier\n",
    "new_forest = RandomForestClassifier(max_depth=14, random_state=10)\n",
    "new_forest.fit(x_train,y_train)"
   ]
  },
  {
   "cell_type": "code",
   "execution_count": 52,
   "metadata": {},
   "outputs": [
    {
     "data": {
      "text/plain": [
       "array([0., 1., 0., ..., 0., 0., 0.], dtype=float32)"
      ]
     },
     "execution_count": 52,
     "metadata": {},
     "output_type": "execute_result"
    }
   ],
   "source": [
    "y_test_predict_forest = new_forest.predict(x_test[:][:])\n",
    "y_test_predict_forest"
   ]
  },
  {
   "cell_type": "code",
   "execution_count": 53,
   "metadata": {},
   "outputs": [
    {
     "data": {
      "text/plain": [
       "array([[2586,  335],\n",
       "       [ 831,  565]])"
      ]
     },
     "execution_count": 53,
     "metadata": {},
     "output_type": "execute_result"
    }
   ],
   "source": [
    "confusion_matrix(y_test,y_test_predict_forest)"
   ]
  },
  {
   "cell_type": "code",
   "execution_count": null,
   "metadata": {},
   "outputs": [],
   "source": [
    "# [2629,  297], \n",
    "# [ 882,  509]]  10,10  \n",
    "#  \n",
    "# ([[2625,  301],\n",
    "# [ 863,  528]])   12,10\n",
    "\n",
    "# ([[2620,  306],\n",
    "# [ 837,  554]])   14,10"
   ]
  }
 ],
 "metadata": {
  "interpreter": {
   "hash": "06dbf6a33b598ff4076389319d3dfd2167df243e6a2b8d346f1c137d2797385a"
  },
  "kernelspec": {
   "display_name": "Python 3.9.10 ('venv': venv)",
   "language": "python",
   "name": "python3"
  },
  "language_info": {
   "codemirror_mode": {
    "name": "ipython",
    "version": 3
   },
   "file_extension": ".py",
   "mimetype": "text/x-python",
   "name": "python",
   "nbconvert_exporter": "python",
   "pygments_lexer": "ipython3",
   "version": "3.9.10"
  },
  "orig_nbformat": 4
 },
 "nbformat": 4,
 "nbformat_minor": 2
}
