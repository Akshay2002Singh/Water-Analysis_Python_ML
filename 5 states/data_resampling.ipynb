{
 "cells": [
  {
   "cell_type": "code",
   "execution_count": 59,
   "metadata": {},
   "outputs": [],
   "source": [
    "import numpy as np\n",
    "import pandas as pd"
   ]
  },
  {
   "cell_type": "code",
   "execution_count": 60,
   "metadata": {},
   "outputs": [],
   "source": [
    "data_west = pd.read_excel(\"West_Bengal_filter.xlsx\",sheet_name=\"Sheet1\")\n",
    "data_telangana = pd.read_excel(\"Telangana_filter.xlsx\",sheet_name=\"Sheet1\")\n",
    "data_tamil = pd.read_excel(\"Tamil_Nadu_filter.xlsx\",sheet_name=\"Sheet1\")\n",
    "data_rajasthan = pd.read_excel(\"Rajasthan_filter.xlsx\",sheet_name=\"Sheet1\")\n",
    "data_andhra = pd.read_excel(\"Andhra_Pradesh_filter.xlsx\",sheet_name=\"Sheet1\")"
   ]
  },
  {
   "cell_type": "code",
   "execution_count": 61,
   "metadata": {},
   "outputs": [],
   "source": [
    "final_data = pd.concat([data_andhra,data_rajasthan,data_tamil,data_telangana,data_west], axis=0)"
   ]
  },
  {
   "cell_type": "code",
   "execution_count": 62,
   "metadata": {},
   "outputs": [
    {
     "data": {
      "text/html": [
       "<div>\n",
       "<style scoped>\n",
       "    .dataframe tbody tr th:only-of-type {\n",
       "        vertical-align: middle;\n",
       "    }\n",
       "\n",
       "    .dataframe tbody tr th {\n",
       "        vertical-align: top;\n",
       "    }\n",
       "\n",
       "    .dataframe thead th {\n",
       "        text-align: right;\n",
       "    }\n",
       "</style>\n",
       "<table border=\"1\" class=\"dataframe\">\n",
       "  <thead>\n",
       "    <tr style=\"text-align: right;\">\n",
       "      <th></th>\n",
       "      <th>PH</th>\n",
       "      <th>EC</th>\n",
       "      <th>TOT_ALKALINITY</th>\n",
       "      <th>CA</th>\n",
       "      <th>MG</th>\n",
       "      <th>NA</th>\n",
       "      <th>BICARBONATE</th>\n",
       "      <th>FLUORIDE</th>\n",
       "    </tr>\n",
       "  </thead>\n",
       "  <tbody>\n",
       "    <tr>\n",
       "      <th>0</th>\n",
       "      <td>7.83</td>\n",
       "      <td>2000.0</td>\n",
       "      <td>314.75</td>\n",
       "      <td>66.0</td>\n",
       "      <td>70.59</td>\n",
       "      <td>250.0</td>\n",
       "      <td>384.0</td>\n",
       "      <td>2.20</td>\n",
       "    </tr>\n",
       "    <tr>\n",
       "      <th>1</th>\n",
       "      <td>7.61</td>\n",
       "      <td>674.0</td>\n",
       "      <td>NaN</td>\n",
       "      <td>NaN</td>\n",
       "      <td>NaN</td>\n",
       "      <td>NaN</td>\n",
       "      <td>NaN</td>\n",
       "      <td>1.20</td>\n",
       "    </tr>\n",
       "    <tr>\n",
       "      <th>2</th>\n",
       "      <td>8.17</td>\n",
       "      <td>786.0</td>\n",
       "      <td>240.16</td>\n",
       "      <td>24.0</td>\n",
       "      <td>24.34</td>\n",
       "      <td>106.0</td>\n",
       "      <td>293.0</td>\n",
       "      <td>3.83</td>\n",
       "    </tr>\n",
       "    <tr>\n",
       "      <th>3</th>\n",
       "      <td>7.6</td>\n",
       "      <td>990.0</td>\n",
       "      <td>440.16</td>\n",
       "      <td>24.0</td>\n",
       "      <td>25.56</td>\n",
       "      <td>180.0</td>\n",
       "      <td>537.0</td>\n",
       "      <td>3.80</td>\n",
       "    </tr>\n",
       "    <tr>\n",
       "      <th>4</th>\n",
       "      <td>7.64</td>\n",
       "      <td>862.0</td>\n",
       "      <td>235.25</td>\n",
       "      <td>62.0</td>\n",
       "      <td>20.74</td>\n",
       "      <td>81.0</td>\n",
       "      <td>287.0</td>\n",
       "      <td>2.10</td>\n",
       "    </tr>\n",
       "  </tbody>\n",
       "</table>\n",
       "</div>"
      ],
      "text/plain": [
       "     PH      EC  TOT_ALKALINITY    CA     MG     NA  BICARBONATE  FLUORIDE\n",
       "0  7.83  2000.0          314.75  66.0  70.59  250.0        384.0      2.20\n",
       "1  7.61   674.0             NaN   NaN    NaN    NaN          NaN      1.20\n",
       "2  8.17   786.0          240.16  24.0  24.34  106.0        293.0      3.83\n",
       "3   7.6   990.0          440.16  24.0  25.56  180.0        537.0      3.80\n",
       "4  7.64   862.0          235.25  62.0  20.74   81.0        287.0      2.10"
      ]
     },
     "execution_count": 62,
     "metadata": {},
     "output_type": "execute_result"
    }
   ],
   "source": [
    "final_data.head()"
   ]
  },
  {
   "cell_type": "code",
   "execution_count": 63,
   "metadata": {},
   "outputs": [
    {
     "data": {
      "text/plain": [
       "PH                20977\n",
       "EC                21010\n",
       "TOT_ALKALINITY    14653\n",
       "CA                19681\n",
       "MG                19679\n",
       "NA                19575\n",
       "BICARBONATE       19840\n",
       "FLUORIDE          20391\n",
       "dtype: int64"
      ]
     },
     "execution_count": 63,
     "metadata": {},
     "output_type": "execute_result"
    }
   ],
   "source": [
    "final_data.count()"
   ]
  },
  {
   "cell_type": "code",
   "execution_count": 64,
   "metadata": {},
   "outputs": [
    {
     "data": {
      "text/plain": [
       "PH                14317\n",
       "EC                14317\n",
       "TOT_ALKALINITY    14317\n",
       "CA                14317\n",
       "MG                14317\n",
       "NA                14317\n",
       "BICARBONATE       14317\n",
       "FLUORIDE          14317\n",
       "dtype: int64"
      ]
     },
     "execution_count": 64,
     "metadata": {},
     "output_type": "execute_result"
    }
   ],
   "source": [
    "final_data = final_data.dropna(axis=0)\n",
    "final_data.count()"
   ]
  },
  {
   "cell_type": "code",
   "execution_count": 65,
   "metadata": {},
   "outputs": [
    {
     "name": "stdout",
     "output_type": "stream",
     "text": [
      "<class 'pandas.core.frame.DataFrame'>\n",
      "Int64Index: 14317 entries, 0 to 4031\n",
      "Data columns (total 8 columns):\n",
      " #   Column          Non-Null Count  Dtype  \n",
      "---  ------          --------------  -----  \n",
      " 0   PH              14317 non-null  float64\n",
      " 1   EC              14317 non-null  float64\n",
      " 2   TOT_ALKALINITY  14317 non-null  float64\n",
      " 3   CA              14317 non-null  float64\n",
      " 4   MG              14317 non-null  float64\n",
      " 5   NA              14317 non-null  float64\n",
      " 6   BICARBONATE     14317 non-null  float64\n",
      " 7   FLUORIDE        14317 non-null  float64\n",
      "dtypes: float64(8)\n",
      "memory usage: 1006.7 KB\n"
     ]
    }
   ],
   "source": [
    "final_data = final_data.astype(float)\n",
    "final_data.info()"
   ]
  },
  {
   "cell_type": "code",
   "execution_count": 66,
   "metadata": {},
   "outputs": [
    {
     "data": {
      "text/html": [
       "<div>\n",
       "<style scoped>\n",
       "    .dataframe tbody tr th:only-of-type {\n",
       "        vertical-align: middle;\n",
       "    }\n",
       "\n",
       "    .dataframe tbody tr th {\n",
       "        vertical-align: top;\n",
       "    }\n",
       "\n",
       "    .dataframe thead th {\n",
       "        text-align: right;\n",
       "    }\n",
       "</style>\n",
       "<table border=\"1\" class=\"dataframe\">\n",
       "  <thead>\n",
       "    <tr style=\"text-align: right;\">\n",
       "      <th></th>\n",
       "      <th>PH</th>\n",
       "      <th>EC</th>\n",
       "      <th>TOT_ALKALINITY</th>\n",
       "      <th>CA</th>\n",
       "      <th>MG</th>\n",
       "      <th>NA</th>\n",
       "      <th>BICARBONATE</th>\n",
       "      <th>FLUORIDE</th>\n",
       "    </tr>\n",
       "  </thead>\n",
       "  <tbody>\n",
       "    <tr>\n",
       "      <th>PH</th>\n",
       "      <td>1.000000</td>\n",
       "      <td>0.007638</td>\n",
       "      <td>0.159336</td>\n",
       "      <td>-0.258240</td>\n",
       "      <td>-0.072663</td>\n",
       "      <td>0.111236</td>\n",
       "      <td>0.004120</td>\n",
       "      <td>0.104397</td>\n",
       "    </tr>\n",
       "    <tr>\n",
       "      <th>EC</th>\n",
       "      <td>0.007638</td>\n",
       "      <td>1.000000</td>\n",
       "      <td>0.326843</td>\n",
       "      <td>0.588173</td>\n",
       "      <td>0.419715</td>\n",
       "      <td>0.893397</td>\n",
       "      <td>0.376564</td>\n",
       "      <td>0.144962</td>\n",
       "    </tr>\n",
       "    <tr>\n",
       "      <th>TOT_ALKALINITY</th>\n",
       "      <td>0.159336</td>\n",
       "      <td>0.326843</td>\n",
       "      <td>1.000000</td>\n",
       "      <td>0.066551</td>\n",
       "      <td>0.037629</td>\n",
       "      <td>0.365656</td>\n",
       "      <td>0.858184</td>\n",
       "      <td>0.207236</td>\n",
       "    </tr>\n",
       "    <tr>\n",
       "      <th>CA</th>\n",
       "      <td>-0.258240</td>\n",
       "      <td>0.588173</td>\n",
       "      <td>0.066551</td>\n",
       "      <td>1.000000</td>\n",
       "      <td>0.335212</td>\n",
       "      <td>0.431942</td>\n",
       "      <td>0.134535</td>\n",
       "      <td>-0.021407</td>\n",
       "    </tr>\n",
       "    <tr>\n",
       "      <th>MG</th>\n",
       "      <td>-0.072663</td>\n",
       "      <td>0.419715</td>\n",
       "      <td>0.037629</td>\n",
       "      <td>0.335212</td>\n",
       "      <td>1.000000</td>\n",
       "      <td>0.316331</td>\n",
       "      <td>0.158502</td>\n",
       "      <td>0.032624</td>\n",
       "    </tr>\n",
       "    <tr>\n",
       "      <th>NA</th>\n",
       "      <td>0.111236</td>\n",
       "      <td>0.893397</td>\n",
       "      <td>0.365656</td>\n",
       "      <td>0.431942</td>\n",
       "      <td>0.316331</td>\n",
       "      <td>1.000000</td>\n",
       "      <td>0.383354</td>\n",
       "      <td>0.205203</td>\n",
       "    </tr>\n",
       "    <tr>\n",
       "      <th>BICARBONATE</th>\n",
       "      <td>0.004120</td>\n",
       "      <td>0.376564</td>\n",
       "      <td>0.858184</td>\n",
       "      <td>0.134535</td>\n",
       "      <td>0.158502</td>\n",
       "      <td>0.383354</td>\n",
       "      <td>1.000000</td>\n",
       "      <td>0.219009</td>\n",
       "    </tr>\n",
       "    <tr>\n",
       "      <th>FLUORIDE</th>\n",
       "      <td>0.104397</td>\n",
       "      <td>0.144962</td>\n",
       "      <td>0.207236</td>\n",
       "      <td>-0.021407</td>\n",
       "      <td>0.032624</td>\n",
       "      <td>0.205203</td>\n",
       "      <td>0.219009</td>\n",
       "      <td>1.000000</td>\n",
       "    </tr>\n",
       "  </tbody>\n",
       "</table>\n",
       "</div>"
      ],
      "text/plain": [
       "                      PH        EC  TOT_ALKALINITY        CA        MG  \\\n",
       "PH              1.000000  0.007638        0.159336 -0.258240 -0.072663   \n",
       "EC              0.007638  1.000000        0.326843  0.588173  0.419715   \n",
       "TOT_ALKALINITY  0.159336  0.326843        1.000000  0.066551  0.037629   \n",
       "CA             -0.258240  0.588173        0.066551  1.000000  0.335212   \n",
       "MG             -0.072663  0.419715        0.037629  0.335212  1.000000   \n",
       "NA              0.111236  0.893397        0.365656  0.431942  0.316331   \n",
       "BICARBONATE     0.004120  0.376564        0.858184  0.134535  0.158502   \n",
       "FLUORIDE        0.104397  0.144962        0.207236 -0.021407  0.032624   \n",
       "\n",
       "                      NA  BICARBONATE  FLUORIDE  \n",
       "PH              0.111236     0.004120  0.104397  \n",
       "EC              0.893397     0.376564  0.144962  \n",
       "TOT_ALKALINITY  0.365656     0.858184  0.207236  \n",
       "CA              0.431942     0.134535 -0.021407  \n",
       "MG              0.316331     0.158502  0.032624  \n",
       "NA              1.000000     0.383354  0.205203  \n",
       "BICARBONATE     0.383354     1.000000  0.219009  \n",
       "FLUORIDE        0.205203     0.219009  1.000000  "
      ]
     },
     "execution_count": 66,
     "metadata": {},
     "output_type": "execute_result"
    }
   ],
   "source": [
    "final_data.corr()"
   ]
  },
  {
   "cell_type": "code",
   "execution_count": 67,
   "metadata": {},
   "outputs": [
    {
     "data": {
      "text/plain": [
       "0    9685\n",
       "1    4632\n",
       "Name: Bin_Fluoride, dtype: int64"
      ]
     },
     "execution_count": 67,
     "metadata": {},
     "output_type": "execute_result"
    }
   ],
   "source": [
    "final_data['Bin_Fluoride'] = np.where( final_data['FLUORIDE'] >= 1,1,0)\n",
    "final_data['Bin_Fluoride'].value_counts()"
   ]
  },
  {
   "cell_type": "code",
   "execution_count": 68,
   "metadata": {},
   "outputs": [
    {
     "data": {
      "text/html": [
       "<div>\n",
       "<style scoped>\n",
       "    .dataframe tbody tr th:only-of-type {\n",
       "        vertical-align: middle;\n",
       "    }\n",
       "\n",
       "    .dataframe tbody tr th {\n",
       "        vertical-align: top;\n",
       "    }\n",
       "\n",
       "    .dataframe thead th {\n",
       "        text-align: right;\n",
       "    }\n",
       "</style>\n",
       "<table border=\"1\" class=\"dataframe\">\n",
       "  <thead>\n",
       "    <tr style=\"text-align: right;\">\n",
       "      <th></th>\n",
       "      <th>PH</th>\n",
       "      <th>EC</th>\n",
       "      <th>TOT_ALKALINITY</th>\n",
       "      <th>CA</th>\n",
       "      <th>MG</th>\n",
       "      <th>NA</th>\n",
       "      <th>BICARBONATE</th>\n",
       "      <th>FLUORIDE</th>\n",
       "      <th>Bin_Fluoride</th>\n",
       "    </tr>\n",
       "  </thead>\n",
       "  <tbody>\n",
       "    <tr>\n",
       "      <th>0</th>\n",
       "      <td>7.83</td>\n",
       "      <td>2000.0</td>\n",
       "      <td>314.75</td>\n",
       "      <td>66.0</td>\n",
       "      <td>70.59</td>\n",
       "      <td>250.0</td>\n",
       "      <td>384.0</td>\n",
       "      <td>2.20</td>\n",
       "      <td>1</td>\n",
       "    </tr>\n",
       "    <tr>\n",
       "      <th>2</th>\n",
       "      <td>8.17</td>\n",
       "      <td>786.0</td>\n",
       "      <td>240.16</td>\n",
       "      <td>24.0</td>\n",
       "      <td>24.34</td>\n",
       "      <td>106.0</td>\n",
       "      <td>293.0</td>\n",
       "      <td>3.83</td>\n",
       "      <td>1</td>\n",
       "    </tr>\n",
       "    <tr>\n",
       "      <th>3</th>\n",
       "      <td>7.60</td>\n",
       "      <td>990.0</td>\n",
       "      <td>440.16</td>\n",
       "      <td>24.0</td>\n",
       "      <td>25.56</td>\n",
       "      <td>180.0</td>\n",
       "      <td>537.0</td>\n",
       "      <td>3.80</td>\n",
       "      <td>1</td>\n",
       "    </tr>\n",
       "    <tr>\n",
       "      <th>4</th>\n",
       "      <td>7.64</td>\n",
       "      <td>862.0</td>\n",
       "      <td>235.25</td>\n",
       "      <td>62.0</td>\n",
       "      <td>20.74</td>\n",
       "      <td>81.0</td>\n",
       "      <td>287.0</td>\n",
       "      <td>2.10</td>\n",
       "      <td>1</td>\n",
       "    </tr>\n",
       "    <tr>\n",
       "      <th>6</th>\n",
       "      <td>8.13</td>\n",
       "      <td>788.0</td>\n",
       "      <td>304.92</td>\n",
       "      <td>18.0</td>\n",
       "      <td>20.69</td>\n",
       "      <td>132.0</td>\n",
       "      <td>372.0</td>\n",
       "      <td>2.40</td>\n",
       "      <td>1</td>\n",
       "    </tr>\n",
       "  </tbody>\n",
       "</table>\n",
       "</div>"
      ],
      "text/plain": [
       "     PH      EC  TOT_ALKALINITY    CA     MG     NA  BICARBONATE  FLUORIDE  \\\n",
       "0  7.83  2000.0          314.75  66.0  70.59  250.0        384.0      2.20   \n",
       "2  8.17   786.0          240.16  24.0  24.34  106.0        293.0      3.83   \n",
       "3  7.60   990.0          440.16  24.0  25.56  180.0        537.0      3.80   \n",
       "4  7.64   862.0          235.25  62.0  20.74   81.0        287.0      2.10   \n",
       "6  8.13   788.0          304.92  18.0  20.69  132.0        372.0      2.40   \n",
       "\n",
       "   Bin_Fluoride  \n",
       "0             1  \n",
       "2             1  \n",
       "3             1  \n",
       "4             1  \n",
       "6             1  "
      ]
     },
     "execution_count": 68,
     "metadata": {},
     "output_type": "execute_result"
    }
   ],
   "source": [
    "final_data.head()"
   ]
  },
  {
   "cell_type": "code",
   "execution_count": 69,
   "metadata": {},
   "outputs": [],
   "source": [
    "final_data = final_data.drop(['FLUORIDE'],axis=1)"
   ]
  },
  {
   "cell_type": "code",
   "execution_count": 70,
   "metadata": {},
   "outputs": [
    {
     "data": {
      "text/plain": [
       "(14317, 8)"
      ]
     },
     "execution_count": 70,
     "metadata": {},
     "output_type": "execute_result"
    }
   ],
   "source": [
    "final_data.shape"
   ]
  },
  {
   "cell_type": "code",
   "execution_count": 71,
   "metadata": {},
   "outputs": [],
   "source": [
    "data = final_data"
   ]
  },
  {
   "cell_type": "code",
   "execution_count": 72,
   "metadata": {},
   "outputs": [
    {
     "data": {
      "text/html": [
       "<div>\n",
       "<style scoped>\n",
       "    .dataframe tbody tr th:only-of-type {\n",
       "        vertical-align: middle;\n",
       "    }\n",
       "\n",
       "    .dataframe tbody tr th {\n",
       "        vertical-align: top;\n",
       "    }\n",
       "\n",
       "    .dataframe thead th {\n",
       "        text-align: right;\n",
       "    }\n",
       "</style>\n",
       "<table border=\"1\" class=\"dataframe\">\n",
       "  <thead>\n",
       "    <tr style=\"text-align: right;\">\n",
       "      <th></th>\n",
       "      <th>PH</th>\n",
       "      <th>EC</th>\n",
       "      <th>TOT_ALKALINITY</th>\n",
       "      <th>CA</th>\n",
       "      <th>MG</th>\n",
       "      <th>NA</th>\n",
       "      <th>BICARBONATE</th>\n",
       "      <th>Bin_Fluoride</th>\n",
       "    </tr>\n",
       "  </thead>\n",
       "  <tbody>\n",
       "    <tr>\n",
       "      <th>519</th>\n",
       "      <td>7.90</td>\n",
       "      <td>2000.0</td>\n",
       "      <td>594.886922</td>\n",
       "      <td>40.0</td>\n",
       "      <td>124.050</td>\n",
       "      <td>207.0</td>\n",
       "      <td>726.0</td>\n",
       "      <td>1</td>\n",
       "    </tr>\n",
       "    <tr>\n",
       "      <th>4100</th>\n",
       "      <td>7.65</td>\n",
       "      <td>3830.0</td>\n",
       "      <td>469.672131</td>\n",
       "      <td>124.0</td>\n",
       "      <td>116.736</td>\n",
       "      <td>580.0</td>\n",
       "      <td>573.0</td>\n",
       "      <td>1</td>\n",
       "    </tr>\n",
       "    <tr>\n",
       "      <th>2441</th>\n",
       "      <td>8.00</td>\n",
       "      <td>1590.0</td>\n",
       "      <td>130.327530</td>\n",
       "      <td>72.0</td>\n",
       "      <td>46.280</td>\n",
       "      <td>167.0</td>\n",
       "      <td>159.0</td>\n",
       "      <td>1</td>\n",
       "    </tr>\n",
       "    <tr>\n",
       "      <th>467</th>\n",
       "      <td>7.15</td>\n",
       "      <td>2318.0</td>\n",
       "      <td>640.160000</td>\n",
       "      <td>232.0</td>\n",
       "      <td>56.200</td>\n",
       "      <td>170.0</td>\n",
       "      <td>781.0</td>\n",
       "      <td>1</td>\n",
       "    </tr>\n",
       "    <tr>\n",
       "      <th>5420</th>\n",
       "      <td>7.97</td>\n",
       "      <td>2670.0</td>\n",
       "      <td>500.000000</td>\n",
       "      <td>204.0</td>\n",
       "      <td>65.890</td>\n",
       "      <td>240.0</td>\n",
       "      <td>610.0</td>\n",
       "      <td>0</td>\n",
       "    </tr>\n",
       "    <tr>\n",
       "      <th>...</th>\n",
       "      <td>...</td>\n",
       "      <td>...</td>\n",
       "      <td>...</td>\n",
       "      <td>...</td>\n",
       "      <td>...</td>\n",
       "      <td>...</td>\n",
       "      <td>...</td>\n",
       "      <td>...</td>\n",
       "    </tr>\n",
       "    <tr>\n",
       "      <th>1109</th>\n",
       "      <td>7.94</td>\n",
       "      <td>3345.0</td>\n",
       "      <td>430.186824</td>\n",
       "      <td>56.0</td>\n",
       "      <td>97.320</td>\n",
       "      <td>350.0</td>\n",
       "      <td>525.0</td>\n",
       "      <td>1</td>\n",
       "    </tr>\n",
       "    <tr>\n",
       "      <th>651</th>\n",
       "      <td>8.20</td>\n",
       "      <td>680.0</td>\n",
       "      <td>288.524590</td>\n",
       "      <td>73.0</td>\n",
       "      <td>16.416</td>\n",
       "      <td>47.0</td>\n",
       "      <td>352.0</td>\n",
       "      <td>0</td>\n",
       "    </tr>\n",
       "    <tr>\n",
       "      <th>3433</th>\n",
       "      <td>8.70</td>\n",
       "      <td>1220.0</td>\n",
       "      <td>329.672131</td>\n",
       "      <td>16.0</td>\n",
       "      <td>26.760</td>\n",
       "      <td>238.0</td>\n",
       "      <td>329.0</td>\n",
       "      <td>1</td>\n",
       "    </tr>\n",
       "    <tr>\n",
       "      <th>2020</th>\n",
       "      <td>8.01</td>\n",
       "      <td>650.0</td>\n",
       "      <td>104.920000</td>\n",
       "      <td>46.0</td>\n",
       "      <td>31.660</td>\n",
       "      <td>20.0</td>\n",
       "      <td>128.0</td>\n",
       "      <td>0</td>\n",
       "    </tr>\n",
       "    <tr>\n",
       "      <th>1978</th>\n",
       "      <td>7.82</td>\n",
       "      <td>1134.0</td>\n",
       "      <td>95.080000</td>\n",
       "      <td>56.0</td>\n",
       "      <td>49.910</td>\n",
       "      <td>70.0</td>\n",
       "      <td>116.0</td>\n",
       "      <td>0</td>\n",
       "    </tr>\n",
       "  </tbody>\n",
       "</table>\n",
       "<p>14317 rows × 8 columns</p>\n",
       "</div>"
      ],
      "text/plain": [
       "        PH      EC  TOT_ALKALINITY     CA       MG     NA  BICARBONATE  \\\n",
       "519   7.90  2000.0      594.886922   40.0  124.050  207.0        726.0   \n",
       "4100  7.65  3830.0      469.672131  124.0  116.736  580.0        573.0   \n",
       "2441  8.00  1590.0      130.327530   72.0   46.280  167.0        159.0   \n",
       "467   7.15  2318.0      640.160000  232.0   56.200  170.0        781.0   \n",
       "5420  7.97  2670.0      500.000000  204.0   65.890  240.0        610.0   \n",
       "...    ...     ...             ...    ...      ...    ...          ...   \n",
       "1109  7.94  3345.0      430.186824   56.0   97.320  350.0        525.0   \n",
       "651   8.20   680.0      288.524590   73.0   16.416   47.0        352.0   \n",
       "3433  8.70  1220.0      329.672131   16.0   26.760  238.0        329.0   \n",
       "2020  8.01   650.0      104.920000   46.0   31.660   20.0        128.0   \n",
       "1978  7.82  1134.0       95.080000   56.0   49.910   70.0        116.0   \n",
       "\n",
       "      Bin_Fluoride  \n",
       "519              1  \n",
       "4100             1  \n",
       "2441             1  \n",
       "467              1  \n",
       "5420             0  \n",
       "...            ...  \n",
       "1109             1  \n",
       "651              0  \n",
       "3433             1  \n",
       "2020             0  \n",
       "1978             0  \n",
       "\n",
       "[14317 rows x 8 columns]"
      ]
     },
     "execution_count": 72,
     "metadata": {},
     "output_type": "execute_result"
    }
   ],
   "source": [
    "final_data = final_data.sample(frac=1)\n",
    "final_data"
   ]
  },
  {
   "cell_type": "code",
   "execution_count": 73,
   "metadata": {},
   "outputs": [
    {
     "data": {
      "text/html": [
       "<div>\n",
       "<style scoped>\n",
       "    .dataframe tbody tr th:only-of-type {\n",
       "        vertical-align: middle;\n",
       "    }\n",
       "\n",
       "    .dataframe tbody tr th {\n",
       "        vertical-align: top;\n",
       "    }\n",
       "\n",
       "    .dataframe thead th {\n",
       "        text-align: right;\n",
       "    }\n",
       "</style>\n",
       "<table border=\"1\" class=\"dataframe\">\n",
       "  <thead>\n",
       "    <tr style=\"text-align: right;\">\n",
       "      <th></th>\n",
       "      <th>PH</th>\n",
       "      <th>EC</th>\n",
       "      <th>TOT_ALKALINITY</th>\n",
       "      <th>CA</th>\n",
       "      <th>MG</th>\n",
       "      <th>NA</th>\n",
       "      <th>BICARBONATE</th>\n",
       "    </tr>\n",
       "  </thead>\n",
       "  <tbody>\n",
       "    <tr>\n",
       "      <th>519</th>\n",
       "      <td>7.90</td>\n",
       "      <td>2000.0</td>\n",
       "      <td>594.886922</td>\n",
       "      <td>40.0</td>\n",
       "      <td>124.050</td>\n",
       "      <td>207.0</td>\n",
       "      <td>726.0</td>\n",
       "    </tr>\n",
       "    <tr>\n",
       "      <th>4100</th>\n",
       "      <td>7.65</td>\n",
       "      <td>3830.0</td>\n",
       "      <td>469.672131</td>\n",
       "      <td>124.0</td>\n",
       "      <td>116.736</td>\n",
       "      <td>580.0</td>\n",
       "      <td>573.0</td>\n",
       "    </tr>\n",
       "    <tr>\n",
       "      <th>2441</th>\n",
       "      <td>8.00</td>\n",
       "      <td>1590.0</td>\n",
       "      <td>130.327530</td>\n",
       "      <td>72.0</td>\n",
       "      <td>46.280</td>\n",
       "      <td>167.0</td>\n",
       "      <td>159.0</td>\n",
       "    </tr>\n",
       "    <tr>\n",
       "      <th>467</th>\n",
       "      <td>7.15</td>\n",
       "      <td>2318.0</td>\n",
       "      <td>640.160000</td>\n",
       "      <td>232.0</td>\n",
       "      <td>56.200</td>\n",
       "      <td>170.0</td>\n",
       "      <td>781.0</td>\n",
       "    </tr>\n",
       "    <tr>\n",
       "      <th>5420</th>\n",
       "      <td>7.97</td>\n",
       "      <td>2670.0</td>\n",
       "      <td>500.000000</td>\n",
       "      <td>204.0</td>\n",
       "      <td>65.890</td>\n",
       "      <td>240.0</td>\n",
       "      <td>610.0</td>\n",
       "    </tr>\n",
       "    <tr>\n",
       "      <th>...</th>\n",
       "      <td>...</td>\n",
       "      <td>...</td>\n",
       "      <td>...</td>\n",
       "      <td>...</td>\n",
       "      <td>...</td>\n",
       "      <td>...</td>\n",
       "      <td>...</td>\n",
       "    </tr>\n",
       "    <tr>\n",
       "      <th>1109</th>\n",
       "      <td>7.94</td>\n",
       "      <td>3345.0</td>\n",
       "      <td>430.186824</td>\n",
       "      <td>56.0</td>\n",
       "      <td>97.320</td>\n",
       "      <td>350.0</td>\n",
       "      <td>525.0</td>\n",
       "    </tr>\n",
       "    <tr>\n",
       "      <th>651</th>\n",
       "      <td>8.20</td>\n",
       "      <td>680.0</td>\n",
       "      <td>288.524590</td>\n",
       "      <td>73.0</td>\n",
       "      <td>16.416</td>\n",
       "      <td>47.0</td>\n",
       "      <td>352.0</td>\n",
       "    </tr>\n",
       "    <tr>\n",
       "      <th>3433</th>\n",
       "      <td>8.70</td>\n",
       "      <td>1220.0</td>\n",
       "      <td>329.672131</td>\n",
       "      <td>16.0</td>\n",
       "      <td>26.760</td>\n",
       "      <td>238.0</td>\n",
       "      <td>329.0</td>\n",
       "    </tr>\n",
       "    <tr>\n",
       "      <th>2020</th>\n",
       "      <td>8.01</td>\n",
       "      <td>650.0</td>\n",
       "      <td>104.920000</td>\n",
       "      <td>46.0</td>\n",
       "      <td>31.660</td>\n",
       "      <td>20.0</td>\n",
       "      <td>128.0</td>\n",
       "    </tr>\n",
       "    <tr>\n",
       "      <th>1978</th>\n",
       "      <td>7.82</td>\n",
       "      <td>1134.0</td>\n",
       "      <td>95.080000</td>\n",
       "      <td>56.0</td>\n",
       "      <td>49.910</td>\n",
       "      <td>70.0</td>\n",
       "      <td>116.0</td>\n",
       "    </tr>\n",
       "  </tbody>\n",
       "</table>\n",
       "<p>14317 rows × 7 columns</p>\n",
       "</div>"
      ],
      "text/plain": [
       "        PH      EC  TOT_ALKALINITY     CA       MG     NA  BICARBONATE\n",
       "519   7.90  2000.0      594.886922   40.0  124.050  207.0        726.0\n",
       "4100  7.65  3830.0      469.672131  124.0  116.736  580.0        573.0\n",
       "2441  8.00  1590.0      130.327530   72.0   46.280  167.0        159.0\n",
       "467   7.15  2318.0      640.160000  232.0   56.200  170.0        781.0\n",
       "5420  7.97  2670.0      500.000000  204.0   65.890  240.0        610.0\n",
       "...    ...     ...             ...    ...      ...    ...          ...\n",
       "1109  7.94  3345.0      430.186824   56.0   97.320  350.0        525.0\n",
       "651   8.20   680.0      288.524590   73.0   16.416   47.0        352.0\n",
       "3433  8.70  1220.0      329.672131   16.0   26.760  238.0        329.0\n",
       "2020  8.01   650.0      104.920000   46.0   31.660   20.0        128.0\n",
       "1978  7.82  1134.0       95.080000   56.0   49.910   70.0        116.0\n",
       "\n",
       "[14317 rows x 7 columns]"
      ]
     },
     "execution_count": 73,
     "metadata": {},
     "output_type": "execute_result"
    }
   ],
   "source": [
    "x = final_data.drop(['Bin_Fluoride'],axis=1)\n",
    "x"
   ]
  },
  {
   "cell_type": "code",
   "execution_count": 74,
   "metadata": {},
   "outputs": [
    {
     "data": {
      "text/plain": [
       "519     1\n",
       "4100    1\n",
       "2441    1\n",
       "467     1\n",
       "5420    0\n",
       "       ..\n",
       "1109    1\n",
       "651     0\n",
       "3433    1\n",
       "2020    0\n",
       "1978    0\n",
       "Name: Bin_Fluoride, Length: 14317, dtype: int64"
      ]
     },
     "execution_count": 74,
     "metadata": {},
     "output_type": "execute_result"
    }
   ],
   "source": [
    "y = final_data[:]['Bin_Fluoride']\n",
    "y"
   ]
  },
  {
   "cell_type": "code",
   "execution_count": 75,
   "metadata": {},
   "outputs": [
    {
     "data": {
      "text/plain": [
       "(10000, 7)"
      ]
     },
     "execution_count": 75,
     "metadata": {},
     "output_type": "execute_result"
    }
   ],
   "source": [
    "x_train,x_test=x[:10000],x[10000:]\n",
    "x_train.shape"
   ]
  },
  {
   "cell_type": "code",
   "execution_count": 76,
   "metadata": {},
   "outputs": [
    {
     "data": {
      "text/plain": [
       "(4317, 7)"
      ]
     },
     "execution_count": 76,
     "metadata": {},
     "output_type": "execute_result"
    }
   ],
   "source": [
    "x_test.shape"
   ]
  },
  {
   "cell_type": "code",
   "execution_count": 77,
   "metadata": {},
   "outputs": [
    {
     "data": {
      "text/plain": [
       "0    6758\n",
       "1    3242\n",
       "Name: Bin_Fluoride, dtype: int64"
      ]
     },
     "execution_count": 77,
     "metadata": {},
     "output_type": "execute_result"
    }
   ],
   "source": [
    "y_train,y_test=y[:10000],y[10000:]\n",
    "y_train.value_counts()"
   ]
  },
  {
   "cell_type": "code",
   "execution_count": 78,
   "metadata": {},
   "outputs": [
    {
     "data": {
      "text/plain": [
       "0    2927\n",
       "1    1390\n",
       "Name: Bin_Fluoride, dtype: int64"
      ]
     },
     "execution_count": 78,
     "metadata": {},
     "output_type": "execute_result"
    }
   ],
   "source": [
    "y_test.value_counts()"
   ]
  },
  {
   "cell_type": "markdown",
   "metadata": {},
   "source": [
    "# ***Resample Test data***"
   ]
  },
  {
   "cell_type": "code",
   "execution_count": 79,
   "metadata": {},
   "outputs": [],
   "source": [
    "from imblearn.over_sampling import SMOTE\n",
    "sm = SMOTE(random_state=12)\n",
    "x_train,y_train = sm.fit_resample(x_train,y_train)"
   ]
  },
  {
   "cell_type": "code",
   "execution_count": 80,
   "metadata": {},
   "outputs": [
    {
     "name": "stdout",
     "output_type": "stream",
     "text": [
      "<class 'pandas.core.frame.DataFrame'>\n",
      "RangeIndex: 13516 entries, 0 to 13515\n",
      "Data columns (total 7 columns):\n",
      " #   Column          Non-Null Count  Dtype  \n",
      "---  ------          --------------  -----  \n",
      " 0   PH              13516 non-null  float64\n",
      " 1   EC              13516 non-null  float64\n",
      " 2   TOT_ALKALINITY  13516 non-null  float64\n",
      " 3   CA              13516 non-null  float64\n",
      " 4   MG              13516 non-null  float64\n",
      " 5   NA              13516 non-null  float64\n",
      " 6   BICARBONATE     13516 non-null  float64\n",
      "dtypes: float64(7)\n",
      "memory usage: 739.3 KB\n"
     ]
    }
   ],
   "source": [
    "x_train.info()"
   ]
  },
  {
   "cell_type": "code",
   "execution_count": 81,
   "metadata": {},
   "outputs": [
    {
     "name": "stdout",
     "output_type": "stream",
     "text": [
      "<class 'pandas.core.series.Series'>\n",
      "RangeIndex: 13516 entries, 0 to 13515\n",
      "Series name: Bin_Fluoride\n",
      "Non-Null Count  Dtype\n",
      "--------------  -----\n",
      "13516 non-null  int64\n",
      "dtypes: int64(1)\n",
      "memory usage: 105.7 KB\n"
     ]
    }
   ],
   "source": [
    "y_train.info()"
   ]
  },
  {
   "cell_type": "code",
   "execution_count": 82,
   "metadata": {},
   "outputs": [
    {
     "data": {
      "text/plain": [
       "1    6758\n",
       "0    6758\n",
       "Name: Bin_Fluoride, dtype: int64"
      ]
     },
     "execution_count": 82,
     "metadata": {},
     "output_type": "execute_result"
    }
   ],
   "source": [
    "y_train.value_counts()"
   ]
  },
  {
   "cell_type": "markdown",
   "metadata": {},
   "source": [
    "# ***Random Forest***"
   ]
  },
  {
   "cell_type": "code",
   "execution_count": 83,
   "metadata": {},
   "outputs": [
    {
     "data": {
      "text/plain": [
       "RandomForestClassifier(max_depth=19, random_state=10)"
      ]
     },
     "execution_count": 83,
     "metadata": {},
     "output_type": "execute_result"
    }
   ],
   "source": [
    "from sklearn.ensemble import RandomForestClassifier\n",
    "clf_forest = RandomForestClassifier(max_depth=19, random_state=10)\n",
    "clf_forest.fit(x_train,y_train)"
   ]
  },
  {
   "cell_type": "code",
   "execution_count": 84,
   "metadata": {},
   "outputs": [
    {
     "data": {
      "text/plain": [
       "array([0, 0, 1, ..., 1, 0, 0])"
      ]
     },
     "execution_count": 84,
     "metadata": {},
     "output_type": "execute_result"
    }
   ],
   "source": [
    "y_test_predict_forest = clf_forest.predict(x_test[:][:])\n",
    "y_test_predict_forest"
   ]
  },
  {
   "cell_type": "code",
   "execution_count": 85,
   "metadata": {},
   "outputs": [],
   "source": [
    "from sklearn.metrics import confusion_matrix"
   ]
  },
  {
   "cell_type": "code",
   "execution_count": 86,
   "metadata": {},
   "outputs": [
    {
     "data": {
      "text/plain": [
       "array([[2316,  611],\n",
       "       [ 602,  788]])"
      ]
     },
     "execution_count": 86,
     "metadata": {},
     "output_type": "execute_result"
    }
   ],
   "source": [
    "confusion_matrix(y_test,y_test_predict_forest)"
   ]
  },
  {
   "cell_type": "code",
   "execution_count": 87,
   "metadata": {},
   "outputs": [],
   "source": [
    "# after resampling\n",
    "# [[2226,  665],\n",
    "# [ 603,  823]]       19,10\n"
   ]
  },
  {
   "cell_type": "code",
   "execution_count": 88,
   "metadata": {},
   "outputs": [],
   "source": [
    "# without resampling\n",
    "# [2629,  297], \n",
    "# [ 882,  509]]  10,10  \n",
    "#  \n",
    "# ([[2625,  301],\n",
    "# [ 863,  528]])   12,10\n",
    "\n",
    "# ([[2620,  306],\n",
    "# [ 837,  554]])   14,10"
   ]
  },
  {
   "cell_type": "code",
   "execution_count": 89,
   "metadata": {},
   "outputs": [],
   "source": [
    "# Modify data"
   ]
  },
  {
   "cell_type": "code",
   "execution_count": 90,
   "metadata": {},
   "outputs": [
    {
     "data": {
      "text/html": [
       "<div>\n",
       "<style scoped>\n",
       "    .dataframe tbody tr th:only-of-type {\n",
       "        vertical-align: middle;\n",
       "    }\n",
       "\n",
       "    .dataframe tbody tr th {\n",
       "        vertical-align: top;\n",
       "    }\n",
       "\n",
       "    .dataframe thead th {\n",
       "        text-align: right;\n",
       "    }\n",
       "</style>\n",
       "<table border=\"1\" class=\"dataframe\">\n",
       "  <thead>\n",
       "    <tr style=\"text-align: right;\">\n",
       "      <th></th>\n",
       "      <th>PH</th>\n",
       "      <th>EC</th>\n",
       "      <th>TOT_ALKALINITY</th>\n",
       "      <th>CA</th>\n",
       "      <th>MG</th>\n",
       "      <th>NA</th>\n",
       "      <th>BICARBONATE</th>\n",
       "      <th>Bin_Fluoride</th>\n",
       "    </tr>\n",
       "  </thead>\n",
       "  <tbody>\n",
       "    <tr>\n",
       "      <th>0</th>\n",
       "      <td>7.83</td>\n",
       "      <td>2000.0</td>\n",
       "      <td>314.75</td>\n",
       "      <td>66.0</td>\n",
       "      <td>70.59</td>\n",
       "      <td>250.0</td>\n",
       "      <td>384.0</td>\n",
       "      <td>1</td>\n",
       "    </tr>\n",
       "    <tr>\n",
       "      <th>2</th>\n",
       "      <td>8.17</td>\n",
       "      <td>786.0</td>\n",
       "      <td>240.16</td>\n",
       "      <td>24.0</td>\n",
       "      <td>24.34</td>\n",
       "      <td>106.0</td>\n",
       "      <td>293.0</td>\n",
       "      <td>1</td>\n",
       "    </tr>\n",
       "    <tr>\n",
       "      <th>3</th>\n",
       "      <td>7.60</td>\n",
       "      <td>990.0</td>\n",
       "      <td>440.16</td>\n",
       "      <td>24.0</td>\n",
       "      <td>25.56</td>\n",
       "      <td>180.0</td>\n",
       "      <td>537.0</td>\n",
       "      <td>1</td>\n",
       "    </tr>\n",
       "    <tr>\n",
       "      <th>4</th>\n",
       "      <td>7.64</td>\n",
       "      <td>862.0</td>\n",
       "      <td>235.25</td>\n",
       "      <td>62.0</td>\n",
       "      <td>20.74</td>\n",
       "      <td>81.0</td>\n",
       "      <td>287.0</td>\n",
       "      <td>1</td>\n",
       "    </tr>\n",
       "    <tr>\n",
       "      <th>6</th>\n",
       "      <td>8.13</td>\n",
       "      <td>788.0</td>\n",
       "      <td>304.92</td>\n",
       "      <td>18.0</td>\n",
       "      <td>20.69</td>\n",
       "      <td>132.0</td>\n",
       "      <td>372.0</td>\n",
       "      <td>1</td>\n",
       "    </tr>\n",
       "  </tbody>\n",
       "</table>\n",
       "</div>"
      ],
      "text/plain": [
       "     PH      EC  TOT_ALKALINITY    CA     MG     NA  BICARBONATE  Bin_Fluoride\n",
       "0  7.83  2000.0          314.75  66.0  70.59  250.0        384.0             1\n",
       "2  8.17   786.0          240.16  24.0  24.34  106.0        293.0             1\n",
       "3  7.60   990.0          440.16  24.0  25.56  180.0        537.0             1\n",
       "4  7.64   862.0          235.25  62.0  20.74   81.0        287.0             1\n",
       "6  8.13   788.0          304.92  18.0  20.69  132.0        372.0             1"
      ]
     },
     "execution_count": 90,
     "metadata": {},
     "output_type": "execute_result"
    }
   ],
   "source": [
    "data.head()"
   ]
  },
  {
   "cell_type": "code",
   "execution_count": 91,
   "metadata": {},
   "outputs": [
    {
     "data": {
      "text/html": [
       "<div>\n",
       "<style scoped>\n",
       "    .dataframe tbody tr th:only-of-type {\n",
       "        vertical-align: middle;\n",
       "    }\n",
       "\n",
       "    .dataframe tbody tr th {\n",
       "        vertical-align: top;\n",
       "    }\n",
       "\n",
       "    .dataframe thead th {\n",
       "        text-align: right;\n",
       "    }\n",
       "</style>\n",
       "<table border=\"1\" class=\"dataframe\">\n",
       "  <thead>\n",
       "    <tr style=\"text-align: right;\">\n",
       "      <th></th>\n",
       "      <th>PH</th>\n",
       "      <th>EC</th>\n",
       "      <th>TOT_ALKALINITY</th>\n",
       "      <th>CA</th>\n",
       "      <th>MG</th>\n",
       "      <th>NA</th>\n",
       "      <th>BICARBONATE</th>\n",
       "      <th>Bin_Fluoride</th>\n",
       "      <th>NA/CA</th>\n",
       "    </tr>\n",
       "  </thead>\n",
       "  <tbody>\n",
       "    <tr>\n",
       "      <th>0</th>\n",
       "      <td>7.83</td>\n",
       "      <td>2000.0</td>\n",
       "      <td>314.75</td>\n",
       "      <td>66.0</td>\n",
       "      <td>70.59</td>\n",
       "      <td>250.0</td>\n",
       "      <td>384.0</td>\n",
       "      <td>1</td>\n",
       "      <td>3.787879</td>\n",
       "    </tr>\n",
       "    <tr>\n",
       "      <th>2</th>\n",
       "      <td>8.17</td>\n",
       "      <td>786.0</td>\n",
       "      <td>240.16</td>\n",
       "      <td>24.0</td>\n",
       "      <td>24.34</td>\n",
       "      <td>106.0</td>\n",
       "      <td>293.0</td>\n",
       "      <td>1</td>\n",
       "      <td>4.416667</td>\n",
       "    </tr>\n",
       "    <tr>\n",
       "      <th>3</th>\n",
       "      <td>7.60</td>\n",
       "      <td>990.0</td>\n",
       "      <td>440.16</td>\n",
       "      <td>24.0</td>\n",
       "      <td>25.56</td>\n",
       "      <td>180.0</td>\n",
       "      <td>537.0</td>\n",
       "      <td>1</td>\n",
       "      <td>7.500000</td>\n",
       "    </tr>\n",
       "    <tr>\n",
       "      <th>4</th>\n",
       "      <td>7.64</td>\n",
       "      <td>862.0</td>\n",
       "      <td>235.25</td>\n",
       "      <td>62.0</td>\n",
       "      <td>20.74</td>\n",
       "      <td>81.0</td>\n",
       "      <td>287.0</td>\n",
       "      <td>1</td>\n",
       "      <td>1.306452</td>\n",
       "    </tr>\n",
       "    <tr>\n",
       "      <th>6</th>\n",
       "      <td>8.13</td>\n",
       "      <td>788.0</td>\n",
       "      <td>304.92</td>\n",
       "      <td>18.0</td>\n",
       "      <td>20.69</td>\n",
       "      <td>132.0</td>\n",
       "      <td>372.0</td>\n",
       "      <td>1</td>\n",
       "      <td>7.333333</td>\n",
       "    </tr>\n",
       "  </tbody>\n",
       "</table>\n",
       "</div>"
      ],
      "text/plain": [
       "     PH      EC  TOT_ALKALINITY    CA     MG     NA  BICARBONATE  \\\n",
       "0  7.83  2000.0          314.75  66.0  70.59  250.0        384.0   \n",
       "2  8.17   786.0          240.16  24.0  24.34  106.0        293.0   \n",
       "3  7.60   990.0          440.16  24.0  25.56  180.0        537.0   \n",
       "4  7.64   862.0          235.25  62.0  20.74   81.0        287.0   \n",
       "6  8.13   788.0          304.92  18.0  20.69  132.0        372.0   \n",
       "\n",
       "   Bin_Fluoride     NA/CA  \n",
       "0             1  3.787879  \n",
       "2             1  4.416667  \n",
       "3             1  7.500000  \n",
       "4             1  1.306452  \n",
       "6             1  7.333333  "
      ]
     },
     "execution_count": 91,
     "metadata": {},
     "output_type": "execute_result"
    }
   ],
   "source": [
    "data['NA/CA'] = np.where(data['CA']!=0,data['NA']/data['CA'],0)\n",
    "data.head()"
   ]
  },
  {
   "cell_type": "code",
   "execution_count": 92,
   "metadata": {},
   "outputs": [
    {
     "data": {
      "text/plain": [
       "PH                14317\n",
       "EC                14317\n",
       "TOT_ALKALINITY    14317\n",
       "CA                14317\n",
       "MG                14317\n",
       "NA                14317\n",
       "BICARBONATE       14317\n",
       "Bin_Fluoride      14317\n",
       "NA/CA             14317\n",
       "dtype: int64"
      ]
     },
     "execution_count": 92,
     "metadata": {},
     "output_type": "execute_result"
    }
   ],
   "source": [
    "data.count()"
   ]
  },
  {
   "cell_type": "code",
   "execution_count": 93,
   "metadata": {},
   "outputs": [],
   "source": [
    "data = data.dropna(axis=0)"
   ]
  },
  {
   "cell_type": "code",
   "execution_count": 94,
   "metadata": {},
   "outputs": [
    {
     "data": {
      "text/plain": [
       "PH                14317\n",
       "EC                14317\n",
       "TOT_ALKALINITY    14317\n",
       "CA                14317\n",
       "MG                14317\n",
       "NA                14317\n",
       "BICARBONATE       14317\n",
       "Bin_Fluoride      14317\n",
       "NA/CA             14317\n",
       "dtype: int64"
      ]
     },
     "execution_count": 94,
     "metadata": {},
     "output_type": "execute_result"
    }
   ],
   "source": [
    "data.count()"
   ]
  },
  {
   "cell_type": "code",
   "execution_count": 95,
   "metadata": {},
   "outputs": [
    {
     "name": "stdout",
     "output_type": "stream",
     "text": [
      "<class 'pandas.core.frame.DataFrame'>\n",
      "Int64Index: 14317 entries, 0 to 4031\n",
      "Data columns (total 9 columns):\n",
      " #   Column          Non-Null Count  Dtype  \n",
      "---  ------          --------------  -----  \n",
      " 0   PH              14317 non-null  float32\n",
      " 1   EC              14317 non-null  float32\n",
      " 2   TOT_ALKALINITY  14317 non-null  float32\n",
      " 3   CA              14317 non-null  float32\n",
      " 4   MG              14317 non-null  float32\n",
      " 5   NA              14317 non-null  float32\n",
      " 6   BICARBONATE     14317 non-null  float32\n",
      " 7   Bin_Fluoride    14317 non-null  float32\n",
      " 8   NA/CA           14317 non-null  float32\n",
      "dtypes: float32(9)\n",
      "memory usage: 615.2 KB\n"
     ]
    }
   ],
   "source": [
    "data = data.astype(\"f\")\n",
    "data.info()"
   ]
  },
  {
   "cell_type": "code",
   "execution_count": null,
   "metadata": {},
   "outputs": [],
   "source": []
  },
  {
   "cell_type": "code",
   "execution_count": 96,
   "metadata": {},
   "outputs": [
    {
     "data": {
      "text/html": [
       "<div>\n",
       "<style scoped>\n",
       "    .dataframe tbody tr th:only-of-type {\n",
       "        vertical-align: middle;\n",
       "    }\n",
       "\n",
       "    .dataframe tbody tr th {\n",
       "        vertical-align: top;\n",
       "    }\n",
       "\n",
       "    .dataframe thead th {\n",
       "        text-align: right;\n",
       "    }\n",
       "</style>\n",
       "<table border=\"1\" class=\"dataframe\">\n",
       "  <thead>\n",
       "    <tr style=\"text-align: right;\">\n",
       "      <th></th>\n",
       "      <th>PH</th>\n",
       "      <th>EC</th>\n",
       "      <th>TOT_ALKALINITY</th>\n",
       "      <th>CA</th>\n",
       "      <th>MG</th>\n",
       "      <th>NA</th>\n",
       "      <th>BICARBONATE</th>\n",
       "      <th>Bin_Fluoride</th>\n",
       "      <th>NA/CA</th>\n",
       "    </tr>\n",
       "  </thead>\n",
       "  <tbody>\n",
       "    <tr>\n",
       "      <th>4224</th>\n",
       "      <td>8.62</td>\n",
       "      <td>4440.0</td>\n",
       "      <td>669.836060</td>\n",
       "      <td>48.0</td>\n",
       "      <td>92.000000</td>\n",
       "      <td>938.0</td>\n",
       "      <td>622.000000</td>\n",
       "      <td>1.0</td>\n",
       "      <td>19.541666</td>\n",
       "    </tr>\n",
       "    <tr>\n",
       "      <th>1524</th>\n",
       "      <td>7.50</td>\n",
       "      <td>2654.0</td>\n",
       "      <td>419.670013</td>\n",
       "      <td>184.0</td>\n",
       "      <td>61.009998</td>\n",
       "      <td>160.0</td>\n",
       "      <td>512.000000</td>\n",
       "      <td>0.0</td>\n",
       "      <td>0.869565</td>\n",
       "    </tr>\n",
       "    <tr>\n",
       "      <th>603</th>\n",
       "      <td>7.67</td>\n",
       "      <td>1587.0</td>\n",
       "      <td>454.920013</td>\n",
       "      <td>58.0</td>\n",
       "      <td>70.580002</td>\n",
       "      <td>180.0</td>\n",
       "      <td>555.000000</td>\n",
       "      <td>1.0</td>\n",
       "      <td>3.103448</td>\n",
       "    </tr>\n",
       "    <tr>\n",
       "      <th>2100</th>\n",
       "      <td>8.02</td>\n",
       "      <td>2780.0</td>\n",
       "      <td>600.000000</td>\n",
       "      <td>40.0</td>\n",
       "      <td>92.440002</td>\n",
       "      <td>383.0</td>\n",
       "      <td>732.000000</td>\n",
       "      <td>0.0</td>\n",
       "      <td>9.575000</td>\n",
       "    </tr>\n",
       "    <tr>\n",
       "      <th>3525</th>\n",
       "      <td>7.98</td>\n",
       "      <td>1344.0</td>\n",
       "      <td>220.000000</td>\n",
       "      <td>112.0</td>\n",
       "      <td>9.720000</td>\n",
       "      <td>156.0</td>\n",
       "      <td>268.399994</td>\n",
       "      <td>0.0</td>\n",
       "      <td>1.392857</td>\n",
       "    </tr>\n",
       "  </tbody>\n",
       "</table>\n",
       "</div>"
      ],
      "text/plain": [
       "        PH      EC  TOT_ALKALINITY     CA         MG     NA  BICARBONATE  \\\n",
       "4224  8.62  4440.0      669.836060   48.0  92.000000  938.0   622.000000   \n",
       "1524  7.50  2654.0      419.670013  184.0  61.009998  160.0   512.000000   \n",
       "603   7.67  1587.0      454.920013   58.0  70.580002  180.0   555.000000   \n",
       "2100  8.02  2780.0      600.000000   40.0  92.440002  383.0   732.000000   \n",
       "3525  7.98  1344.0      220.000000  112.0   9.720000  156.0   268.399994   \n",
       "\n",
       "      Bin_Fluoride      NA/CA  \n",
       "4224           1.0  19.541666  \n",
       "1524           0.0   0.869565  \n",
       "603            1.0   3.103448  \n",
       "2100           0.0   9.575000  \n",
       "3525           0.0   1.392857  "
      ]
     },
     "execution_count": 96,
     "metadata": {},
     "output_type": "execute_result"
    }
   ],
   "source": [
    "data = data.sample(frac=1)\n",
    "data.head()"
   ]
  },
  {
   "cell_type": "code",
   "execution_count": 97,
   "metadata": {},
   "outputs": [
    {
     "data": {
      "text/html": [
       "<div>\n",
       "<style scoped>\n",
       "    .dataframe tbody tr th:only-of-type {\n",
       "        vertical-align: middle;\n",
       "    }\n",
       "\n",
       "    .dataframe tbody tr th {\n",
       "        vertical-align: top;\n",
       "    }\n",
       "\n",
       "    .dataframe thead th {\n",
       "        text-align: right;\n",
       "    }\n",
       "</style>\n",
       "<table border=\"1\" class=\"dataframe\">\n",
       "  <thead>\n",
       "    <tr style=\"text-align: right;\">\n",
       "      <th></th>\n",
       "      <th>PH</th>\n",
       "      <th>EC</th>\n",
       "      <th>TOT_ALKALINITY</th>\n",
       "      <th>MG</th>\n",
       "      <th>BICARBONATE</th>\n",
       "      <th>NA/CA</th>\n",
       "    </tr>\n",
       "  </thead>\n",
       "  <tbody>\n",
       "    <tr>\n",
       "      <th>4224</th>\n",
       "      <td>8.62</td>\n",
       "      <td>4440.0</td>\n",
       "      <td>669.836060</td>\n",
       "      <td>92.000000</td>\n",
       "      <td>622.000000</td>\n",
       "      <td>19.541666</td>\n",
       "    </tr>\n",
       "    <tr>\n",
       "      <th>1524</th>\n",
       "      <td>7.50</td>\n",
       "      <td>2654.0</td>\n",
       "      <td>419.670013</td>\n",
       "      <td>61.009998</td>\n",
       "      <td>512.000000</td>\n",
       "      <td>0.869565</td>\n",
       "    </tr>\n",
       "    <tr>\n",
       "      <th>603</th>\n",
       "      <td>7.67</td>\n",
       "      <td>1587.0</td>\n",
       "      <td>454.920013</td>\n",
       "      <td>70.580002</td>\n",
       "      <td>555.000000</td>\n",
       "      <td>3.103448</td>\n",
       "    </tr>\n",
       "    <tr>\n",
       "      <th>2100</th>\n",
       "      <td>8.02</td>\n",
       "      <td>2780.0</td>\n",
       "      <td>600.000000</td>\n",
       "      <td>92.440002</td>\n",
       "      <td>732.000000</td>\n",
       "      <td>9.575000</td>\n",
       "    </tr>\n",
       "    <tr>\n",
       "      <th>3525</th>\n",
       "      <td>7.98</td>\n",
       "      <td>1344.0</td>\n",
       "      <td>220.000000</td>\n",
       "      <td>9.720000</td>\n",
       "      <td>268.399994</td>\n",
       "      <td>1.392857</td>\n",
       "    </tr>\n",
       "  </tbody>\n",
       "</table>\n",
       "</div>"
      ],
      "text/plain": [
       "        PH      EC  TOT_ALKALINITY         MG  BICARBONATE      NA/CA\n",
       "4224  8.62  4440.0      669.836060  92.000000   622.000000  19.541666\n",
       "1524  7.50  2654.0      419.670013  61.009998   512.000000   0.869565\n",
       "603   7.67  1587.0      454.920013  70.580002   555.000000   3.103448\n",
       "2100  8.02  2780.0      600.000000  92.440002   732.000000   9.575000\n",
       "3525  7.98  1344.0      220.000000   9.720000   268.399994   1.392857"
      ]
     },
     "execution_count": 97,
     "metadata": {},
     "output_type": "execute_result"
    }
   ],
   "source": [
    "x = data.drop(['Bin_Fluoride','CA','NA'],axis=1)\n",
    "x.head()"
   ]
  },
  {
   "cell_type": "code",
   "execution_count": 98,
   "metadata": {},
   "outputs": [
    {
     "data": {
      "text/plain": [
       "4224    1.0\n",
       "1524    0.0\n",
       "603     1.0\n",
       "2100    0.0\n",
       "3525    0.0\n",
       "Name: Bin_Fluoride, dtype: float32"
      ]
     },
     "execution_count": 98,
     "metadata": {},
     "output_type": "execute_result"
    }
   ],
   "source": [
    "y = data['Bin_Fluoride']\n",
    "y.head()"
   ]
  },
  {
   "cell_type": "code",
   "execution_count": 99,
   "metadata": {},
   "outputs": [
    {
     "name": "stdout",
     "output_type": "stream",
     "text": [
      "<class 'pandas.core.frame.DataFrame'>\n",
      "Int64Index: 14317 entries, 4224 to 3506\n",
      "Data columns (total 6 columns):\n",
      " #   Column          Non-Null Count  Dtype  \n",
      "---  ------          --------------  -----  \n",
      " 0   PH              14317 non-null  float32\n",
      " 1   EC              14317 non-null  float32\n",
      " 2   TOT_ALKALINITY  14317 non-null  float32\n",
      " 3   MG              14317 non-null  float32\n",
      " 4   BICARBONATE     14317 non-null  float32\n",
      " 5   NA/CA           14317 non-null  float32\n",
      "dtypes: float32(6)\n",
      "memory usage: 447.4 KB\n"
     ]
    }
   ],
   "source": [
    "x.info()"
   ]
  },
  {
   "cell_type": "code",
   "execution_count": 100,
   "metadata": {},
   "outputs": [
    {
     "data": {
      "text/plain": [
       "(13516, 7)"
      ]
     },
     "execution_count": 100,
     "metadata": {},
     "output_type": "execute_result"
    }
   ],
   "source": [
    "# x_train,x_test=x[:10000],x[10000:]\n",
    "x_train.shape"
   ]
  },
  {
   "cell_type": "code",
   "execution_count": 101,
   "metadata": {},
   "outputs": [
    {
     "data": {
      "text/plain": [
       "(4317, 7)"
      ]
     },
     "execution_count": 101,
     "metadata": {},
     "output_type": "execute_result"
    }
   ],
   "source": [
    "x_test.shape"
   ]
  },
  {
   "cell_type": "code",
   "execution_count": 102,
   "metadata": {},
   "outputs": [
    {
     "data": {
      "text/plain": [
       "(13516,)"
      ]
     },
     "execution_count": 102,
     "metadata": {},
     "output_type": "execute_result"
    }
   ],
   "source": [
    "# y_train,y_test=y[:10000],y[10000:]\n",
    "y_train.shape"
   ]
  },
  {
   "cell_type": "code",
   "execution_count": 103,
   "metadata": {},
   "outputs": [
    {
     "data": {
      "text/plain": [
       "(4317,)"
      ]
     },
     "execution_count": 103,
     "metadata": {},
     "output_type": "execute_result"
    }
   ],
   "source": [
    "y_test.shape"
   ]
  },
  {
   "cell_type": "markdown",
   "metadata": {},
   "source": [
    "## **Random forest**"
   ]
  },
  {
   "cell_type": "code",
   "execution_count": 104,
   "metadata": {},
   "outputs": [
    {
     "data": {
      "text/html": [
       "<div>\n",
       "<style scoped>\n",
       "    .dataframe tbody tr th:only-of-type {\n",
       "        vertical-align: middle;\n",
       "    }\n",
       "\n",
       "    .dataframe tbody tr th {\n",
       "        vertical-align: top;\n",
       "    }\n",
       "\n",
       "    .dataframe thead th {\n",
       "        text-align: right;\n",
       "    }\n",
       "</style>\n",
       "<table border=\"1\" class=\"dataframe\">\n",
       "  <thead>\n",
       "    <tr style=\"text-align: right;\">\n",
       "      <th></th>\n",
       "      <th>PH</th>\n",
       "      <th>EC</th>\n",
       "      <th>TOT_ALKALINITY</th>\n",
       "      <th>CA</th>\n",
       "      <th>MG</th>\n",
       "      <th>NA</th>\n",
       "      <th>BICARBONATE</th>\n",
       "    </tr>\n",
       "  </thead>\n",
       "  <tbody>\n",
       "    <tr>\n",
       "      <th>0</th>\n",
       "      <td>7.90</td>\n",
       "      <td>2000.0</td>\n",
       "      <td>594.886922</td>\n",
       "      <td>40.0</td>\n",
       "      <td>124.050</td>\n",
       "      <td>207.0</td>\n",
       "      <td>726.0</td>\n",
       "    </tr>\n",
       "    <tr>\n",
       "      <th>1</th>\n",
       "      <td>7.65</td>\n",
       "      <td>3830.0</td>\n",
       "      <td>469.672131</td>\n",
       "      <td>124.0</td>\n",
       "      <td>116.736</td>\n",
       "      <td>580.0</td>\n",
       "      <td>573.0</td>\n",
       "    </tr>\n",
       "    <tr>\n",
       "      <th>2</th>\n",
       "      <td>8.00</td>\n",
       "      <td>1590.0</td>\n",
       "      <td>130.327530</td>\n",
       "      <td>72.0</td>\n",
       "      <td>46.280</td>\n",
       "      <td>167.0</td>\n",
       "      <td>159.0</td>\n",
       "    </tr>\n",
       "    <tr>\n",
       "      <th>3</th>\n",
       "      <td>7.15</td>\n",
       "      <td>2318.0</td>\n",
       "      <td>640.160000</td>\n",
       "      <td>232.0</td>\n",
       "      <td>56.200</td>\n",
       "      <td>170.0</td>\n",
       "      <td>781.0</td>\n",
       "    </tr>\n",
       "    <tr>\n",
       "      <th>4</th>\n",
       "      <td>7.97</td>\n",
       "      <td>2670.0</td>\n",
       "      <td>500.000000</td>\n",
       "      <td>204.0</td>\n",
       "      <td>65.890</td>\n",
       "      <td>240.0</td>\n",
       "      <td>610.0</td>\n",
       "    </tr>\n",
       "  </tbody>\n",
       "</table>\n",
       "</div>"
      ],
      "text/plain": [
       "     PH      EC  TOT_ALKALINITY     CA       MG     NA  BICARBONATE\n",
       "0  7.90  2000.0      594.886922   40.0  124.050  207.0        726.0\n",
       "1  7.65  3830.0      469.672131  124.0  116.736  580.0        573.0\n",
       "2  8.00  1590.0      130.327530   72.0   46.280  167.0        159.0\n",
       "3  7.15  2318.0      640.160000  232.0   56.200  170.0        781.0\n",
       "4  7.97  2670.0      500.000000  204.0   65.890  240.0        610.0"
      ]
     },
     "execution_count": 104,
     "metadata": {},
     "output_type": "execute_result"
    }
   ],
   "source": [
    "x_train.head()"
   ]
  },
  {
   "cell_type": "code",
   "execution_count": 105,
   "metadata": {},
   "outputs": [],
   "source": [
    "# from sklearn.ensemble import RandomForestClassifier\n",
    "# new_forest = RandomForestClassifier(max_depth=14, random_state=10)\n",
    "# new_forest.fit(x_train,y_train)"
   ]
  },
  {
   "cell_type": "code",
   "execution_count": 106,
   "metadata": {},
   "outputs": [],
   "source": [
    "# y_test_predict_forest = new_forest.predict(x_test[:][:])\n",
    "# y_test_predict_forest"
   ]
  },
  {
   "cell_type": "code",
   "execution_count": 107,
   "metadata": {},
   "outputs": [],
   "source": [
    "# confusion_matrix(y_test,y_test_predict_forest)"
   ]
  },
  {
   "cell_type": "code",
   "execution_count": 108,
   "metadata": {},
   "outputs": [],
   "source": [
    "# [2629,  297], \n",
    "# [ 882,  509]]  10,10  \n",
    "#  \n",
    "# ([[2625,  301],\n",
    "# [ 863,  528]])   12,10\n",
    "\n",
    "# ([[2620,  306],\n",
    "# [ 837,  554]])   14,10"
   ]
  }
 ],
 "metadata": {
  "interpreter": {
   "hash": "06dbf6a33b598ff4076389319d3dfd2167df243e6a2b8d346f1c137d2797385a"
  },
  "kernelspec": {
   "display_name": "Python 3.9.10 ('venv': venv)",
   "language": "python",
   "name": "python3"
  },
  "language_info": {
   "codemirror_mode": {
    "name": "ipython",
    "version": 3
   },
   "file_extension": ".py",
   "mimetype": "text/x-python",
   "name": "python",
   "nbconvert_exporter": "python",
   "pygments_lexer": "ipython3",
   "version": "3.9.10"
  },
  "orig_nbformat": 4
 },
 "nbformat": 4,
 "nbformat_minor": 2
}
