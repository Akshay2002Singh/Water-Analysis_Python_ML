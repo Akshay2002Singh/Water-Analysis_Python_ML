{
 "cells": [
  {
   "cell_type": "markdown",
   "metadata": {},
   "source": [
    "# ***Water Analysis***"
   ]
  },
  {
   "cell_type": "markdown",
   "metadata": {},
   "source": [
    "> importing modules"
   ]
  },
  {
   "cell_type": "code",
   "execution_count": 60,
   "metadata": {},
   "outputs": [],
   "source": [
    "import numpy as np\n",
    "import pandas as pd "
   ]
  },
  {
   "cell_type": "markdown",
   "metadata": {},
   "source": [
    "> imporing data from excell sheet"
   ]
  },
  {
   "cell_type": "code",
   "execution_count": 61,
   "metadata": {},
   "outputs": [],
   "source": [
    "data = pd.read_excel(\"GWQ_2010-2018.xlsx\",sheet_name=\"Sheet1\")"
   ]
  },
  {
   "cell_type": "markdown",
   "metadata": {},
   "source": [
    "### Basic data analysis"
   ]
  },
  {
   "cell_type": "code",
   "execution_count": 62,
   "metadata": {},
   "outputs": [
    {
     "data": {
      "text/html": [
       "<div>\n",
       "<style scoped>\n",
       "    .dataframe tbody tr th:only-of-type {\n",
       "        vertical-align: middle;\n",
       "    }\n",
       "\n",
       "    .dataframe tbody tr th {\n",
       "        vertical-align: top;\n",
       "    }\n",
       "\n",
       "    .dataframe thead th {\n",
       "        text-align: right;\n",
       "    }\n",
       "</style>\n",
       "<table border=\"1\" class=\"dataframe\">\n",
       "  <thead>\n",
       "    <tr style=\"text-align: right;\">\n",
       "      <th></th>\n",
       "      <th>SITE_ID</th>\n",
       "      <th>WRIS ID</th>\n",
       "      <th>LATITUDE</th>\n",
       "      <th>LONGITUDE</th>\n",
       "      <th>SITE_TYPE</th>\n",
       "      <th>STATE_NAME</th>\n",
       "      <th>DISTRICT_NAME</th>\n",
       "      <th>TAHSIL_NAME</th>\n",
       "      <th>BLOCK_NAME</th>\n",
       "      <th>SITE_NAME</th>\n",
       "      <th>...</th>\n",
       "      <th>FLUORIDE</th>\n",
       "      <th>SAR</th>\n",
       "      <th>RSC</th>\n",
       "      <th>SiO2</th>\n",
       "      <th>PO4</th>\n",
       "      <th>TDS</th>\n",
       "      <th>Turbidity</th>\n",
       "      <th>%Na</th>\n",
       "      <th>Arsenic</th>\n",
       "      <th>LR. No</th>\n",
       "    </tr>\n",
       "  </thead>\n",
       "  <tbody>\n",
       "    <tr>\n",
       "      <th>0</th>\n",
       "      <td>W115159092441001</td>\n",
       "      <td>W23881</td>\n",
       "      <td>11.866389</td>\n",
       "      <td>92.736111</td>\n",
       "      <td>Dug Well</td>\n",
       "      <td>Andaman And Nicobar</td>\n",
       "      <td>A &amp; N Islands</td>\n",
       "      <td>Ferrargunj</td>\n",
       "      <td>South Andaman</td>\n",
       "      <td>Shoal  Bay– 15 No.</td>\n",
       "      <td>...</td>\n",
       "      <td>0.37</td>\n",
       "      <td>NaN</td>\n",
       "      <td>NaN</td>\n",
       "      <td>13.97</td>\n",
       "      <td>NaN</td>\n",
       "      <td>217.748</td>\n",
       "      <td>NaN</td>\n",
       "      <td>NaN</td>\n",
       "      <td>NaN</td>\n",
       "      <td>NaN</td>\n",
       "    </tr>\n",
       "    <tr>\n",
       "      <th>1</th>\n",
       "      <td>New</td>\n",
       "      <td>W38814</td>\n",
       "      <td>12.186944</td>\n",
       "      <td>92.791667</td>\n",
       "      <td>Dug Well</td>\n",
       "      <td>Andaman And Nicobar</td>\n",
       "      <td>A &amp; N Islands</td>\n",
       "      <td>Middle Andaman</td>\n",
       "      <td>Baratang Island</td>\n",
       "      <td>South Creek (Sundergarh)</td>\n",
       "      <td>...</td>\n",
       "      <td>0.24</td>\n",
       "      <td>0</td>\n",
       "      <td>0</td>\n",
       "      <td>15.14</td>\n",
       "      <td>0</td>\n",
       "      <td>360.745</td>\n",
       "      <td></td>\n",
       "      <td></td>\n",
       "      <td>0</td>\n",
       "      <td>0</td>\n",
       "    </tr>\n",
       "    <tr>\n",
       "      <th>2</th>\n",
       "      <td>W123014092513301</td>\n",
       "      <td>W24095</td>\n",
       "      <td>12.503889</td>\n",
       "      <td>92.859167</td>\n",
       "      <td>Dug Well</td>\n",
       "      <td>Andaman And Nicobar</td>\n",
       "      <td>A &amp; N Islands</td>\n",
       "      <td>Middle Andaman</td>\n",
       "      <td>Mayabunder</td>\n",
       "      <td>Bakultala</td>\n",
       "      <td>...</td>\n",
       "      <td>0.96</td>\n",
       "      <td>0</td>\n",
       "      <td>0</td>\n",
       "      <td>7.67</td>\n",
       "      <td>0</td>\n",
       "      <td>239.246</td>\n",
       "      <td>NaN</td>\n",
       "      <td>NaN</td>\n",
       "      <td>0</td>\n",
       "      <td>NaN</td>\n",
       "    </tr>\n",
       "    <tr>\n",
       "      <th>3</th>\n",
       "      <td>W123129092581301</td>\n",
       "      <td>W24112</td>\n",
       "      <td>12.524722</td>\n",
       "      <td>92.970278</td>\n",
       "      <td>Dug Well</td>\n",
       "      <td>Andaman And Nicobar</td>\n",
       "      <td>A &amp; N Islands</td>\n",
       "      <td>Middle Andaman</td>\n",
       "      <td>Mayabunder</td>\n",
       "      <td>Nimbutala</td>\n",
       "      <td>...</td>\n",
       "      <td>1.02</td>\n",
       "      <td>0</td>\n",
       "      <td>0</td>\n",
       "      <td>0</td>\n",
       "      <td>0</td>\n",
       "      <td>253.22</td>\n",
       "      <td>NaN</td>\n",
       "      <td>NaN</td>\n",
       "      <td>0</td>\n",
       "      <td>NaN</td>\n",
       "    </tr>\n",
       "    <tr>\n",
       "      <th>4</th>\n",
       "      <td>W123030092573801</td>\n",
       "      <td>W24098</td>\n",
       "      <td>12.508333</td>\n",
       "      <td>92.960556</td>\n",
       "      <td>Dug Well</td>\n",
       "      <td>Andaman And Nicobar</td>\n",
       "      <td>A &amp; N Islands</td>\n",
       "      <td>Middle Andaman</td>\n",
       "      <td>Mayabunder</td>\n",
       "      <td>Padmanavapuram</td>\n",
       "      <td>...</td>\n",
       "      <td>0.74</td>\n",
       "      <td>0</td>\n",
       "      <td>0</td>\n",
       "      <td>10.34</td>\n",
       "      <td>0</td>\n",
       "      <td>185.361</td>\n",
       "      <td>NaN</td>\n",
       "      <td>NaN</td>\n",
       "      <td>0</td>\n",
       "      <td>NaN</td>\n",
       "    </tr>\n",
       "  </tbody>\n",
       "</table>\n",
       "<p>5 rows × 37 columns</p>\n",
       "</div>"
      ],
      "text/plain": [
       "            SITE_ID WRIS ID   LATITUDE  LONGITUDE SITE_TYPE  \\\n",
       "0  W115159092441001  W23881  11.866389  92.736111  Dug Well   \n",
       "1               New  W38814  12.186944  92.791667  Dug Well   \n",
       "2  W123014092513301  W24095  12.503889  92.859167  Dug Well   \n",
       "3  W123129092581301  W24112  12.524722  92.970278  Dug Well   \n",
       "4  W123030092573801  W24098  12.508333  92.960556  Dug Well   \n",
       "\n",
       "            STATE_NAME  DISTRICT_NAME     TAHSIL_NAME       BLOCK_NAME  \\\n",
       "0  Andaman And Nicobar  A & N Islands      Ferrargunj    South Andaman   \n",
       "1  Andaman And Nicobar  A & N Islands  Middle Andaman  Baratang Island   \n",
       "2  Andaman And Nicobar  A & N Islands  Middle Andaman       Mayabunder   \n",
       "3  Andaman And Nicobar  A & N Islands  Middle Andaman       Mayabunder   \n",
       "4  Andaman And Nicobar  A & N Islands  Middle Andaman       Mayabunder   \n",
       "\n",
       "                  SITE_NAME  ... FLUORIDE  SAR  RSC   SiO2  PO4      TDS  \\\n",
       "0        Shoal  Bay– 15 No.  ...     0.37  NaN  NaN  13.97  NaN  217.748   \n",
       "1  South Creek (Sundergarh)  ...     0.24    0    0  15.14    0  360.745   \n",
       "2                 Bakultala  ...     0.96    0    0   7.67    0  239.246   \n",
       "3                 Nimbutala  ...     1.02    0    0      0    0   253.22   \n",
       "4            Padmanavapuram  ...     0.74    0    0  10.34    0  185.361   \n",
       "\n",
       "  Turbidity  %Na Arsenic LR. No  \n",
       "0       NaN  NaN     NaN    NaN  \n",
       "1                      0      0  \n",
       "2       NaN  NaN       0    NaN  \n",
       "3       NaN  NaN       0    NaN  \n",
       "4       NaN  NaN       0    NaN  \n",
       "\n",
       "[5 rows x 37 columns]"
      ]
     },
     "execution_count": 62,
     "metadata": {},
     "output_type": "execute_result"
    }
   ],
   "source": [
    "data.head()"
   ]
  },
  {
   "cell_type": "code",
   "execution_count": 63,
   "metadata": {},
   "outputs": [
    {
     "data": {
      "text/plain": [
       "SITE_ID           85197\n",
       "WRIS ID           85197\n",
       "LATITUDE          84916\n",
       "LONGITUDE         84916\n",
       "SITE_TYPE         85197\n",
       "STATE_NAME        85197\n",
       "DISTRICT_NAME     85196\n",
       "TAHSIL_NAME       85085\n",
       "BLOCK_NAME        85071\n",
       "SITE_NAME         85197\n",
       "BASIN_NAME        85197\n",
       "PROJECT_NAME      85197\n",
       "year              85197\n",
       "PH                85193\n",
       "EC                85194\n",
       "TH                81780\n",
       "TOT_ALKALINITY    68788\n",
       "CA                82060\n",
       "MG                82049\n",
       "NA                82056\n",
       "K                 81988\n",
       "FE                68575\n",
       "CARBONATE         79104\n",
       "BICARBONATE       81973\n",
       "CHLORIDE          85185\n",
       "SULPHATE          82060\n",
       "NITRATE           81056\n",
       "FLUORIDE          83992\n",
       "SAR               69351\n",
       "RSC               67521\n",
       "SiO2              21338\n",
       "PO4               22929\n",
       "TDS               21477\n",
       "Turbidity          3409\n",
       "%Na                4025\n",
       "Arsenic           15535\n",
       "LR. No            10911\n",
       "dtype: int64"
      ]
     },
     "execution_count": 63,
     "metadata": {},
     "output_type": "execute_result"
    }
   ],
   "source": [
    "data.count()"
   ]
  },
  {
   "cell_type": "code",
   "execution_count": 64,
   "metadata": {},
   "outputs": [
    {
     "data": {
      "text/html": [
       "<div>\n",
       "<style scoped>\n",
       "    .dataframe tbody tr th:only-of-type {\n",
       "        vertical-align: middle;\n",
       "    }\n",
       "\n",
       "    .dataframe tbody tr th {\n",
       "        vertical-align: top;\n",
       "    }\n",
       "\n",
       "    .dataframe thead th {\n",
       "        text-align: right;\n",
       "    }\n",
       "</style>\n",
       "<table border=\"1\" class=\"dataframe\">\n",
       "  <thead>\n",
       "    <tr style=\"text-align: right;\">\n",
       "      <th></th>\n",
       "      <th>year</th>\n",
       "    </tr>\n",
       "  </thead>\n",
       "  <tbody>\n",
       "    <tr>\n",
       "      <th>count</th>\n",
       "      <td>85197.000000</td>\n",
       "    </tr>\n",
       "    <tr>\n",
       "      <th>mean</th>\n",
       "      <td>2014.493738</td>\n",
       "    </tr>\n",
       "    <tr>\n",
       "      <th>std</th>\n",
       "      <td>2.551327</td>\n",
       "    </tr>\n",
       "    <tr>\n",
       "      <th>min</th>\n",
       "      <td>2010.000000</td>\n",
       "    </tr>\n",
       "    <tr>\n",
       "      <th>25%</th>\n",
       "      <td>2012.000000</td>\n",
       "    </tr>\n",
       "    <tr>\n",
       "      <th>50%</th>\n",
       "      <td>2015.000000</td>\n",
       "    </tr>\n",
       "    <tr>\n",
       "      <th>75%</th>\n",
       "      <td>2017.000000</td>\n",
       "    </tr>\n",
       "    <tr>\n",
       "      <th>max</th>\n",
       "      <td>2018.000000</td>\n",
       "    </tr>\n",
       "  </tbody>\n",
       "</table>\n",
       "</div>"
      ],
      "text/plain": [
       "               year\n",
       "count  85197.000000\n",
       "mean    2014.493738\n",
       "std        2.551327\n",
       "min     2010.000000\n",
       "25%     2012.000000\n",
       "50%     2015.000000\n",
       "75%     2017.000000\n",
       "max     2018.000000"
      ]
     },
     "execution_count": 64,
     "metadata": {},
     "output_type": "execute_result"
    }
   ],
   "source": [
    "data.describe()"
   ]
  },
  {
   "cell_type": "code",
   "execution_count": 65,
   "metadata": {},
   "outputs": [
    {
     "data": {
      "text/html": [
       "<div>\n",
       "<style scoped>\n",
       "    .dataframe tbody tr th:only-of-type {\n",
       "        vertical-align: middle;\n",
       "    }\n",
       "\n",
       "    .dataframe tbody tr th {\n",
       "        vertical-align: top;\n",
       "    }\n",
       "\n",
       "    .dataframe thead th {\n",
       "        text-align: right;\n",
       "    }\n",
       "</style>\n",
       "<table border=\"1\" class=\"dataframe\">\n",
       "  <thead>\n",
       "    <tr style=\"text-align: right;\">\n",
       "      <th></th>\n",
       "      <th>SITE_ID</th>\n",
       "      <th>WRIS ID</th>\n",
       "      <th>LATITUDE</th>\n",
       "      <th>LONGITUDE</th>\n",
       "      <th>SITE_TYPE</th>\n",
       "      <th>STATE_NAME</th>\n",
       "      <th>DISTRICT_NAME</th>\n",
       "      <th>TAHSIL_NAME</th>\n",
       "      <th>BLOCK_NAME</th>\n",
       "      <th>SITE_NAME</th>\n",
       "      <th>...</th>\n",
       "      <th>FLUORIDE</th>\n",
       "      <th>SAR</th>\n",
       "      <th>RSC</th>\n",
       "      <th>SiO2</th>\n",
       "      <th>PO4</th>\n",
       "      <th>TDS</th>\n",
       "      <th>Turbidity</th>\n",
       "      <th>%Na</th>\n",
       "      <th>Arsenic</th>\n",
       "      <th>LR. No</th>\n",
       "    </tr>\n",
       "  </thead>\n",
       "  <tbody>\n",
       "    <tr>\n",
       "      <th>0</th>\n",
       "      <td>W115159092441001</td>\n",
       "      <td>W23881</td>\n",
       "      <td>11.866389</td>\n",
       "      <td>92.736111</td>\n",
       "      <td>Dug Well</td>\n",
       "      <td>Andaman And Nicobar</td>\n",
       "      <td>A &amp; N Islands</td>\n",
       "      <td>Ferrargunj</td>\n",
       "      <td>South Andaman</td>\n",
       "      <td>Shoal  Bay– 15 No.</td>\n",
       "      <td>...</td>\n",
       "      <td>0.37</td>\n",
       "      <td>NaN</td>\n",
       "      <td>NaN</td>\n",
       "      <td>13.97</td>\n",
       "      <td>NaN</td>\n",
       "      <td>217.748</td>\n",
       "      <td>NaN</td>\n",
       "      <td>NaN</td>\n",
       "      <td>NaN</td>\n",
       "      <td>NaN</td>\n",
       "    </tr>\n",
       "    <tr>\n",
       "      <th>1</th>\n",
       "      <td>New</td>\n",
       "      <td>W38814</td>\n",
       "      <td>12.186944</td>\n",
       "      <td>92.791667</td>\n",
       "      <td>Dug Well</td>\n",
       "      <td>Andaman And Nicobar</td>\n",
       "      <td>A &amp; N Islands</td>\n",
       "      <td>Middle Andaman</td>\n",
       "      <td>Baratang Island</td>\n",
       "      <td>South Creek (Sundergarh)</td>\n",
       "      <td>...</td>\n",
       "      <td>0.24</td>\n",
       "      <td>0</td>\n",
       "      <td>0</td>\n",
       "      <td>15.14</td>\n",
       "      <td>0</td>\n",
       "      <td>360.745</td>\n",
       "      <td></td>\n",
       "      <td></td>\n",
       "      <td>0</td>\n",
       "      <td>0</td>\n",
       "    </tr>\n",
       "    <tr>\n",
       "      <th>2</th>\n",
       "      <td>W123014092513301</td>\n",
       "      <td>W24095</td>\n",
       "      <td>12.503889</td>\n",
       "      <td>92.859167</td>\n",
       "      <td>Dug Well</td>\n",
       "      <td>Andaman And Nicobar</td>\n",
       "      <td>A &amp; N Islands</td>\n",
       "      <td>Middle Andaman</td>\n",
       "      <td>Mayabunder</td>\n",
       "      <td>Bakultala</td>\n",
       "      <td>...</td>\n",
       "      <td>0.96</td>\n",
       "      <td>0</td>\n",
       "      <td>0</td>\n",
       "      <td>7.67</td>\n",
       "      <td>0</td>\n",
       "      <td>239.246</td>\n",
       "      <td>NaN</td>\n",
       "      <td>NaN</td>\n",
       "      <td>0</td>\n",
       "      <td>NaN</td>\n",
       "    </tr>\n",
       "    <tr>\n",
       "      <th>3</th>\n",
       "      <td>W123129092581301</td>\n",
       "      <td>W24112</td>\n",
       "      <td>12.524722</td>\n",
       "      <td>92.970278</td>\n",
       "      <td>Dug Well</td>\n",
       "      <td>Andaman And Nicobar</td>\n",
       "      <td>A &amp; N Islands</td>\n",
       "      <td>Middle Andaman</td>\n",
       "      <td>Mayabunder</td>\n",
       "      <td>Nimbutala</td>\n",
       "      <td>...</td>\n",
       "      <td>1.02</td>\n",
       "      <td>0</td>\n",
       "      <td>0</td>\n",
       "      <td>0</td>\n",
       "      <td>0</td>\n",
       "      <td>253.22</td>\n",
       "      <td>NaN</td>\n",
       "      <td>NaN</td>\n",
       "      <td>0</td>\n",
       "      <td>NaN</td>\n",
       "    </tr>\n",
       "    <tr>\n",
       "      <th>4</th>\n",
       "      <td>W123030092573801</td>\n",
       "      <td>W24098</td>\n",
       "      <td>12.508333</td>\n",
       "      <td>92.960556</td>\n",
       "      <td>Dug Well</td>\n",
       "      <td>Andaman And Nicobar</td>\n",
       "      <td>A &amp; N Islands</td>\n",
       "      <td>Middle Andaman</td>\n",
       "      <td>Mayabunder</td>\n",
       "      <td>Padmanavapuram</td>\n",
       "      <td>...</td>\n",
       "      <td>0.74</td>\n",
       "      <td>0</td>\n",
       "      <td>0</td>\n",
       "      <td>10.34</td>\n",
       "      <td>0</td>\n",
       "      <td>185.361</td>\n",
       "      <td>NaN</td>\n",
       "      <td>NaN</td>\n",
       "      <td>0</td>\n",
       "      <td>NaN</td>\n",
       "    </tr>\n",
       "  </tbody>\n",
       "</table>\n",
       "<p>5 rows × 37 columns</p>\n",
       "</div>"
      ],
      "text/plain": [
       "            SITE_ID WRIS ID   LATITUDE  LONGITUDE SITE_TYPE  \\\n",
       "0  W115159092441001  W23881  11.866389  92.736111  Dug Well   \n",
       "1               New  W38814  12.186944  92.791667  Dug Well   \n",
       "2  W123014092513301  W24095  12.503889  92.859167  Dug Well   \n",
       "3  W123129092581301  W24112  12.524722  92.970278  Dug Well   \n",
       "4  W123030092573801  W24098  12.508333  92.960556  Dug Well   \n",
       "\n",
       "            STATE_NAME  DISTRICT_NAME     TAHSIL_NAME       BLOCK_NAME  \\\n",
       "0  Andaman And Nicobar  A & N Islands      Ferrargunj    South Andaman   \n",
       "1  Andaman And Nicobar  A & N Islands  Middle Andaman  Baratang Island   \n",
       "2  Andaman And Nicobar  A & N Islands  Middle Andaman       Mayabunder   \n",
       "3  Andaman And Nicobar  A & N Islands  Middle Andaman       Mayabunder   \n",
       "4  Andaman And Nicobar  A & N Islands  Middle Andaman       Mayabunder   \n",
       "\n",
       "                  SITE_NAME  ... FLUORIDE  SAR  RSC   SiO2  PO4      TDS  \\\n",
       "0        Shoal  Bay– 15 No.  ...     0.37  NaN  NaN  13.97  NaN  217.748   \n",
       "1  South Creek (Sundergarh)  ...     0.24    0    0  15.14    0  360.745   \n",
       "2                 Bakultala  ...     0.96    0    0   7.67    0  239.246   \n",
       "3                 Nimbutala  ...     1.02    0    0      0    0   253.22   \n",
       "4            Padmanavapuram  ...     0.74    0    0  10.34    0  185.361   \n",
       "\n",
       "  Turbidity  %Na Arsenic LR. No  \n",
       "0       NaN  NaN     NaN    NaN  \n",
       "1                      0      0  \n",
       "2       NaN  NaN       0    NaN  \n",
       "3       NaN  NaN       0    NaN  \n",
       "4       NaN  NaN       0    NaN  \n",
       "\n",
       "[5 rows x 37 columns]"
      ]
     },
     "execution_count": 65,
     "metadata": {},
     "output_type": "execute_result"
    }
   ],
   "source": [
    "data.head()"
   ]
  },
  {
   "cell_type": "code",
   "execution_count": 66,
   "metadata": {},
   "outputs": [],
   "source": [
    "new_data = data.filter(['PH','EC','TH','TOT_ALKALINITY','FLUORIDE'], axis=1)"
   ]
  },
  {
   "cell_type": "code",
   "execution_count": 67,
   "metadata": {},
   "outputs": [
    {
     "data": {
      "text/html": [
       "<div>\n",
       "<style scoped>\n",
       "    .dataframe tbody tr th:only-of-type {\n",
       "        vertical-align: middle;\n",
       "    }\n",
       "\n",
       "    .dataframe tbody tr th {\n",
       "        vertical-align: top;\n",
       "    }\n",
       "\n",
       "    .dataframe thead th {\n",
       "        text-align: right;\n",
       "    }\n",
       "</style>\n",
       "<table border=\"1\" class=\"dataframe\">\n",
       "  <thead>\n",
       "    <tr style=\"text-align: right;\">\n",
       "      <th></th>\n",
       "      <th>PH</th>\n",
       "      <th>EC</th>\n",
       "      <th>TH</th>\n",
       "      <th>TOT_ALKALINITY</th>\n",
       "      <th>FLUORIDE</th>\n",
       "    </tr>\n",
       "  </thead>\n",
       "  <tbody>\n",
       "    <tr>\n",
       "      <th>0</th>\n",
       "      <td>8.34</td>\n",
       "      <td>355</td>\n",
       "      <td>130</td>\n",
       "      <td>160</td>\n",
       "      <td>0.37</td>\n",
       "    </tr>\n",
       "    <tr>\n",
       "      <th>1</th>\n",
       "      <td>8.46</td>\n",
       "      <td>596</td>\n",
       "      <td>120</td>\n",
       "      <td>205</td>\n",
       "      <td>0.24</td>\n",
       "    </tr>\n",
       "    <tr>\n",
       "      <th>2</th>\n",
       "      <td>8.11</td>\n",
       "      <td>394</td>\n",
       "      <td>160</td>\n",
       "      <td>155</td>\n",
       "      <td>0.96</td>\n",
       "    </tr>\n",
       "    <tr>\n",
       "      <th>3</th>\n",
       "      <td>7.89</td>\n",
       "      <td>448</td>\n",
       "      <td>200</td>\n",
       "      <td>200</td>\n",
       "      <td>1.02</td>\n",
       "    </tr>\n",
       "    <tr>\n",
       "      <th>4</th>\n",
       "      <td>8.01</td>\n",
       "      <td>309</td>\n",
       "      <td>125</td>\n",
       "      <td>130</td>\n",
       "      <td>0.74</td>\n",
       "    </tr>\n",
       "    <tr>\n",
       "      <th>...</th>\n",
       "      <td>...</td>\n",
       "      <td>...</td>\n",
       "      <td>...</td>\n",
       "      <td>...</td>\n",
       "      <td>...</td>\n",
       "    </tr>\n",
       "    <tr>\n",
       "      <th>85192</th>\n",
       "      <td>7.83</td>\n",
       "      <td>118.1</td>\n",
       "      <td>60</td>\n",
       "      <td>60</td>\n",
       "      <td>0</td>\n",
       "    </tr>\n",
       "    <tr>\n",
       "      <th>85193</th>\n",
       "      <td>7.8</td>\n",
       "      <td>494</td>\n",
       "      <td>125</td>\n",
       "      <td>65</td>\n",
       "      <td>0.05</td>\n",
       "    </tr>\n",
       "    <tr>\n",
       "      <th>85194</th>\n",
       "      <td>7.85</td>\n",
       "      <td>480.9</td>\n",
       "      <td>200</td>\n",
       "      <td>55</td>\n",
       "      <td>0.38</td>\n",
       "    </tr>\n",
       "    <tr>\n",
       "      <th>85195</th>\n",
       "      <td>8.05</td>\n",
       "      <td>39.46</td>\n",
       "      <td>20</td>\n",
       "      <td>20</td>\n",
       "      <td>0</td>\n",
       "    </tr>\n",
       "    <tr>\n",
       "      <th>85196</th>\n",
       "      <td>7.71</td>\n",
       "      <td>530</td>\n",
       "      <td>175</td>\n",
       "      <td>130</td>\n",
       "      <td>0.34</td>\n",
       "    </tr>\n",
       "  </tbody>\n",
       "</table>\n",
       "<p>85197 rows × 5 columns</p>\n",
       "</div>"
      ],
      "text/plain": [
       "         PH     EC   TH TOT_ALKALINITY FLUORIDE\n",
       "0      8.34    355  130            160     0.37\n",
       "1      8.46    596  120            205     0.24\n",
       "2      8.11    394  160            155     0.96\n",
       "3      7.89    448  200            200     1.02\n",
       "4      8.01    309  125            130     0.74\n",
       "...     ...    ...  ...            ...      ...\n",
       "85192  7.83  118.1   60             60        0\n",
       "85193   7.8    494  125             65     0.05\n",
       "85194  7.85  480.9  200             55     0.38\n",
       "85195  8.05  39.46   20             20        0\n",
       "85196  7.71    530  175            130     0.34\n",
       "\n",
       "[85197 rows x 5 columns]"
      ]
     },
     "execution_count": 67,
     "metadata": {},
     "output_type": "execute_result"
    }
   ],
   "source": [
    "new_data"
   ]
  },
  {
   "cell_type": "markdown",
   "metadata": {},
   "source": [
    "# ***Now we have new dataset***"
   ]
  },
  {
   "cell_type": "markdown",
   "metadata": {},
   "source": [
    "### **Now we will save it and do further analysis with it**"
   ]
  },
  {
   "cell_type": "code",
   "execution_count": 68,
   "metadata": {},
   "outputs": [],
   "source": [
    "# we will comment it so that it creates ones\n",
    "# new_data.to_excel('new_data.xlsx',sheet_name='Sheet1')"
   ]
  },
  {
   "cell_type": "code",
   "execution_count": 69,
   "metadata": {},
   "outputs": [
    {
     "data": {
      "text/plain": [
       "PH                85193\n",
       "EC                85194\n",
       "TH                81780\n",
       "TOT_ALKALINITY    68788\n",
       "FLUORIDE          83992\n",
       "dtype: int64"
      ]
     },
     "execution_count": 69,
     "metadata": {},
     "output_type": "execute_result"
    }
   ],
   "source": [
    "new_data.count()"
   ]
  },
  {
   "cell_type": "code",
   "execution_count": 70,
   "metadata": {},
   "outputs": [
    {
     "data": {
      "text/html": [
       "<div>\n",
       "<style scoped>\n",
       "    .dataframe tbody tr th:only-of-type {\n",
       "        vertical-align: middle;\n",
       "    }\n",
       "\n",
       "    .dataframe tbody tr th {\n",
       "        vertical-align: top;\n",
       "    }\n",
       "\n",
       "    .dataframe thead th {\n",
       "        text-align: right;\n",
       "    }\n",
       "</style>\n",
       "<table border=\"1\" class=\"dataframe\">\n",
       "  <thead>\n",
       "    <tr style=\"text-align: right;\">\n",
       "      <th></th>\n",
       "      <th>PH</th>\n",
       "      <th>EC</th>\n",
       "      <th>TH</th>\n",
       "      <th>TOT_ALKALINITY</th>\n",
       "      <th>FLUORIDE</th>\n",
       "    </tr>\n",
       "  </thead>\n",
       "  <tbody>\n",
       "    <tr>\n",
       "      <th>count</th>\n",
       "      <td>85193</td>\n",
       "      <td>85194</td>\n",
       "      <td>81780</td>\n",
       "      <td>68788</td>\n",
       "      <td>83992</td>\n",
       "    </tr>\n",
       "    <tr>\n",
       "      <th>unique</th>\n",
       "      <td>1456</td>\n",
       "      <td>6626</td>\n",
       "      <td>3986</td>\n",
       "      <td>5012</td>\n",
       "      <td>5002</td>\n",
       "    </tr>\n",
       "    <tr>\n",
       "      <th>top</th>\n",
       "      <td>8</td>\n",
       "      <td>400</td>\n",
       "      <td>ND</td>\n",
       "      <td>ND</td>\n",
       "      <td>0</td>\n",
       "    </tr>\n",
       "    <tr>\n",
       "      <th>freq</th>\n",
       "      <td>3664</td>\n",
       "      <td>504</td>\n",
       "      <td>5515</td>\n",
       "      <td>12299</td>\n",
       "      <td>2596</td>\n",
       "    </tr>\n",
       "  </tbody>\n",
       "</table>\n",
       "</div>"
      ],
      "text/plain": [
       "           PH     EC     TH TOT_ALKALINITY  FLUORIDE\n",
       "count   85193  85194  81780          68788     83992\n",
       "unique   1456   6626   3986           5012      5002\n",
       "top         8    400     ND             ND         0\n",
       "freq     3664    504   5515          12299      2596"
      ]
     },
     "execution_count": 70,
     "metadata": {},
     "output_type": "execute_result"
    }
   ],
   "source": [
    "new_data.describe()"
   ]
  },
  {
   "cell_type": "code",
   "execution_count": 71,
   "metadata": {},
   "outputs": [
    {
     "data": {
      "text/plain": [
       "(85197, 5)"
      ]
     },
     "execution_count": 71,
     "metadata": {},
     "output_type": "execute_result"
    }
   ],
   "source": [
    "new_data.shape"
   ]
  },
  {
   "cell_type": "markdown",
   "metadata": {},
   "source": [
    "> Now we will drop rows where Fluoride is Na"
   ]
  },
  {
   "cell_type": "code",
   "execution_count": 72,
   "metadata": {},
   "outputs": [],
   "source": [
    "new_data = new_data.dropna(subset=[\"FLUORIDE\"])"
   ]
  },
  {
   "cell_type": "code",
   "execution_count": 73,
   "metadata": {},
   "outputs": [
    {
     "data": {
      "text/plain": [
       "(83992, 5)"
      ]
     },
     "execution_count": 73,
     "metadata": {},
     "output_type": "execute_result"
    }
   ],
   "source": [
    "new_data.shape"
   ]
  },
  {
   "cell_type": "code",
   "execution_count": 74,
   "metadata": {},
   "outputs": [
    {
     "data": {
      "text/plain": [
       "1"
      ]
     },
     "execution_count": 74,
     "metadata": {},
     "output_type": "execute_result"
    }
   ],
   "source": [
    "new_data['PH'].isna().sum()"
   ]
  },
  {
   "cell_type": "code",
   "execution_count": 75,
   "metadata": {},
   "outputs": [
    {
     "data": {
      "text/plain": [
       "0"
      ]
     },
     "execution_count": 75,
     "metadata": {},
     "output_type": "execute_result"
    }
   ],
   "source": [
    "new_data['EC'].isna().sum()"
   ]
  },
  {
   "cell_type": "code",
   "execution_count": 76,
   "metadata": {},
   "outputs": [
    {
     "data": {
      "text/plain": [
       "3411"
      ]
     },
     "execution_count": 76,
     "metadata": {},
     "output_type": "execute_result"
    }
   ],
   "source": [
    "new_data['TH'].isna().sum()"
   ]
  },
  {
   "cell_type": "code",
   "execution_count": 77,
   "metadata": {},
   "outputs": [
    {
     "data": {
      "text/plain": [
       "16392"
      ]
     },
     "execution_count": 77,
     "metadata": {},
     "output_type": "execute_result"
    }
   ],
   "source": [
    "\n",
    "new_data['TOT_ALKALINITY'].isna().sum()"
   ]
  },
  {
   "cell_type": "code",
   "execution_count": 78,
   "metadata": {},
   "outputs": [
    {
     "data": {
      "text/plain": [
       "0"
      ]
     },
     "execution_count": 78,
     "metadata": {},
     "output_type": "execute_result"
    }
   ],
   "source": [
    "new_data['FLUORIDE'].isna().sum()"
   ]
  },
  {
   "cell_type": "markdown",
   "metadata": {},
   "source": [
    "> **Now we will fill the black cell of features**"
   ]
  },
  {
   "cell_type": "code",
   "execution_count": 104,
   "metadata": {},
   "outputs": [],
   "source": [
    "new_data = new_data.assign(PH = new_data['PH'].fillna(new_data['PH'].median))\n",
    "# new_data['PH'] = new_data['PH'].fillna(new_data['PH'].median)"
   ]
  },
  {
   "cell_type": "code",
   "execution_count": 105,
   "metadata": {},
   "outputs": [],
   "source": [
    "new_data = new_data.assign(EC = new_data['EC'].fillna(new_data['EC'].median))\n",
    "# new_data.loc[:][1] = new_data['EC'].fillna(new_data['EC'].median)"
   ]
  },
  {
   "cell_type": "code",
   "execution_count": 106,
   "metadata": {},
   "outputs": [],
   "source": [
    "new_data = new_data.assign(TH = new_data['TH'].fillna(new_data['TH'].median))\n",
    "# new_data.loc[:][2] = new_data['TH'].fillna(new_data['TH'].median)"
   ]
  },
  {
   "cell_type": "code",
   "execution_count": 107,
   "metadata": {},
   "outputs": [],
   "source": [
    "new_data = new_data.assign(TOT_ALKALINITY = new_data['TOT_ALKALINITY'].fillna(new_data['TOT_ALKALINITY'].median))\n",
    "# new_data.loc[:][3] = new_data['TOT_ALKALINITY'].fillna(new_data['TOT_ALKALINITY'].median)"
   ]
  },
  {
   "cell_type": "code",
   "execution_count": 108,
   "metadata": {},
   "outputs": [
    {
     "data": {
      "text/plain": [
       "PH                83992\n",
       "EC                83992\n",
       "TH                83992\n",
       "TOT_ALKALINITY    83992\n",
       "FLUORIDE          83992\n",
       "dtype: int64"
      ]
     },
     "execution_count": 108,
     "metadata": {},
     "output_type": "execute_result"
    }
   ],
   "source": [
    "new_data.count()"
   ]
  },
  {
   "cell_type": "markdown",
   "metadata": {},
   "source": [
    "# ***Now our data is ready to go further***"
   ]
  },
  {
   "cell_type": "markdown",
   "metadata": {},
   "source": []
  }
 ],
 "metadata": {
  "interpreter": {
   "hash": "511af204477f64cd3f86470125d8547560b6bd106e7b0ab2f429ad15e1c7f50a"
  },
  "kernelspec": {
   "display_name": "Python 3.9.2 ('venv': venv)",
   "language": "python",
   "name": "python3"
  },
  "language_info": {
   "codemirror_mode": {
    "name": "ipython",
    "version": 3
   },
   "file_extension": ".py",
   "mimetype": "text/x-python",
   "name": "python",
   "nbconvert_exporter": "python",
   "pygments_lexer": "ipython3",
   "version": "3.9.2"
  },
  "orig_nbformat": 4
 },
 "nbformat": 4,
 "nbformat_minor": 2
}
