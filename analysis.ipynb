{
 "cells": [
  {
   "cell_type": "markdown",
   "metadata": {},
   "source": [
    "# ***Water Analysis***"
   ]
  },
  {
   "cell_type": "markdown",
   "metadata": {},
   "source": [
    "> importing modules"
   ]
  },
  {
   "cell_type": "code",
   "execution_count": 1,
   "metadata": {},
   "outputs": [],
   "source": [
    "import numpy as np\n",
    "import pandas as pd "
   ]
  },
  {
   "cell_type": "markdown",
   "metadata": {},
   "source": [
    "> imporing data from excell sheet"
   ]
  },
  {
   "cell_type": "code",
   "execution_count": 2,
   "metadata": {},
   "outputs": [],
   "source": [
    "data = pd.read_excel(\"GWQ_2010-2018.xlsx\",sheet_name=\"Sheet1\")"
   ]
  },
  {
   "cell_type": "markdown",
   "metadata": {},
   "source": [
    "### Basic data analysis"
   ]
  },
  {
   "cell_type": "code",
   "execution_count": 3,
   "metadata": {},
   "outputs": [
    {
     "data": {
      "text/html": [
       "<div>\n",
       "<style scoped>\n",
       "    .dataframe tbody tr th:only-of-type {\n",
       "        vertical-align: middle;\n",
       "    }\n",
       "\n",
       "    .dataframe tbody tr th {\n",
       "        vertical-align: top;\n",
       "    }\n",
       "\n",
       "    .dataframe thead th {\n",
       "        text-align: right;\n",
       "    }\n",
       "</style>\n",
       "<table border=\"1\" class=\"dataframe\">\n",
       "  <thead>\n",
       "    <tr style=\"text-align: right;\">\n",
       "      <th></th>\n",
       "      <th>SITE_ID</th>\n",
       "      <th>WRIS ID</th>\n",
       "      <th>LATITUDE</th>\n",
       "      <th>LONGITUDE</th>\n",
       "      <th>SITE_TYPE</th>\n",
       "      <th>STATE_NAME</th>\n",
       "      <th>DISTRICT_NAME</th>\n",
       "      <th>TAHSIL_NAME</th>\n",
       "      <th>BLOCK_NAME</th>\n",
       "      <th>SITE_NAME</th>\n",
       "      <th>...</th>\n",
       "      <th>FLUORIDE</th>\n",
       "      <th>SAR</th>\n",
       "      <th>RSC</th>\n",
       "      <th>SiO2</th>\n",
       "      <th>PO4</th>\n",
       "      <th>TDS</th>\n",
       "      <th>Turbidity</th>\n",
       "      <th>%Na</th>\n",
       "      <th>Arsenic</th>\n",
       "      <th>LR. No</th>\n",
       "    </tr>\n",
       "  </thead>\n",
       "  <tbody>\n",
       "    <tr>\n",
       "      <th>0</th>\n",
       "      <td>W115159092441001</td>\n",
       "      <td>W23881</td>\n",
       "      <td>11.866389</td>\n",
       "      <td>92.736111</td>\n",
       "      <td>Dug Well</td>\n",
       "      <td>Andaman And Nicobar</td>\n",
       "      <td>A &amp; N Islands</td>\n",
       "      <td>Ferrargunj</td>\n",
       "      <td>South Andaman</td>\n",
       "      <td>Shoal  Bay– 15 No.</td>\n",
       "      <td>...</td>\n",
       "      <td>0.37</td>\n",
       "      <td>NaN</td>\n",
       "      <td>NaN</td>\n",
       "      <td>13.97</td>\n",
       "      <td>NaN</td>\n",
       "      <td>217.748</td>\n",
       "      <td>NaN</td>\n",
       "      <td>NaN</td>\n",
       "      <td>NaN</td>\n",
       "      <td>NaN</td>\n",
       "    </tr>\n",
       "    <tr>\n",
       "      <th>1</th>\n",
       "      <td>New</td>\n",
       "      <td>W38814</td>\n",
       "      <td>12.186944</td>\n",
       "      <td>92.791667</td>\n",
       "      <td>Dug Well</td>\n",
       "      <td>Andaman And Nicobar</td>\n",
       "      <td>A &amp; N Islands</td>\n",
       "      <td>Middle Andaman</td>\n",
       "      <td>Baratang Island</td>\n",
       "      <td>South Creek (Sundergarh)</td>\n",
       "      <td>...</td>\n",
       "      <td>0.24</td>\n",
       "      <td>0</td>\n",
       "      <td>0</td>\n",
       "      <td>15.14</td>\n",
       "      <td>0</td>\n",
       "      <td>360.745</td>\n",
       "      <td></td>\n",
       "      <td></td>\n",
       "      <td>0</td>\n",
       "      <td>0</td>\n",
       "    </tr>\n",
       "    <tr>\n",
       "      <th>2</th>\n",
       "      <td>W123014092513301</td>\n",
       "      <td>W24095</td>\n",
       "      <td>12.503889</td>\n",
       "      <td>92.859167</td>\n",
       "      <td>Dug Well</td>\n",
       "      <td>Andaman And Nicobar</td>\n",
       "      <td>A &amp; N Islands</td>\n",
       "      <td>Middle Andaman</td>\n",
       "      <td>Mayabunder</td>\n",
       "      <td>Bakultala</td>\n",
       "      <td>...</td>\n",
       "      <td>0.96</td>\n",
       "      <td>0</td>\n",
       "      <td>0</td>\n",
       "      <td>7.67</td>\n",
       "      <td>0</td>\n",
       "      <td>239.246</td>\n",
       "      <td>NaN</td>\n",
       "      <td>NaN</td>\n",
       "      <td>0</td>\n",
       "      <td>NaN</td>\n",
       "    </tr>\n",
       "    <tr>\n",
       "      <th>3</th>\n",
       "      <td>W123129092581301</td>\n",
       "      <td>W24112</td>\n",
       "      <td>12.524722</td>\n",
       "      <td>92.970278</td>\n",
       "      <td>Dug Well</td>\n",
       "      <td>Andaman And Nicobar</td>\n",
       "      <td>A &amp; N Islands</td>\n",
       "      <td>Middle Andaman</td>\n",
       "      <td>Mayabunder</td>\n",
       "      <td>Nimbutala</td>\n",
       "      <td>...</td>\n",
       "      <td>1.02</td>\n",
       "      <td>0</td>\n",
       "      <td>0</td>\n",
       "      <td>0</td>\n",
       "      <td>0</td>\n",
       "      <td>253.22</td>\n",
       "      <td>NaN</td>\n",
       "      <td>NaN</td>\n",
       "      <td>0</td>\n",
       "      <td>NaN</td>\n",
       "    </tr>\n",
       "    <tr>\n",
       "      <th>4</th>\n",
       "      <td>W123030092573801</td>\n",
       "      <td>W24098</td>\n",
       "      <td>12.508333</td>\n",
       "      <td>92.960556</td>\n",
       "      <td>Dug Well</td>\n",
       "      <td>Andaman And Nicobar</td>\n",
       "      <td>A &amp; N Islands</td>\n",
       "      <td>Middle Andaman</td>\n",
       "      <td>Mayabunder</td>\n",
       "      <td>Padmanavapuram</td>\n",
       "      <td>...</td>\n",
       "      <td>0.74</td>\n",
       "      <td>0</td>\n",
       "      <td>0</td>\n",
       "      <td>10.34</td>\n",
       "      <td>0</td>\n",
       "      <td>185.361</td>\n",
       "      <td>NaN</td>\n",
       "      <td>NaN</td>\n",
       "      <td>0</td>\n",
       "      <td>NaN</td>\n",
       "    </tr>\n",
       "  </tbody>\n",
       "</table>\n",
       "<p>5 rows × 37 columns</p>\n",
       "</div>"
      ],
      "text/plain": [
       "            SITE_ID WRIS ID   LATITUDE  LONGITUDE SITE_TYPE  \\\n",
       "0  W115159092441001  W23881  11.866389  92.736111  Dug Well   \n",
       "1               New  W38814  12.186944  92.791667  Dug Well   \n",
       "2  W123014092513301  W24095  12.503889  92.859167  Dug Well   \n",
       "3  W123129092581301  W24112  12.524722  92.970278  Dug Well   \n",
       "4  W123030092573801  W24098  12.508333  92.960556  Dug Well   \n",
       "\n",
       "            STATE_NAME  DISTRICT_NAME     TAHSIL_NAME       BLOCK_NAME  \\\n",
       "0  Andaman And Nicobar  A & N Islands      Ferrargunj    South Andaman   \n",
       "1  Andaman And Nicobar  A & N Islands  Middle Andaman  Baratang Island   \n",
       "2  Andaman And Nicobar  A & N Islands  Middle Andaman       Mayabunder   \n",
       "3  Andaman And Nicobar  A & N Islands  Middle Andaman       Mayabunder   \n",
       "4  Andaman And Nicobar  A & N Islands  Middle Andaman       Mayabunder   \n",
       "\n",
       "                  SITE_NAME  ... FLUORIDE  SAR  RSC   SiO2  PO4      TDS  \\\n",
       "0        Shoal  Bay– 15 No.  ...     0.37  NaN  NaN  13.97  NaN  217.748   \n",
       "1  South Creek (Sundergarh)  ...     0.24    0    0  15.14    0  360.745   \n",
       "2                 Bakultala  ...     0.96    0    0   7.67    0  239.246   \n",
       "3                 Nimbutala  ...     1.02    0    0      0    0   253.22   \n",
       "4            Padmanavapuram  ...     0.74    0    0  10.34    0  185.361   \n",
       "\n",
       "  Turbidity  %Na Arsenic LR. No  \n",
       "0       NaN  NaN     NaN    NaN  \n",
       "1                      0      0  \n",
       "2       NaN  NaN       0    NaN  \n",
       "3       NaN  NaN       0    NaN  \n",
       "4       NaN  NaN       0    NaN  \n",
       "\n",
       "[5 rows x 37 columns]"
      ]
     },
     "execution_count": 3,
     "metadata": {},
     "output_type": "execute_result"
    }
   ],
   "source": [
    "data.head()"
   ]
  },
  {
   "cell_type": "code",
   "execution_count": 4,
   "metadata": {},
   "outputs": [
    {
     "data": {
      "text/plain": [
       "SITE_ID           85197\n",
       "WRIS ID           85197\n",
       "LATITUDE          84916\n",
       "LONGITUDE         84916\n",
       "SITE_TYPE         85197\n",
       "STATE_NAME        85197\n",
       "DISTRICT_NAME     85196\n",
       "TAHSIL_NAME       85085\n",
       "BLOCK_NAME        85071\n",
       "SITE_NAME         85197\n",
       "BASIN_NAME        85197\n",
       "PROJECT_NAME      85197\n",
       "year              85197\n",
       "PH                85193\n",
       "EC                85194\n",
       "TH                81780\n",
       "TOT_ALKALINITY    68788\n",
       "CA                82060\n",
       "MG                82049\n",
       "NA                82056\n",
       "K                 81988\n",
       "FE                68575\n",
       "CARBONATE         79104\n",
       "BICARBONATE       81973\n",
       "CHLORIDE          85185\n",
       "SULPHATE          82060\n",
       "NITRATE           81056\n",
       "FLUORIDE          83992\n",
       "SAR               69351\n",
       "RSC               67521\n",
       "SiO2              21338\n",
       "PO4               22929\n",
       "TDS               21477\n",
       "Turbidity          3409\n",
       "%Na                4025\n",
       "Arsenic           15535\n",
       "LR. No            10911\n",
       "dtype: int64"
      ]
     },
     "execution_count": 4,
     "metadata": {},
     "output_type": "execute_result"
    }
   ],
   "source": [
    "data.count()"
   ]
  },
  {
   "cell_type": "code",
   "execution_count": 5,
   "metadata": {},
   "outputs": [
    {
     "data": {
      "text/html": [
       "<div>\n",
       "<style scoped>\n",
       "    .dataframe tbody tr th:only-of-type {\n",
       "        vertical-align: middle;\n",
       "    }\n",
       "\n",
       "    .dataframe tbody tr th {\n",
       "        vertical-align: top;\n",
       "    }\n",
       "\n",
       "    .dataframe thead th {\n",
       "        text-align: right;\n",
       "    }\n",
       "</style>\n",
       "<table border=\"1\" class=\"dataframe\">\n",
       "  <thead>\n",
       "    <tr style=\"text-align: right;\">\n",
       "      <th></th>\n",
       "      <th>year</th>\n",
       "    </tr>\n",
       "  </thead>\n",
       "  <tbody>\n",
       "    <tr>\n",
       "      <th>count</th>\n",
       "      <td>85197.000000</td>\n",
       "    </tr>\n",
       "    <tr>\n",
       "      <th>mean</th>\n",
       "      <td>2014.493738</td>\n",
       "    </tr>\n",
       "    <tr>\n",
       "      <th>std</th>\n",
       "      <td>2.551327</td>\n",
       "    </tr>\n",
       "    <tr>\n",
       "      <th>min</th>\n",
       "      <td>2010.000000</td>\n",
       "    </tr>\n",
       "    <tr>\n",
       "      <th>25%</th>\n",
       "      <td>2012.000000</td>\n",
       "    </tr>\n",
       "    <tr>\n",
       "      <th>50%</th>\n",
       "      <td>2015.000000</td>\n",
       "    </tr>\n",
       "    <tr>\n",
       "      <th>75%</th>\n",
       "      <td>2017.000000</td>\n",
       "    </tr>\n",
       "    <tr>\n",
       "      <th>max</th>\n",
       "      <td>2018.000000</td>\n",
       "    </tr>\n",
       "  </tbody>\n",
       "</table>\n",
       "</div>"
      ],
      "text/plain": [
       "               year\n",
       "count  85197.000000\n",
       "mean    2014.493738\n",
       "std        2.551327\n",
       "min     2010.000000\n",
       "25%     2012.000000\n",
       "50%     2015.000000\n",
       "75%     2017.000000\n",
       "max     2018.000000"
      ]
     },
     "execution_count": 5,
     "metadata": {},
     "output_type": "execute_result"
    }
   ],
   "source": [
    "data.describe()"
   ]
  },
  {
   "cell_type": "code",
   "execution_count": 6,
   "metadata": {},
   "outputs": [
    {
     "data": {
      "text/html": [
       "<div>\n",
       "<style scoped>\n",
       "    .dataframe tbody tr th:only-of-type {\n",
       "        vertical-align: middle;\n",
       "    }\n",
       "\n",
       "    .dataframe tbody tr th {\n",
       "        vertical-align: top;\n",
       "    }\n",
       "\n",
       "    .dataframe thead th {\n",
       "        text-align: right;\n",
       "    }\n",
       "</style>\n",
       "<table border=\"1\" class=\"dataframe\">\n",
       "  <thead>\n",
       "    <tr style=\"text-align: right;\">\n",
       "      <th></th>\n",
       "      <th>SITE_ID</th>\n",
       "      <th>WRIS ID</th>\n",
       "      <th>LATITUDE</th>\n",
       "      <th>LONGITUDE</th>\n",
       "      <th>SITE_TYPE</th>\n",
       "      <th>STATE_NAME</th>\n",
       "      <th>DISTRICT_NAME</th>\n",
       "      <th>TAHSIL_NAME</th>\n",
       "      <th>BLOCK_NAME</th>\n",
       "      <th>SITE_NAME</th>\n",
       "      <th>...</th>\n",
       "      <th>FLUORIDE</th>\n",
       "      <th>SAR</th>\n",
       "      <th>RSC</th>\n",
       "      <th>SiO2</th>\n",
       "      <th>PO4</th>\n",
       "      <th>TDS</th>\n",
       "      <th>Turbidity</th>\n",
       "      <th>%Na</th>\n",
       "      <th>Arsenic</th>\n",
       "      <th>LR. No</th>\n",
       "    </tr>\n",
       "  </thead>\n",
       "  <tbody>\n",
       "    <tr>\n",
       "      <th>0</th>\n",
       "      <td>W115159092441001</td>\n",
       "      <td>W23881</td>\n",
       "      <td>11.866389</td>\n",
       "      <td>92.736111</td>\n",
       "      <td>Dug Well</td>\n",
       "      <td>Andaman And Nicobar</td>\n",
       "      <td>A &amp; N Islands</td>\n",
       "      <td>Ferrargunj</td>\n",
       "      <td>South Andaman</td>\n",
       "      <td>Shoal  Bay– 15 No.</td>\n",
       "      <td>...</td>\n",
       "      <td>0.37</td>\n",
       "      <td>NaN</td>\n",
       "      <td>NaN</td>\n",
       "      <td>13.97</td>\n",
       "      <td>NaN</td>\n",
       "      <td>217.748</td>\n",
       "      <td>NaN</td>\n",
       "      <td>NaN</td>\n",
       "      <td>NaN</td>\n",
       "      <td>NaN</td>\n",
       "    </tr>\n",
       "    <tr>\n",
       "      <th>1</th>\n",
       "      <td>New</td>\n",
       "      <td>W38814</td>\n",
       "      <td>12.186944</td>\n",
       "      <td>92.791667</td>\n",
       "      <td>Dug Well</td>\n",
       "      <td>Andaman And Nicobar</td>\n",
       "      <td>A &amp; N Islands</td>\n",
       "      <td>Middle Andaman</td>\n",
       "      <td>Baratang Island</td>\n",
       "      <td>South Creek (Sundergarh)</td>\n",
       "      <td>...</td>\n",
       "      <td>0.24</td>\n",
       "      <td>0</td>\n",
       "      <td>0</td>\n",
       "      <td>15.14</td>\n",
       "      <td>0</td>\n",
       "      <td>360.745</td>\n",
       "      <td></td>\n",
       "      <td></td>\n",
       "      <td>0</td>\n",
       "      <td>0</td>\n",
       "    </tr>\n",
       "    <tr>\n",
       "      <th>2</th>\n",
       "      <td>W123014092513301</td>\n",
       "      <td>W24095</td>\n",
       "      <td>12.503889</td>\n",
       "      <td>92.859167</td>\n",
       "      <td>Dug Well</td>\n",
       "      <td>Andaman And Nicobar</td>\n",
       "      <td>A &amp; N Islands</td>\n",
       "      <td>Middle Andaman</td>\n",
       "      <td>Mayabunder</td>\n",
       "      <td>Bakultala</td>\n",
       "      <td>...</td>\n",
       "      <td>0.96</td>\n",
       "      <td>0</td>\n",
       "      <td>0</td>\n",
       "      <td>7.67</td>\n",
       "      <td>0</td>\n",
       "      <td>239.246</td>\n",
       "      <td>NaN</td>\n",
       "      <td>NaN</td>\n",
       "      <td>0</td>\n",
       "      <td>NaN</td>\n",
       "    </tr>\n",
       "    <tr>\n",
       "      <th>3</th>\n",
       "      <td>W123129092581301</td>\n",
       "      <td>W24112</td>\n",
       "      <td>12.524722</td>\n",
       "      <td>92.970278</td>\n",
       "      <td>Dug Well</td>\n",
       "      <td>Andaman And Nicobar</td>\n",
       "      <td>A &amp; N Islands</td>\n",
       "      <td>Middle Andaman</td>\n",
       "      <td>Mayabunder</td>\n",
       "      <td>Nimbutala</td>\n",
       "      <td>...</td>\n",
       "      <td>1.02</td>\n",
       "      <td>0</td>\n",
       "      <td>0</td>\n",
       "      <td>0</td>\n",
       "      <td>0</td>\n",
       "      <td>253.22</td>\n",
       "      <td>NaN</td>\n",
       "      <td>NaN</td>\n",
       "      <td>0</td>\n",
       "      <td>NaN</td>\n",
       "    </tr>\n",
       "    <tr>\n",
       "      <th>4</th>\n",
       "      <td>W123030092573801</td>\n",
       "      <td>W24098</td>\n",
       "      <td>12.508333</td>\n",
       "      <td>92.960556</td>\n",
       "      <td>Dug Well</td>\n",
       "      <td>Andaman And Nicobar</td>\n",
       "      <td>A &amp; N Islands</td>\n",
       "      <td>Middle Andaman</td>\n",
       "      <td>Mayabunder</td>\n",
       "      <td>Padmanavapuram</td>\n",
       "      <td>...</td>\n",
       "      <td>0.74</td>\n",
       "      <td>0</td>\n",
       "      <td>0</td>\n",
       "      <td>10.34</td>\n",
       "      <td>0</td>\n",
       "      <td>185.361</td>\n",
       "      <td>NaN</td>\n",
       "      <td>NaN</td>\n",
       "      <td>0</td>\n",
       "      <td>NaN</td>\n",
       "    </tr>\n",
       "  </tbody>\n",
       "</table>\n",
       "<p>5 rows × 37 columns</p>\n",
       "</div>"
      ],
      "text/plain": [
       "            SITE_ID WRIS ID   LATITUDE  LONGITUDE SITE_TYPE  \\\n",
       "0  W115159092441001  W23881  11.866389  92.736111  Dug Well   \n",
       "1               New  W38814  12.186944  92.791667  Dug Well   \n",
       "2  W123014092513301  W24095  12.503889  92.859167  Dug Well   \n",
       "3  W123129092581301  W24112  12.524722  92.970278  Dug Well   \n",
       "4  W123030092573801  W24098  12.508333  92.960556  Dug Well   \n",
       "\n",
       "            STATE_NAME  DISTRICT_NAME     TAHSIL_NAME       BLOCK_NAME  \\\n",
       "0  Andaman And Nicobar  A & N Islands      Ferrargunj    South Andaman   \n",
       "1  Andaman And Nicobar  A & N Islands  Middle Andaman  Baratang Island   \n",
       "2  Andaman And Nicobar  A & N Islands  Middle Andaman       Mayabunder   \n",
       "3  Andaman And Nicobar  A & N Islands  Middle Andaman       Mayabunder   \n",
       "4  Andaman And Nicobar  A & N Islands  Middle Andaman       Mayabunder   \n",
       "\n",
       "                  SITE_NAME  ... FLUORIDE  SAR  RSC   SiO2  PO4      TDS  \\\n",
       "0        Shoal  Bay– 15 No.  ...     0.37  NaN  NaN  13.97  NaN  217.748   \n",
       "1  South Creek (Sundergarh)  ...     0.24    0    0  15.14    0  360.745   \n",
       "2                 Bakultala  ...     0.96    0    0   7.67    0  239.246   \n",
       "3                 Nimbutala  ...     1.02    0    0      0    0   253.22   \n",
       "4            Padmanavapuram  ...     0.74    0    0  10.34    0  185.361   \n",
       "\n",
       "  Turbidity  %Na Arsenic LR. No  \n",
       "0       NaN  NaN     NaN    NaN  \n",
       "1                      0      0  \n",
       "2       NaN  NaN       0    NaN  \n",
       "3       NaN  NaN       0    NaN  \n",
       "4       NaN  NaN       0    NaN  \n",
       "\n",
       "[5 rows x 37 columns]"
      ]
     },
     "execution_count": 6,
     "metadata": {},
     "output_type": "execute_result"
    }
   ],
   "source": [
    "data.head()"
   ]
  },
  {
   "cell_type": "code",
   "execution_count": 7,
   "metadata": {},
   "outputs": [],
   "source": [
    "neww_data = data.filter(['PH','EC','TH','TOT_ALKALINITY','FLUORIDE'], axis=1)"
   ]
  },
  {
   "cell_type": "code",
   "execution_count": 8,
   "metadata": {},
   "outputs": [
    {
     "data": {
      "text/html": [
       "<div>\n",
       "<style scoped>\n",
       "    .dataframe tbody tr th:only-of-type {\n",
       "        vertical-align: middle;\n",
       "    }\n",
       "\n",
       "    .dataframe tbody tr th {\n",
       "        vertical-align: top;\n",
       "    }\n",
       "\n",
       "    .dataframe thead th {\n",
       "        text-align: right;\n",
       "    }\n",
       "</style>\n",
       "<table border=\"1\" class=\"dataframe\">\n",
       "  <thead>\n",
       "    <tr style=\"text-align: right;\">\n",
       "      <th></th>\n",
       "      <th>PH</th>\n",
       "      <th>EC</th>\n",
       "      <th>TH</th>\n",
       "      <th>TOT_ALKALINITY</th>\n",
       "      <th>FLUORIDE</th>\n",
       "    </tr>\n",
       "  </thead>\n",
       "  <tbody>\n",
       "    <tr>\n",
       "      <th>0</th>\n",
       "      <td>8.34</td>\n",
       "      <td>355</td>\n",
       "      <td>130</td>\n",
       "      <td>160</td>\n",
       "      <td>0.37</td>\n",
       "    </tr>\n",
       "    <tr>\n",
       "      <th>1</th>\n",
       "      <td>8.46</td>\n",
       "      <td>596</td>\n",
       "      <td>120</td>\n",
       "      <td>205</td>\n",
       "      <td>0.24</td>\n",
       "    </tr>\n",
       "    <tr>\n",
       "      <th>2</th>\n",
       "      <td>8.11</td>\n",
       "      <td>394</td>\n",
       "      <td>160</td>\n",
       "      <td>155</td>\n",
       "      <td>0.96</td>\n",
       "    </tr>\n",
       "    <tr>\n",
       "      <th>3</th>\n",
       "      <td>7.89</td>\n",
       "      <td>448</td>\n",
       "      <td>200</td>\n",
       "      <td>200</td>\n",
       "      <td>1.02</td>\n",
       "    </tr>\n",
       "    <tr>\n",
       "      <th>4</th>\n",
       "      <td>8.01</td>\n",
       "      <td>309</td>\n",
       "      <td>125</td>\n",
       "      <td>130</td>\n",
       "      <td>0.74</td>\n",
       "    </tr>\n",
       "    <tr>\n",
       "      <th>...</th>\n",
       "      <td>...</td>\n",
       "      <td>...</td>\n",
       "      <td>...</td>\n",
       "      <td>...</td>\n",
       "      <td>...</td>\n",
       "    </tr>\n",
       "    <tr>\n",
       "      <th>85192</th>\n",
       "      <td>7.83</td>\n",
       "      <td>118.1</td>\n",
       "      <td>60</td>\n",
       "      <td>60</td>\n",
       "      <td>0</td>\n",
       "    </tr>\n",
       "    <tr>\n",
       "      <th>85193</th>\n",
       "      <td>7.8</td>\n",
       "      <td>494</td>\n",
       "      <td>125</td>\n",
       "      <td>65</td>\n",
       "      <td>0.05</td>\n",
       "    </tr>\n",
       "    <tr>\n",
       "      <th>85194</th>\n",
       "      <td>7.85</td>\n",
       "      <td>480.9</td>\n",
       "      <td>200</td>\n",
       "      <td>55</td>\n",
       "      <td>0.38</td>\n",
       "    </tr>\n",
       "    <tr>\n",
       "      <th>85195</th>\n",
       "      <td>8.05</td>\n",
       "      <td>39.46</td>\n",
       "      <td>20</td>\n",
       "      <td>20</td>\n",
       "      <td>0</td>\n",
       "    </tr>\n",
       "    <tr>\n",
       "      <th>85196</th>\n",
       "      <td>7.71</td>\n",
       "      <td>530</td>\n",
       "      <td>175</td>\n",
       "      <td>130</td>\n",
       "      <td>0.34</td>\n",
       "    </tr>\n",
       "  </tbody>\n",
       "</table>\n",
       "<p>85197 rows × 5 columns</p>\n",
       "</div>"
      ],
      "text/plain": [
       "         PH     EC   TH TOT_ALKALINITY FLUORIDE\n",
       "0      8.34    355  130            160     0.37\n",
       "1      8.46    596  120            205     0.24\n",
       "2      8.11    394  160            155     0.96\n",
       "3      7.89    448  200            200     1.02\n",
       "4      8.01    309  125            130     0.74\n",
       "...     ...    ...  ...            ...      ...\n",
       "85192  7.83  118.1   60             60        0\n",
       "85193   7.8    494  125             65     0.05\n",
       "85194  7.85  480.9  200             55     0.38\n",
       "85195  8.05  39.46   20             20        0\n",
       "85196  7.71    530  175            130     0.34\n",
       "\n",
       "[85197 rows x 5 columns]"
      ]
     },
     "execution_count": 8,
     "metadata": {},
     "output_type": "execute_result"
    }
   ],
   "source": [
    "neww_data"
   ]
  },
  {
   "cell_type": "markdown",
   "metadata": {},
   "source": [
    "# ***Now we have new dataset***"
   ]
  },
  {
   "cell_type": "markdown",
   "metadata": {},
   "source": [
    "### **Now we will save it and do further analysis with it**"
   ]
  },
  {
   "cell_type": "code",
   "execution_count": 9,
   "metadata": {},
   "outputs": [],
   "source": [
    "# we will comment it so that it creates ones\n",
    "# neww_data.to_excel('new_data.xlsx',sheet_name='Sheet1')"
   ]
  },
  {
   "cell_type": "code",
   "execution_count": 10,
   "metadata": {},
   "outputs": [
    {
     "data": {
      "text/plain": [
       "PH                83676\n",
       "EC                84842\n",
       "TH                76262\n",
       "TOT_ALKALINITY    53287\n",
       "FLUORIDE          79563\n",
       "dtype: int64"
      ]
     },
     "execution_count": 10,
     "metadata": {},
     "output_type": "execute_result"
    }
   ],
   "source": [
    "new_data = pd.read_excel(\"new_data.xlsx\",sheet_name=\"Sheet1\")\n",
    "new_data.count()"
   ]
  },
  {
   "cell_type": "code",
   "execution_count": 11,
   "metadata": {},
   "outputs": [
    {
     "data": {
      "text/html": [
       "<div>\n",
       "<style scoped>\n",
       "    .dataframe tbody tr th:only-of-type {\n",
       "        vertical-align: middle;\n",
       "    }\n",
       "\n",
       "    .dataframe tbody tr th {\n",
       "        vertical-align: top;\n",
       "    }\n",
       "\n",
       "    .dataframe thead th {\n",
       "        text-align: right;\n",
       "    }\n",
       "</style>\n",
       "<table border=\"1\" class=\"dataframe\">\n",
       "  <thead>\n",
       "    <tr style=\"text-align: right;\">\n",
       "      <th></th>\n",
       "      <th>PH</th>\n",
       "      <th>EC</th>\n",
       "      <th>TH</th>\n",
       "      <th>TOT_ALKALINITY</th>\n",
       "      <th>FLUORIDE</th>\n",
       "    </tr>\n",
       "  </thead>\n",
       "  <tbody>\n",
       "    <tr>\n",
       "      <th>0</th>\n",
       "      <td>8.34</td>\n",
       "      <td>355</td>\n",
       "      <td>130</td>\n",
       "      <td>160.0</td>\n",
       "      <td>0.37</td>\n",
       "    </tr>\n",
       "    <tr>\n",
       "      <th>1</th>\n",
       "      <td>8.46</td>\n",
       "      <td>596</td>\n",
       "      <td>120</td>\n",
       "      <td>205.0</td>\n",
       "      <td>0.24</td>\n",
       "    </tr>\n",
       "    <tr>\n",
       "      <th>2</th>\n",
       "      <td>8.11</td>\n",
       "      <td>394</td>\n",
       "      <td>160</td>\n",
       "      <td>155.0</td>\n",
       "      <td>0.96</td>\n",
       "    </tr>\n",
       "    <tr>\n",
       "      <th>3</th>\n",
       "      <td>7.89</td>\n",
       "      <td>448</td>\n",
       "      <td>200</td>\n",
       "      <td>200.0</td>\n",
       "      <td>1.02</td>\n",
       "    </tr>\n",
       "    <tr>\n",
       "      <th>4</th>\n",
       "      <td>8.01</td>\n",
       "      <td>309</td>\n",
       "      <td>125</td>\n",
       "      <td>130.0</td>\n",
       "      <td>0.74</td>\n",
       "    </tr>\n",
       "  </tbody>\n",
       "</table>\n",
       "</div>"
      ],
      "text/plain": [
       "     PH   EC   TH  TOT_ALKALINITY FLUORIDE\n",
       "0  8.34  355  130           160.0     0.37\n",
       "1  8.46  596  120           205.0     0.24\n",
       "2  8.11  394  160           155.0     0.96\n",
       "3  7.89  448  200           200.0     1.02\n",
       "4  8.01  309  125           130.0     0.74"
      ]
     },
     "execution_count": 11,
     "metadata": {},
     "output_type": "execute_result"
    }
   ],
   "source": [
    "new_data.head()"
   ]
  },
  {
   "cell_type": "code",
   "execution_count": 12,
   "metadata": {},
   "outputs": [
    {
     "data": {
      "text/html": [
       "<div>\n",
       "<style scoped>\n",
       "    .dataframe tbody tr th:only-of-type {\n",
       "        vertical-align: middle;\n",
       "    }\n",
       "\n",
       "    .dataframe tbody tr th {\n",
       "        vertical-align: top;\n",
       "    }\n",
       "\n",
       "    .dataframe thead th {\n",
       "        text-align: right;\n",
       "    }\n",
       "</style>\n",
       "<table border=\"1\" class=\"dataframe\">\n",
       "  <thead>\n",
       "    <tr style=\"text-align: right;\">\n",
       "      <th></th>\n",
       "      <th>TOT_ALKALINITY</th>\n",
       "    </tr>\n",
       "  </thead>\n",
       "  <tbody>\n",
       "    <tr>\n",
       "      <th>count</th>\n",
       "      <td>53287.000000</td>\n",
       "    </tr>\n",
       "    <tr>\n",
       "      <th>mean</th>\n",
       "      <td>215.322566</td>\n",
       "    </tr>\n",
       "    <tr>\n",
       "      <th>std</th>\n",
       "      <td>173.485726</td>\n",
       "    </tr>\n",
       "    <tr>\n",
       "      <th>min</th>\n",
       "      <td>0.000000</td>\n",
       "    </tr>\n",
       "    <tr>\n",
       "      <th>25%</th>\n",
       "      <td>100.000000</td>\n",
       "    </tr>\n",
       "    <tr>\n",
       "      <th>50%</th>\n",
       "      <td>190.160000</td>\n",
       "    </tr>\n",
       "    <tr>\n",
       "      <th>75%</th>\n",
       "      <td>300.000000</td>\n",
       "    </tr>\n",
       "    <tr>\n",
       "      <th>max</th>\n",
       "      <td>7909.840000</td>\n",
       "    </tr>\n",
       "  </tbody>\n",
       "</table>\n",
       "</div>"
      ],
      "text/plain": [
       "       TOT_ALKALINITY\n",
       "count    53287.000000\n",
       "mean       215.322566\n",
       "std        173.485726\n",
       "min          0.000000\n",
       "25%        100.000000\n",
       "50%        190.160000\n",
       "75%        300.000000\n",
       "max       7909.840000"
      ]
     },
     "execution_count": 12,
     "metadata": {},
     "output_type": "execute_result"
    }
   ],
   "source": [
    "new_data.describe()"
   ]
  },
  {
   "cell_type": "code",
   "execution_count": 13,
   "metadata": {},
   "outputs": [
    {
     "data": {
      "text/plain": [
       "(85197, 5)"
      ]
     },
     "execution_count": 13,
     "metadata": {},
     "output_type": "execute_result"
    }
   ],
   "source": [
    "new_data.shape"
   ]
  },
  {
   "cell_type": "markdown",
   "metadata": {},
   "source": [
    "> Now we will drop rows where any cell is Na"
   ]
  },
  {
   "cell_type": "code",
   "execution_count": 14,
   "metadata": {},
   "outputs": [],
   "source": [
    "# new_data = new_data.dropna(subset=[\"FLUORIDE\"])\n",
    "new_data = new_data.dropna(axis=0)"
   ]
  },
  {
   "cell_type": "code",
   "execution_count": 15,
   "metadata": {},
   "outputs": [
    {
     "data": {
      "text/plain": [
       "(50088, 5)"
      ]
     },
     "execution_count": 15,
     "metadata": {},
     "output_type": "execute_result"
    }
   ],
   "source": [
    "new_data.shape"
   ]
  },
  {
   "cell_type": "code",
   "execution_count": 16,
   "metadata": {},
   "outputs": [
    {
     "data": {
      "text/plain": [
       "0"
      ]
     },
     "execution_count": 16,
     "metadata": {},
     "output_type": "execute_result"
    }
   ],
   "source": [
    "new_data['PH'].isna().sum()"
   ]
  },
  {
   "cell_type": "code",
   "execution_count": 17,
   "metadata": {},
   "outputs": [
    {
     "data": {
      "text/plain": [
       "0"
      ]
     },
     "execution_count": 17,
     "metadata": {},
     "output_type": "execute_result"
    }
   ],
   "source": [
    "new_data['EC'].isna().sum()"
   ]
  },
  {
   "cell_type": "code",
   "execution_count": 18,
   "metadata": {},
   "outputs": [
    {
     "data": {
      "text/plain": [
       "0"
      ]
     },
     "execution_count": 18,
     "metadata": {},
     "output_type": "execute_result"
    }
   ],
   "source": [
    "new_data['TH'].isna().sum()"
   ]
  },
  {
   "cell_type": "code",
   "execution_count": 19,
   "metadata": {},
   "outputs": [
    {
     "data": {
      "text/plain": [
       "0"
      ]
     },
     "execution_count": 19,
     "metadata": {},
     "output_type": "execute_result"
    }
   ],
   "source": [
    "\n",
    "new_data['TOT_ALKALINITY'].isna().sum()"
   ]
  },
  {
   "cell_type": "code",
   "execution_count": 20,
   "metadata": {},
   "outputs": [
    {
     "data": {
      "text/plain": [
       "0"
      ]
     },
     "execution_count": 20,
     "metadata": {},
     "output_type": "execute_result"
    }
   ],
   "source": [
    "new_data['FLUORIDE'].isna().sum()"
   ]
  },
  {
   "cell_type": "code",
   "execution_count": 21,
   "metadata": {},
   "outputs": [
    {
     "data": {
      "text/plain": [
       "PH                50088\n",
       "EC                50088\n",
       "TH                50088\n",
       "TOT_ALKALINITY    50088\n",
       "FLUORIDE          50088\n",
       "dtype: int64"
      ]
     },
     "execution_count": 21,
     "metadata": {},
     "output_type": "execute_result"
    }
   ],
   "source": [
    "new_data.count()"
   ]
  },
  {
   "cell_type": "markdown",
   "metadata": {},
   "source": [
    "# ***Now our data is ready to go further***"
   ]
  },
  {
   "cell_type": "code",
   "execution_count": 22,
   "metadata": {},
   "outputs": [],
   "source": [
    "# neww_data.to_excel(\"a.xlsx\",sheet_name='Sheet1')"
   ]
  },
  {
   "cell_type": "code",
   "execution_count": 23,
   "metadata": {},
   "outputs": [],
   "source": [
    "new_data = new_data.astype(float)"
   ]
  },
  {
   "cell_type": "code",
   "execution_count": 24,
   "metadata": {},
   "outputs": [],
   "source": [
    "correlation_matrix = new_data.corr()"
   ]
  },
  {
   "cell_type": "code",
   "execution_count": 25,
   "metadata": {},
   "outputs": [
    {
     "data": {
      "text/html": [
       "<div>\n",
       "<style scoped>\n",
       "    .dataframe tbody tr th:only-of-type {\n",
       "        vertical-align: middle;\n",
       "    }\n",
       "\n",
       "    .dataframe tbody tr th {\n",
       "        vertical-align: top;\n",
       "    }\n",
       "\n",
       "    .dataframe thead th {\n",
       "        text-align: right;\n",
       "    }\n",
       "</style>\n",
       "<table border=\"1\" class=\"dataframe\">\n",
       "  <thead>\n",
       "    <tr style=\"text-align: right;\">\n",
       "      <th></th>\n",
       "      <th>PH</th>\n",
       "      <th>EC</th>\n",
       "      <th>TH</th>\n",
       "      <th>TOT_ALKALINITY</th>\n",
       "      <th>FLUORIDE</th>\n",
       "    </tr>\n",
       "  </thead>\n",
       "  <tbody>\n",
       "    <tr>\n",
       "      <th>PH</th>\n",
       "      <td>1.000000</td>\n",
       "      <td>-0.000904</td>\n",
       "      <td>-0.001070</td>\n",
       "      <td>-0.003723</td>\n",
       "      <td>0.000924</td>\n",
       "    </tr>\n",
       "    <tr>\n",
       "      <th>EC</th>\n",
       "      <td>-0.000904</td>\n",
       "      <td>1.000000</td>\n",
       "      <td>0.807535</td>\n",
       "      <td>0.382506</td>\n",
       "      <td>0.177941</td>\n",
       "    </tr>\n",
       "    <tr>\n",
       "      <th>TH</th>\n",
       "      <td>-0.001070</td>\n",
       "      <td>0.807535</td>\n",
       "      <td>1.000000</td>\n",
       "      <td>0.247336</td>\n",
       "      <td>0.069550</td>\n",
       "    </tr>\n",
       "    <tr>\n",
       "      <th>TOT_ALKALINITY</th>\n",
       "      <td>-0.003723</td>\n",
       "      <td>0.382506</td>\n",
       "      <td>0.247336</td>\n",
       "      <td>1.000000</td>\n",
       "      <td>0.234856</td>\n",
       "    </tr>\n",
       "    <tr>\n",
       "      <th>FLUORIDE</th>\n",
       "      <td>0.000924</td>\n",
       "      <td>0.177941</td>\n",
       "      <td>0.069550</td>\n",
       "      <td>0.234856</td>\n",
       "      <td>1.000000</td>\n",
       "    </tr>\n",
       "  </tbody>\n",
       "</table>\n",
       "</div>"
      ],
      "text/plain": [
       "                      PH        EC        TH  TOT_ALKALINITY  FLUORIDE\n",
       "PH              1.000000 -0.000904 -0.001070       -0.003723  0.000924\n",
       "EC             -0.000904  1.000000  0.807535        0.382506  0.177941\n",
       "TH             -0.001070  0.807535  1.000000        0.247336  0.069550\n",
       "TOT_ALKALINITY -0.003723  0.382506  0.247336        1.000000  0.234856\n",
       "FLUORIDE        0.000924  0.177941  0.069550        0.234856  1.000000"
      ]
     },
     "execution_count": 25,
     "metadata": {},
     "output_type": "execute_result"
    }
   ],
   "source": [
    "correlation_matrix"
   ]
  },
  {
   "cell_type": "code",
   "execution_count": 26,
   "metadata": {},
   "outputs": [
    {
     "data": {
      "text/plain": [
       "PH                0.000924\n",
       "EC                0.177941\n",
       "TH                0.069550\n",
       "TOT_ALKALINITY    0.234856\n",
       "FLUORIDE          1.000000\n",
       "Name: FLUORIDE, dtype: float64"
      ]
     },
     "execution_count": 26,
     "metadata": {},
     "output_type": "execute_result"
    }
   ],
   "source": [
    "correlation_matrix['FLUORIDE']"
   ]
  },
  {
   "cell_type": "code",
   "execution_count": 27,
   "metadata": {},
   "outputs": [
    {
     "name": "stdout",
     "output_type": "stream",
     "text": [
      "<class 'pandas.core.frame.DataFrame'>\n",
      "Int64Index: 50088 entries, 0 to 85196\n",
      "Data columns (total 5 columns):\n",
      " #   Column          Non-Null Count  Dtype  \n",
      "---  ------          --------------  -----  \n",
      " 0   PH              50088 non-null  float64\n",
      " 1   EC              50088 non-null  float64\n",
      " 2   TH              50088 non-null  float64\n",
      " 3   TOT_ALKALINITY  50088 non-null  float64\n",
      " 4   FLUORIDE        50088 non-null  float64\n",
      "dtypes: float64(5)\n",
      "memory usage: 2.3 MB\n"
     ]
    }
   ],
   "source": [
    "new_data.info()"
   ]
  },
  {
   "cell_type": "markdown",
   "metadata": {},
   "source": [
    "# Finding correlation between flurine, sodium , carbonate , bicarbonate"
   ]
  },
  {
   "cell_type": "code",
   "execution_count": 28,
   "metadata": {},
   "outputs": [],
   "source": [
    "new_data_2 = data.filter(['CARBONATE','BICARBONATE','CHLORIDE','SULPHATE','FLUORIDE'], axis=1)"
   ]
  },
  {
   "cell_type": "code",
   "execution_count": 29,
   "metadata": {},
   "outputs": [
    {
     "data": {
      "text/html": [
       "<div>\n",
       "<style scoped>\n",
       "    .dataframe tbody tr th:only-of-type {\n",
       "        vertical-align: middle;\n",
       "    }\n",
       "\n",
       "    .dataframe tbody tr th {\n",
       "        vertical-align: top;\n",
       "    }\n",
       "\n",
       "    .dataframe thead th {\n",
       "        text-align: right;\n",
       "    }\n",
       "</style>\n",
       "<table border=\"1\" class=\"dataframe\">\n",
       "  <thead>\n",
       "    <tr style=\"text-align: right;\">\n",
       "      <th></th>\n",
       "      <th>CARBONATE</th>\n",
       "      <th>BICARBONATE</th>\n",
       "      <th>CHLORIDE</th>\n",
       "      <th>SULPHATE</th>\n",
       "      <th>FLUORIDE</th>\n",
       "    </tr>\n",
       "  </thead>\n",
       "  <tbody>\n",
       "    <tr>\n",
       "      <th>0</th>\n",
       "      <td>12</td>\n",
       "      <td>170.8</td>\n",
       "      <td>17.725</td>\n",
       "      <td>3.21</td>\n",
       "      <td>0.37</td>\n",
       "    </tr>\n",
       "    <tr>\n",
       "      <th>1</th>\n",
       "      <td>18</td>\n",
       "      <td>213.5</td>\n",
       "      <td>38.995</td>\n",
       "      <td>46.22</td>\n",
       "      <td>0.24</td>\n",
       "    </tr>\n",
       "    <tr>\n",
       "      <th>2</th>\n",
       "      <td>0</td>\n",
       "      <td>189.1</td>\n",
       "      <td>17.725</td>\n",
       "      <td>30.46</td>\n",
       "      <td>0.96</td>\n",
       "    </tr>\n",
       "    <tr>\n",
       "      <th>3</th>\n",
       "      <td>0</td>\n",
       "      <td>244</td>\n",
       "      <td>17.725</td>\n",
       "      <td>13.34</td>\n",
       "      <td>1.02</td>\n",
       "    </tr>\n",
       "    <tr>\n",
       "      <th>4</th>\n",
       "      <td>0</td>\n",
       "      <td>158.6</td>\n",
       "      <td>14.18</td>\n",
       "      <td>13.37</td>\n",
       "      <td>0.74</td>\n",
       "    </tr>\n",
       "    <tr>\n",
       "      <th>...</th>\n",
       "      <td>...</td>\n",
       "      <td>...</td>\n",
       "      <td>...</td>\n",
       "      <td>...</td>\n",
       "      <td>...</td>\n",
       "    </tr>\n",
       "    <tr>\n",
       "      <th>85192</th>\n",
       "      <td>0</td>\n",
       "      <td>73.2</td>\n",
       "      <td>10.665</td>\n",
       "      <td>0</td>\n",
       "      <td>0</td>\n",
       "    </tr>\n",
       "    <tr>\n",
       "      <th>85193</th>\n",
       "      <td>0</td>\n",
       "      <td>79.3</td>\n",
       "      <td>85.32</td>\n",
       "      <td>27</td>\n",
       "      <td>0.05</td>\n",
       "    </tr>\n",
       "    <tr>\n",
       "      <th>85194</th>\n",
       "      <td>0</td>\n",
       "      <td>67.1</td>\n",
       "      <td>78.21</td>\n",
       "      <td>97</td>\n",
       "      <td>0.38</td>\n",
       "    </tr>\n",
       "    <tr>\n",
       "      <th>85195</th>\n",
       "      <td>0</td>\n",
       "      <td>24.4</td>\n",
       "      <td>7.11</td>\n",
       "      <td>0</td>\n",
       "      <td>0</td>\n",
       "    </tr>\n",
       "    <tr>\n",
       "      <th>85196</th>\n",
       "      <td>0</td>\n",
       "      <td>158.6</td>\n",
       "      <td>85.32</td>\n",
       "      <td>16</td>\n",
       "      <td>0.34</td>\n",
       "    </tr>\n",
       "  </tbody>\n",
       "</table>\n",
       "<p>85197 rows × 5 columns</p>\n",
       "</div>"
      ],
      "text/plain": [
       "      CARBONATE BICARBONATE CHLORIDE SULPHATE FLUORIDE\n",
       "0            12       170.8   17.725     3.21     0.37\n",
       "1            18       213.5   38.995    46.22     0.24\n",
       "2             0       189.1   17.725    30.46     0.96\n",
       "3             0         244   17.725    13.34     1.02\n",
       "4             0       158.6    14.18    13.37     0.74\n",
       "...         ...         ...      ...      ...      ...\n",
       "85192         0        73.2   10.665        0        0\n",
       "85193         0        79.3    85.32       27     0.05\n",
       "85194         0        67.1    78.21       97     0.38\n",
       "85195         0        24.4     7.11        0        0\n",
       "85196         0       158.6    85.32       16     0.34\n",
       "\n",
       "[85197 rows x 5 columns]"
      ]
     },
     "execution_count": 29,
     "metadata": {},
     "output_type": "execute_result"
    }
   ],
   "source": [
    "new_data_2"
   ]
  },
  {
   "cell_type": "code",
   "execution_count": 30,
   "metadata": {},
   "outputs": [],
   "source": [
    "# new_data_2.to_excel('CBSClFl.xlsx',sheet_name='Sheet1')"
   ]
  },
  {
   "cell_type": "code",
   "execution_count": 54,
   "metadata": {},
   "outputs": [],
   "source": [
    "car_bicar_data = pd.read_excel(\"CBSClFl.xlsx\",sheet_name=\"Sheet1\")"
   ]
  },
  {
   "cell_type": "code",
   "execution_count": 57,
   "metadata": {},
   "outputs": [
    {
     "name": "stdout",
     "output_type": "stream",
     "text": [
      "<class 'pandas.core.frame.DataFrame'>\n",
      "RangeIndex: 85197 entries, 0 to 85196\n",
      "Data columns (total 5 columns):\n",
      " #   Column       Non-Null Count  Dtype  \n",
      "---  ------       --------------  -----  \n",
      " 0   CARBONATE    62599 non-null  float64\n",
      " 1   BICARBONATE  73668 non-null  float64\n",
      " 2   CHLORIDE     81552 non-null  float64\n",
      " 3   SULPHATE     71321 non-null  float64\n",
      " 4   FLUORIDE     79560 non-null  float64\n",
      "dtypes: float64(5)\n",
      "memory usage: 3.3 MB\n"
     ]
    }
   ],
   "source": [
    "car_bicar_data.info()"
   ]
  },
  {
   "cell_type": "code",
   "execution_count": 59,
   "metadata": {},
   "outputs": [
    {
     "data": {
      "text/html": [
       "<div>\n",
       "<style scoped>\n",
       "    .dataframe tbody tr th:only-of-type {\n",
       "        vertical-align: middle;\n",
       "    }\n",
       "\n",
       "    .dataframe tbody tr th {\n",
       "        vertical-align: top;\n",
       "    }\n",
       "\n",
       "    .dataframe thead th {\n",
       "        text-align: right;\n",
       "    }\n",
       "</style>\n",
       "<table border=\"1\" class=\"dataframe\">\n",
       "  <thead>\n",
       "    <tr style=\"text-align: right;\">\n",
       "      <th></th>\n",
       "      <th>CARBONATE</th>\n",
       "      <th>BICARBONATE</th>\n",
       "      <th>CHLORIDE</th>\n",
       "      <th>SULPHATE</th>\n",
       "      <th>FLUORIDE</th>\n",
       "    </tr>\n",
       "  </thead>\n",
       "  <tbody>\n",
       "    <tr>\n",
       "      <th>CARBONATE</th>\n",
       "      <td>1.000000</td>\n",
       "      <td>-0.015421</td>\n",
       "      <td>0.023876</td>\n",
       "      <td>0.084410</td>\n",
       "      <td>0.139810</td>\n",
       "    </tr>\n",
       "    <tr>\n",
       "      <th>BICARBONATE</th>\n",
       "      <td>-0.015421</td>\n",
       "      <td>1.000000</td>\n",
       "      <td>0.248974</td>\n",
       "      <td>0.211581</td>\n",
       "      <td>0.213584</td>\n",
       "    </tr>\n",
       "    <tr>\n",
       "      <th>CHLORIDE</th>\n",
       "      <td>0.023876</td>\n",
       "      <td>0.248974</td>\n",
       "      <td>1.000000</td>\n",
       "      <td>0.571526</td>\n",
       "      <td>0.117136</td>\n",
       "    </tr>\n",
       "    <tr>\n",
       "      <th>SULPHATE</th>\n",
       "      <td>0.084410</td>\n",
       "      <td>0.211581</td>\n",
       "      <td>0.571526</td>\n",
       "      <td>1.000000</td>\n",
       "      <td>0.151797</td>\n",
       "    </tr>\n",
       "    <tr>\n",
       "      <th>FLUORIDE</th>\n",
       "      <td>0.139810</td>\n",
       "      <td>0.213584</td>\n",
       "      <td>0.117136</td>\n",
       "      <td>0.151797</td>\n",
       "      <td>1.000000</td>\n",
       "    </tr>\n",
       "  </tbody>\n",
       "</table>\n",
       "</div>"
      ],
      "text/plain": [
       "             CARBONATE  BICARBONATE  CHLORIDE  SULPHATE  FLUORIDE\n",
       "CARBONATE     1.000000    -0.015421  0.023876  0.084410  0.139810\n",
       "BICARBONATE  -0.015421     1.000000  0.248974  0.211581  0.213584\n",
       "CHLORIDE      0.023876     0.248974  1.000000  0.571526  0.117136\n",
       "SULPHATE      0.084410     0.211581  0.571526  1.000000  0.151797\n",
       "FLUORIDE      0.139810     0.213584  0.117136  0.151797  1.000000"
      ]
     },
     "execution_count": 59,
     "metadata": {},
     "output_type": "execute_result"
    }
   ],
   "source": [
    "correlation_matrix = car_bicar_data.corr()\n",
    "correlation_matrix"
   ]
  },
  {
   "cell_type": "code",
   "execution_count": 60,
   "metadata": {},
   "outputs": [
    {
     "data": {
      "text/plain": [
       "CARBONATE      62599\n",
       "BICARBONATE    73668\n",
       "CHLORIDE       81552\n",
       "SULPHATE       71321\n",
       "FLUORIDE       79560\n",
       "dtype: int64"
      ]
     },
     "execution_count": 60,
     "metadata": {},
     "output_type": "execute_result"
    }
   ],
   "source": [
    "car_bicar_data.count()"
   ]
  },
  {
   "cell_type": "markdown",
   "metadata": {},
   "source": [
    "## After removing rows in which black cells are there"
   ]
  },
  {
   "cell_type": "code",
   "execution_count": 61,
   "metadata": {},
   "outputs": [
    {
     "data": {
      "text/plain": [
       "CARBONATE      57669\n",
       "BICARBONATE    57669\n",
       "CHLORIDE       57669\n",
       "SULPHATE       57669\n",
       "FLUORIDE       57669\n",
       "dtype: int64"
      ]
     },
     "execution_count": 61,
     "metadata": {},
     "output_type": "execute_result"
    }
   ],
   "source": [
    "car_bicar_data = car_bicar_data.dropna(axis=0)\n",
    "car_bicar_data.count()"
   ]
  },
  {
   "cell_type": "code",
   "execution_count": 62,
   "metadata": {},
   "outputs": [
    {
     "data": {
      "text/html": [
       "<div>\n",
       "<style scoped>\n",
       "    .dataframe tbody tr th:only-of-type {\n",
       "        vertical-align: middle;\n",
       "    }\n",
       "\n",
       "    .dataframe tbody tr th {\n",
       "        vertical-align: top;\n",
       "    }\n",
       "\n",
       "    .dataframe thead th {\n",
       "        text-align: right;\n",
       "    }\n",
       "</style>\n",
       "<table border=\"1\" class=\"dataframe\">\n",
       "  <thead>\n",
       "    <tr style=\"text-align: right;\">\n",
       "      <th></th>\n",
       "      <th>CARBONATE</th>\n",
       "      <th>BICARBONATE</th>\n",
       "      <th>CHLORIDE</th>\n",
       "      <th>SULPHATE</th>\n",
       "      <th>FLUORIDE</th>\n",
       "    </tr>\n",
       "  </thead>\n",
       "  <tbody>\n",
       "    <tr>\n",
       "      <th>CARBONATE</th>\n",
       "      <td>1.000000</td>\n",
       "      <td>-0.011019</td>\n",
       "      <td>0.025762</td>\n",
       "      <td>0.084914</td>\n",
       "      <td>0.142992</td>\n",
       "    </tr>\n",
       "    <tr>\n",
       "      <th>BICARBONATE</th>\n",
       "      <td>-0.011019</td>\n",
       "      <td>1.000000</td>\n",
       "      <td>0.244760</td>\n",
       "      <td>0.204077</td>\n",
       "      <td>0.216626</td>\n",
       "    </tr>\n",
       "    <tr>\n",
       "      <th>CHLORIDE</th>\n",
       "      <td>0.025762</td>\n",
       "      <td>0.244760</td>\n",
       "      <td>1.000000</td>\n",
       "      <td>0.568706</td>\n",
       "      <td>0.125026</td>\n",
       "    </tr>\n",
       "    <tr>\n",
       "      <th>SULPHATE</th>\n",
       "      <td>0.084914</td>\n",
       "      <td>0.204077</td>\n",
       "      <td>0.568706</td>\n",
       "      <td>1.000000</td>\n",
       "      <td>0.156154</td>\n",
       "    </tr>\n",
       "    <tr>\n",
       "      <th>FLUORIDE</th>\n",
       "      <td>0.142992</td>\n",
       "      <td>0.216626</td>\n",
       "      <td>0.125026</td>\n",
       "      <td>0.156154</td>\n",
       "      <td>1.000000</td>\n",
       "    </tr>\n",
       "  </tbody>\n",
       "</table>\n",
       "</div>"
      ],
      "text/plain": [
       "             CARBONATE  BICARBONATE  CHLORIDE  SULPHATE  FLUORIDE\n",
       "CARBONATE     1.000000    -0.011019  0.025762  0.084914  0.142992\n",
       "BICARBONATE  -0.011019     1.000000  0.244760  0.204077  0.216626\n",
       "CHLORIDE      0.025762     0.244760  1.000000  0.568706  0.125026\n",
       "SULPHATE      0.084914     0.204077  0.568706  1.000000  0.156154\n",
       "FLUORIDE      0.142992     0.216626  0.125026  0.156154  1.000000"
      ]
     },
     "execution_count": 62,
     "metadata": {},
     "output_type": "execute_result"
    }
   ],
   "source": [
    "correlation_matrix = car_bicar_data.corr()\n",
    "correlation_matrix"
   ]
  },
  {
   "cell_type": "code",
   "execution_count": 63,
   "metadata": {},
   "outputs": [],
   "source": [
    "# old correlation\n",
    "#               CARBONATE\tBICARBONATE\t    CHLORIDE\tSULPHATE\tFLUORIDE\n",
    "# CARBONATE\t    1.000000\t-0.015421\t    0.023876\t0.084410\t0.139810\n",
    "# BICARBONATE\t-0.015421\t1.000000\t    0.248974\t0.211581\t0.213584\n",
    "# CHLORIDE\t    0.023876\t0.248974\t    1.000000\t0.571526\t0.117136\n",
    "# SULPHATE\t    0.084410\t0.211581\t    0.571526\t1.000000\t0.151797\n",
    "# FLUORIDE\t    0.139810\t0.213584\t    0.117136\t0.151797\t1.000000"
   ]
  },
  {
   "cell_type": "code",
   "execution_count": null,
   "metadata": {},
   "outputs": [],
   "source": []
  }
 ],
 "metadata": {
  "interpreter": {
   "hash": "511af204477f64cd3f86470125d8547560b6bd106e7b0ab2f429ad15e1c7f50a"
  },
  "kernelspec": {
   "display_name": "Python 3 (ipykernel)",
   "language": "python",
   "name": "python3"
  },
  "language_info": {
   "codemirror_mode": {
    "name": "ipython",
    "version": 3
   },
   "file_extension": ".py",
   "mimetype": "text/x-python",
   "name": "python",
   "nbconvert_exporter": "python",
   "pygments_lexer": "ipython3",
   "version": "3.9.2"
  }
 },
 "nbformat": 4,
 "nbformat_minor": 2
}
